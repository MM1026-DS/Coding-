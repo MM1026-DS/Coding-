{
 "cells": [
  {
   "cell_type": "code",
   "execution_count": 2,
   "metadata": {},
   "outputs": [
    {
     "name": "stdin",
     "output_type": "stream",
     "text": [
      " 1\n",
      " 3\n",
      " 5\n"
     ]
    },
    {
     "name": "stdout",
     "output_type": "stream",
     "text": [
      "2\n"
     ]
    }
   ],
   "source": [
    "# Write your code here\n",
    "\n",
    "\n",
    "def Arithmetic_Progression_cal(mark1,mark2,mark3):\n",
    "    try:\n",
    "        mark1 = int(mark1)\n",
    "        mark2 = int(mark2)\n",
    "        mark3 = int(mark3)\n",
    "    except:\n",
    "        print(\"Number is not in the proper format\")\n",
    "        \n",
    "    \n",
    "    d1 = mark2 - mark1\n",
    "    d2 = mark3 - mark2\n",
    "    \n",
    "    if d1==d2:\n",
    "        return d2\n",
    "    return \"Not is A.P\"\n",
    "    \n",
    "\n",
    "\n",
    "if __name__ == \"__main__\":\n",
    "    mark1 = int(input()\n",
    "    mark2 = int(input())\n",
    "    mark3 = int(input())\n",
    "    \n",
    "    print(Arithmetic_Progression_cal(mark1,mark2,mark3))"
   ]
  },
  {
   "cell_type": "code",
   "execution_count": 13,
   "metadata": {},
   "outputs": [
    {
     "name": "stdin",
     "output_type": "stream",
     "text": [
      " 4459\n"
     ]
    },
    {
     "name": "stdout",
     "output_type": "stream",
     "text": [
      "8 14\n",
      "\n"
     ]
    }
   ],
   "source": [
    "\n",
    "## odd_even sum from the num\n",
    "def odd_even_sum(n):\n",
    "    odd_sum = 0\n",
    "    even_sum = 0\n",
    "    for num in n:\n",
    "        if int(num)%2==0:\n",
    "            even_sum+=int(num)\n",
    "        else:\n",
    "            odd_sum+=int(num)\n",
    "    print(even_sum ,end = ' ')\n",
    "    print(odd_sum )\n",
    "    return''\n",
    "\n",
    "if __name__ == \"__main__\":\n",
    "    n = input()\n",
    "    print(odd_even_sum(n))"
   ]
  },
  {
   "cell_type": "code",
   "execution_count": 24,
   "metadata": {},
   "outputs": [
    {
     "name": "stdin",
     "output_type": "stream",
     "text": [
      " 4\n"
     ]
    },
    {
     "name": "stdout",
     "output_type": "stream",
     "text": [
      "3\n"
     ]
    }
   ],
   "source": [
    "def fib(n):\n",
    "    if n==0:\n",
    "        return 0\n",
    "    if n ==1 or n==2:\n",
    "        return 1\n",
    "    \n",
    "    return fib(n-1) + fib(n-2)\n",
    "#     return n\n",
    "n = int(input())\n",
    "print(fib(n))"
   ]
  },
  {
   "cell_type": "code",
   "execution_count": 30,
   "metadata": {},
   "outputs": [
    {
     "name": "stdin",
     "output_type": "stream",
     "text": [
      " 5\n"
     ]
    },
    {
     "name": "stdout",
     "output_type": "stream",
     "text": [
      "5\n"
     ]
    }
   ],
   "source": [
    "## Read input as specified in the question.\n",
    "## Print output as specified in the question.\n",
    "def fib(n):\n",
    "    if n==1:\n",
    "        return 1\n",
    "    lst = [0]*n\n",
    "    lst[0] = 1\n",
    "    lst[1] = 1\n",
    "    for i in range(2,n):\n",
    "        lst[i] = lst[i-1] + lst[i-2]\n",
    "    return lst[-1]\n",
    "    \n",
    "    \n",
    "   \n",
    "n = int(input())\n",
    "print(fib(n))"
   ]
  },
  {
   "cell_type": "code",
   "execution_count": 31,
   "metadata": {},
   "outputs": [],
   "source": [
    "# ## Read input as specified in the question.\n",
    "# ## Print output as specified in the question.\n",
    "# def fib(n):\n",
    "#     fib_lst = [1,1]\n",
    "#     if n==0:\n",
    "#         return 0\n",
    "#     if n ==1 or n==2:\n",
    "#         return 1\n",
    "#     temp_fst = fib(n-1) + fib(n-2)\n",
    "#     fib_lst.append(temp_fst)\n",
    "#     return fib_lst\n",
    "# #     return n\n",
    "# n = int(input())\n",
    "# print(fib(n))"
   ]
  },
  {
   "cell_type": "code",
   "execution_count": 30,
   "metadata": {},
   "outputs": [
    {
     "name": "stdin",
     "output_type": "stream",
     "text": [
      " 20\n",
      " 119\n",
      " 13\n"
     ]
    },
    {
     "name": "stdout",
     "output_type": "stream",
     "text": [
      "20\t-6\n",
      "20\t-7\n",
      "33\t0\n",
      "46\t7\n",
      "59\t15\n",
      "72\t22\n",
      "85\t29\n",
      "98\t36\n",
      "111\t43\n",
      "\n"
     ]
    }
   ],
   "source": [
    "# Read input as sepcified in the question\n",
    "# Print output as specified in the question\n",
    "\n",
    "import math\n",
    "def fahrenheit_Celsius(S,E,W):\n",
    "    Fahrenheit_Temp = S\n",
    "    while Fahrenheit_Temp <= E:\n",
    "        Celsius_Temp = (Fahrenheit_Temp -32) * 5 / 9\n",
    "        if Celsius_Temp <0:\n",
    "            print(Fahrenheit_Temp,end=\" \")\n",
    "            print(math.ceil(Celsius_Temp))\n",
    "            Fahrenheit_Temp+=W\n",
    "        else:\n",
    "            print(Fahrenheit_Temp , end=\" \")\n",
    "            print(math.floor(Celsius_Temp))\n",
    "            Fahrenheit_Temp+=W\n",
    "    return''\n",
    "\n",
    "if __name__ == \"__main__\":\n",
    "    S = int(input())\n",
    "    E = int(input())\n",
    "    W = int(input())\n",
    "    \n",
    "    print(fahrenheit_Celsius(S,E,W))"
   ]
  },
  {
   "cell_type": "code",
   "execution_count": null,
   "metadata": {},
   "outputs": [],
   "source": []
  },
  {
   "cell_type": "code",
   "execution_count": 4,
   "metadata": {},
   "outputs": [
    {
     "name": "stdin",
     "output_type": "stream",
     "text": [
      " 1\n",
      " 2\n",
      " 4\n"
     ]
    },
    {
     "name": "stdout",
     "output_type": "stream",
     "text": [
      "6\n",
      "\n"
     ]
    },
    {
     "name": "stdin",
     "output_type": "stream",
     "text": [
      " 2\n",
      " 4\n",
      " 5\n"
     ]
    },
    {
     "name": "stdout",
     "output_type": "stream",
     "text": [
      "-1\n",
      "\n"
     ]
    },
    {
     "name": "stdin",
     "output_type": "stream",
     "text": [
      " 7\n"
     ]
    },
    {
     "name": "stdout",
     "output_type": "stream",
     "text": [
      "Invalid operation\n",
      "\n"
     ]
    },
    {
     "name": "stdin",
     "output_type": "stream",
     "text": [
      " 8\n"
     ]
    },
    {
     "name": "stdout",
     "output_type": "stream",
     "text": [
      "Invalid operation\n",
      "\n"
     ]
    },
    {
     "name": "stdin",
     "output_type": "stream",
     "text": [
      " 6\n"
     ]
    },
    {
     "name": "stdout",
     "output_type": "stream",
     "text": [
      "\n",
      "\n"
     ]
    }
   ],
   "source": [
    "def Calculator(n):\n",
    "    try:\n",
    "        n = int(n)\n",
    "    except:\n",
    "        print(\"Not proper format\")\n",
    "        \n",
    "    if n ==1:\n",
    "        num1 = int(input())\n",
    "        num2 = int(input())\n",
    "        print(num1+num2)\n",
    "    elif n ==2:\n",
    "        num1 = int(input())\n",
    "        num2 = int(input())\n",
    "        print(num1-num2)\n",
    "        \n",
    "    elif n ==3:\n",
    "        num1 = int(input())\n",
    "        num2 = int(input())\n",
    "        print(num1*num2)\n",
    "        \n",
    "    elif n == 4:\n",
    "        num1 = int(input())\n",
    "        num2 = int(input())\n",
    "        print(num1//num2)\n",
    "        \n",
    "    elif n == 5:\n",
    "        num1 = int(input())\n",
    "        num2 = int(input())\n",
    "        print(num1%num2)\n",
    "    elif n == 6:\n",
    "        exit()\n",
    "    else:\n",
    "        print(\"Invalid operation\")\n",
    "    return''\n",
    "        \n",
    "        \n",
    "if __name__ == '__main__':\n",
    "    flag = True\n",
    "    \n",
    "    while flag:\n",
    "        n = int(input())\n",
    "        if n==6:\n",
    "            flag = False\n",
    "            print(Calculator(n))\n",
    "        print(Calculator(n))\n",
    "        "
   ]
  },
  {
   "cell_type": "code",
   "execution_count": 9,
   "metadata": {},
   "outputs": [
    {
     "name": "stdin",
     "output_type": "stream",
     "text": [
      " 11099\n"
     ]
    },
    {
     "name": "stdout",
     "output_type": "stream",
     "text": [
      "99011\n"
     ]
    }
   ],
   "source": [
    "def reverse(num):\n",
    "    reverse = str(num)\n",
    "    reverse_num = int(reverse[::-1])\n",
    "    return reverse_num\n",
    "\n",
    "if __name__ == \"__main__\":\n",
    "    n = int(input())\n",
    "    print(reverse(n))"
   ]
  },
  {
   "cell_type": "code",
   "execution_count": 8,
   "metadata": {},
   "outputs": [
    {
     "name": "stdin",
     "output_type": "stream",
     "text": [
      " 10\n",
      " 10\n"
     ]
    },
    {
     "name": "stdout",
     "output_type": "stream",
     "text": [
      "55\n"
     ]
    }
   ],
   "source": [
    "# Read input as sepcified in the question\n",
    "# Print output as specified in the question\n",
    "\n",
    "\n",
    "def sum_numbers(n):\n",
    "    try:\n",
    "        n = int(input())\n",
    "        \n",
    "    except:\n",
    "        print(\"Number is not in proper format\")\n",
    "    sum_num = 0    \n",
    "    i = 1\n",
    "    while i<=n:\n",
    "        sum_num+=i\n",
    "        i+=1\n",
    "    return sum_num\n",
    "\n",
    "\n",
    "if __name__ == \"__main__\":\n",
    "    n = int(input())\n",
    "    print(sum_numbers(n))"
   ]
  },
  {
   "cell_type": "code",
   "execution_count": null,
   "metadata": {},
   "outputs": [],
   "source": [
    "\n",
    "def sum_even(n):\n",
    "    sum_val = 0\n",
    "    i = 1\n",
    "    try:\n",
    "        n = int(n)\n",
    "    except:\n",
    "        print(\"Number is not in the valid format\")\n",
    "    \n",
    "    while i<=n:\n",
    "        if i%2 == 0:\n",
    "            sum_val+=i\n",
    "#             i+=1\n",
    "        i+=1\n",
    "    return sum_val\n",
    "\n",
    "n = int(input())\n",
    "print(sum_even(n))"
   ]
  },
  {
   "cell_type": "code",
   "execution_count": 5,
   "metadata": {},
   "outputs": [
    {
     "name": "stdout",
     "output_type": "stream",
     "text": [
      "B\n"
     ]
    }
   ],
   "source": [
    "if (10 < 0) and (0 < -10):\n",
    "     print(\"A\")\n",
    "elif (10 > 0) or False:\n",
    "     print(\"B\")\n",
    "else:\n",
    "    print(\"C\")"
   ]
  },
  {
   "cell_type": "code",
   "execution_count": 7,
   "metadata": {},
   "outputs": [
    {
     "name": "stdout",
     "output_type": "stream",
     "text": [
      "B\n"
     ]
    }
   ],
   "source": [
    "if True or True:\n",
    "    if False and True or False:\n",
    "        print('A')\n",
    "    elif False and False or True and True:\n",
    "        print('B')\n",
    "    else:\n",
    "        print('C')\n",
    "else:\n",
    "     print('D')"
   ]
  },
  {
   "cell_type": "code",
   "execution_count": 38,
   "metadata": {},
   "outputs": [
    {
     "name": "stdin",
     "output_type": "stream",
     "text": [
      " 6\n"
     ]
    },
    {
     "name": "stdout",
     "output_type": "stream",
     "text": [
      "******\n",
      "******\n",
      "******\n",
      "******\n",
      "******\n",
      "******\n"
     ]
    }
   ],
   "source": [
    "def patteren(n):\n",
    "    i = 1\n",
    "    while i<=n:\n",
    "        j = 1\n",
    "        while j<=n:\n",
    "            print(\"*\",end = '')\n",
    "            j=j+1\n",
    "        print()\n",
    "        i = i+1\n",
    "    return\n",
    "\n",
    "n = int(input())\n",
    "patteren(n)"
   ]
  },
  {
   "cell_type": "code",
   "execution_count": 42,
   "metadata": {},
   "outputs": [
    {
     "name": "stdin",
     "output_type": "stream",
     "text": [
      " 4\n"
     ]
    },
    {
     "name": "stdout",
     "output_type": "stream",
     "text": [
      "4321\n",
      "4321\n",
      "4321\n",
      "4321\n"
     ]
    }
   ],
   "source": [
    "def patteren(n):\n",
    "    i = 1\n",
    "    while i<=n:\n",
    "        j = 1\n",
    "        while j<=n:\n",
    "            print(n+1-j,end = '')\n",
    "            j=j+1\n",
    "        print()\n",
    "        i = i+1\n",
    "    return\n",
    "\n",
    "n = int(input())\n",
    "patteren(n)"
   ]
  },
  {
   "cell_type": "code",
   "execution_count": 48,
   "metadata": {},
   "outputs": [
    {
     "name": "stdin",
     "output_type": "stream",
     "text": [
      " 4\n"
     ]
    },
    {
     "name": "stdout",
     "output_type": "stream",
     "text": [
      "1\n",
      "23\n",
      "345\n",
      "4567\n"
     ]
    }
   ],
   "source": [
    "def patteren(n):\n",
    "    i = 1\n",
    "    while i<=n:\n",
    "        j = 1\n",
    "        while j<=i:\n",
    "            print(i+j-1,end = '')\n",
    "            j=j+1\n",
    "        print()\n",
    "        i = i+1\n",
    "    return\n",
    "\n",
    "n = int(input())\n",
    "patteren(n)"
   ]
  },
  {
   "cell_type": "code",
   "execution_count": 53,
   "metadata": {},
   "outputs": [
    {
     "name": "stdin",
     "output_type": "stream",
     "text": [
      " 4\n"
     ]
    },
    {
     "name": "stdout",
     "output_type": "stream",
     "text": [
      "1\n",
      "23\n",
      "345\n",
      "4567\n"
     ]
    }
   ],
   "source": [
    "def patteren(n):\n",
    "    i = 1\n",
    "    while i<=n:\n",
    "        j = 1\n",
    "        while j<=i:\n",
    "            print(i+j-1,end = '')\n",
    "            j=j+1\n",
    "        print()\n",
    "        i = i+1\n",
    "    return\n",
    "\n",
    "n = int(input())\n",
    "patteren(n)"
   ]
  },
  {
   "cell_type": "code",
   "execution_count": 3,
   "metadata": {},
   "outputs": [
    {
     "name": "stdin",
     "output_type": "stream",
     "text": [
      " 4\n"
     ]
    },
    {
     "name": "stdout",
     "output_type": "stream",
     "text": [
      "1\n",
      "23\n",
      "456\n",
      "78910\n"
     ]
    }
   ],
   "source": [
    "def patteren(n):\n",
    "    i = 1\n",
    "    p = 1\n",
    "    while i<=n:\n",
    "        j = 1\n",
    "        while j<=i:\n",
    "            print(p,end = '')\n",
    "            j=j+1\n",
    "            p=p+1\n",
    "        print()\n",
    "        i = i+1\n",
    "    return\n",
    "\n",
    "n = int(input())\n",
    "patteren(n)"
   ]
  },
  {
   "cell_type": "code",
   "execution_count": 4,
   "metadata": {},
   "outputs": [
    {
     "name": "stdin",
     "output_type": "stream",
     "text": [
      " 4\n"
     ]
    },
    {
     "name": "stdout",
     "output_type": "stream",
     "text": [
      "*\n",
      "**\n",
      "***\n",
      "****\n"
     ]
    }
   ],
   "source": [
    "def patteren(n):\n",
    "    i = 1\n",
    "    while i<=n:\n",
    "        j = 1\n",
    "        while j<=i:\n",
    "            print(\"*\",end = '')\n",
    "            j=j+1\n",
    "        print()\n",
    "        i = i+1\n",
    "    return\n",
    "\n",
    "n = int(input())\n",
    "patteren(n)"
   ]
  },
  {
   "cell_type": "code",
   "execution_count": 5,
   "metadata": {},
   "outputs": [
    {
     "name": "stdin",
     "output_type": "stream",
     "text": [
      " 4\n"
     ]
    },
    {
     "name": "stdout",
     "output_type": "stream",
     "text": [
      "1\n",
      "21\n",
      "321\n",
      "4321\n"
     ]
    }
   ],
   "source": [
    "def patteren(n):\n",
    "    i = 1\n",
    "    \n",
    "    while i<=n:\n",
    "        j = 1\n",
    "        p = i\n",
    "        while j<=i:\n",
    "            print(p,end = '')\n",
    "            j=j+1\n",
    "            p = p-1\n",
    "        print()\n",
    "        i = i+1\n",
    "    return\n",
    "\n",
    "n = int(input())\n",
    "patteren(n)"
   ]
  },
  {
   "cell_type": "code",
   "execution_count": 9,
   "metadata": {},
   "outputs": [
    {
     "name": "stdin",
     "output_type": "stream",
     "text": [
      " 4\n"
     ]
    },
    {
     "name": "stdout",
     "output_type": "stream",
     "text": [
      "CDEF\n",
      "DEFG\n",
      "EFGH\n",
      "FGHI\n"
     ]
    }
   ],
   "source": [
    "def patteren(n):\n",
    "    i = 1\n",
    "    while i<=n:\n",
    "        j = 1\n",
    "        while j<=n:\n",
    "            charval = chr(ord('A')+i+j)\n",
    "            print(charval,end = '')\n",
    "            j=j+1\n",
    "        print()\n",
    "        i = i+1\n",
    "    return\n",
    "\n",
    "n = int(input())\n",
    "patteren(n)"
   ]
  },
  {
   "cell_type": "code",
   "execution_count": 4,
   "metadata": {},
   "outputs": [
    {
     "name": "stdin",
     "output_type": "stream",
     "text": [
      " 5\n"
     ]
    },
    {
     "name": "stdout",
     "output_type": "stream",
     "text": [
      "E\n",
      "DE\n",
      "CDE\n",
      "BCDE\n",
      "ABCDE\n"
     ]
    }
   ],
   "source": [
    "def patteren(n):\n",
    "    i = 1\n",
    "    while i<=n:\n",
    "        j = 1\n",
    "        start_char = chr(ord('A')+n-i)\n",
    "        while j<=i:\n",
    "            charval = chr(ord(start_char)+j-1)\n",
    "            print(charval,end = '')\n",
    "            j=j+1\n",
    "        print()\n",
    "        i = i+1\n",
    "    return\n",
    "\n",
    "n = int(input())\n",
    "patteren(n)"
   ]
  },
  {
   "cell_type": "code",
   "execution_count": null,
   "metadata": {},
   "outputs": [],
   "source": [
    "E\n",
    "DE\n",
    "CDE\n",
    "BCDE\n",
    "ABCDE"
   ]
  },
  {
   "cell_type": "code",
   "execution_count": 1,
   "metadata": {},
   "outputs": [
    {
     "data": {
      "text/plain": [
       "65"
      ]
     },
     "execution_count": 1,
     "metadata": {},
     "output_type": "execute_result"
    }
   ],
   "source": [
    "ord('A')"
   ]
  },
  {
   "cell_type": "code",
   "execution_count": 2,
   "metadata": {},
   "outputs": [
    {
     "data": {
      "text/plain": [
       "69"
      ]
     },
     "execution_count": 2,
     "metadata": {},
     "output_type": "execute_result"
    }
   ],
   "source": [
    "ord('E')"
   ]
  },
  {
   "cell_type": "code",
   "execution_count": 9,
   "metadata": {},
   "outputs": [
    {
     "name": "stdin",
     "output_type": "stream",
     "text": [
      " 3\n"
     ]
    },
    {
     "name": "stdout",
     "output_type": "stream",
     "text": [
      "1\n",
      "11\n",
      "111\n"
     ]
    }
   ],
   "source": [
    "def patteren(n):\n",
    "    i = 1\n",
    "    p = 1\n",
    "    while i<=n:\n",
    "        j = 1\n",
    "        while j<=i:\n",
    "            print(p,end = '')\n",
    "            j=j+1\n",
    "        print()\n",
    "        i = i+1\n",
    "    return\n",
    "\n",
    "n = int(input())\n",
    "patteren(n)"
   ]
  },
  {
   "cell_type": "markdown",
   "metadata": {},
   "source": [
    "1\n",
    "11\n",
    "202\n",
    "3003\n",
    "\n"
   ]
  },
  {
   "cell_type": "code",
   "execution_count": 16,
   "metadata": {},
   "outputs": [
    {
     "name": "stdin",
     "output_type": "stream",
     "text": [
      " 5\n"
     ]
    },
    {
     "name": "stdout",
     "output_type": "stream",
     "text": [
      "12345\n",
      "1234\n",
      "123\n",
      "12\n",
      "1\n"
     ]
    }
   ],
   "source": [
    "def patteren(n):\n",
    "    i = 1\n",
    "    p=n\n",
    "    while i<=n:\n",
    "        j = 1\n",
    "        while j<=p:\n",
    "            print(j,end = '')\n",
    "            j=j+1\n",
    "            \n",
    "        print()\n",
    "        i = i+1\n",
    "        p = p-1\n",
    "    return\n",
    "\n",
    "n = int(input())\n",
    "patteren(n)"
   ]
  },
  {
   "cell_type": "code",
   "execution_count": 22,
   "metadata": {},
   "outputs": [
    {
     "name": "stdin",
     "output_type": "stream",
     "text": [
      " 3\n"
     ]
    },
    {
     "name": "stdout",
     "output_type": "stream",
     "text": [
      "A\n",
      "BB\n",
      "CCC\n"
     ]
    }
   ],
   "source": [
    "def patteren(n):\n",
    "    i = 1\n",
    "    while i<=n:\n",
    "        j = 1\n",
    "        start_char = chr(ord('A'))\n",
    "        while j<=i:\n",
    "            charval = chr(ord(start_char)+i-1)\n",
    "            print(charval,end = '')\n",
    "            j=j+1\n",
    "        print()\n",
    "        i = i+1\n",
    "    return\n",
    "\n",
    "n = int(input())\n",
    "patteren(n)"
   ]
  },
  {
   "cell_type": "code",
   "execution_count": 4,
   "metadata": {},
   "outputs": [
    {
     "name": "stdin",
     "output_type": "stream",
     "text": [
      " 7\n"
     ]
    },
    {
     "name": "stdout",
     "output_type": "stream",
     "text": [
      "1\n",
      "11\n",
      "202\n",
      "3003\n",
      "40004\n",
      "500005\n",
      "6000006\n"
     ]
    }
   ],
   "source": [
    "\n",
    "## Interesting and important one \n",
    "def patteren(n):\n",
    "    i = 1\n",
    "\n",
    "    while i<=n:\n",
    "        j = 0\n",
    "        p = i-1\n",
    "        while j<=i-1:\n",
    "            if p==0:\n",
    "                print(1,end='')\n",
    "            else:\n",
    "                if p==j or j==0:\n",
    "                    print(p,end='')\n",
    "                else:\n",
    "                    print(0,end='')\n",
    "            \n",
    "            j=j+1\n",
    "        print()\n",
    "        i = i+1\n",
    "    return\n",
    "\n",
    "n = int(input())\n",
    "patteren(n)"
   ]
  },
  {
   "cell_type": "code",
   "execution_count": null,
   "metadata": {},
   "outputs": [],
   "source": [
    "1\n",
    "11\n",
    "121\n",
    "1221"
   ]
  },
  {
   "cell_type": "code",
   "execution_count": 7,
   "metadata": {},
   "outputs": [
    {
     "name": "stdin",
     "output_type": "stream",
     "text": [
      " 6\n"
     ]
    },
    {
     "name": "stdout",
     "output_type": "stream",
     "text": [
      "1\n",
      "11\n",
      "121\n",
      "1221\n",
      "12221\n",
      "122221\n"
     ]
    }
   ],
   "source": [
    "def patteren(n):\n",
    "    i = 1\n",
    "\n",
    "    while i<=n:\n",
    "        j = 0\n",
    "        p = i-1\n",
    "        while j<=i-1:\n",
    "            if p==0:\n",
    "                print(1,end='')\n",
    "            else:\n",
    "                if p==j or j==0:\n",
    "                    print(1,end='')\n",
    "                else:\n",
    "                    print(2,end='')\n",
    "            \n",
    "            j=j+1\n",
    "        print()\n",
    "        i = i+1\n",
    "    return\n",
    "\n",
    "n = int(input())\n",
    "patteren(n)"
   ]
  },
  {
   "cell_type": "code",
   "execution_count": 13,
   "metadata": {},
   "outputs": [
    {
     "name": "stdin",
     "output_type": "stream",
     "text": [
      " 5\n"
     ]
    },
    {
     "name": "stdout",
     "output_type": "stream",
     "text": [
      "55555\n",
      "4444\n",
      "333\n",
      "22\n",
      "1\n"
     ]
    }
   ],
   "source": [
    "def patteren(n):\n",
    "    i = 1\n",
    "    while i<=n:\n",
    "        j = 1\n",
    "        p = n+1-i\n",
    "        while j<=n+1-i:\n",
    "            print(p,end = '')\n",
    "            j=j+1\n",
    "           \n",
    "        \n",
    "        print()\n",
    "        i = i+1\n",
    "    return\n",
    "\n",
    "n = int(input())\n",
    "patteren(n)"
   ]
  },
  {
   "cell_type": "code",
   "execution_count": 16,
   "metadata": {},
   "outputs": [
    {
     "name": "stdin",
     "output_type": "stream",
     "text": [
      " 5\n"
     ]
    },
    {
     "name": "stdout",
     "output_type": "stream",
     "text": [
      "    *\n",
      "   **\n",
      "  ***\n",
      " ****\n",
      "*****\n"
     ]
    }
   ],
   "source": [
    "def patteren(n):\n",
    "    i = 1\n",
    "    while i<=n:\n",
    "        space = 1\n",
    "        while space<=n-i:\n",
    "            print(\" \",end = '')\n",
    "            space+=1\n",
    "        star = 1\n",
    "        while star<=i:\n",
    "            print(\"*\",end='')\n",
    "            star+=1\n",
    "        print()\n",
    "        i = i+1\n",
    "    return\n",
    "\n",
    "n = int(input())\n",
    "patteren(n)"
   ]
  },
  {
   "cell_type": "code",
   "execution_count": 17,
   "metadata": {},
   "outputs": [
    {
     "name": "stdin",
     "output_type": "stream",
     "text": [
      " 4\n"
     ]
    },
    {
     "name": "stdout",
     "output_type": "stream",
     "text": [
      "   1\n",
      "  12\n",
      " 123\n",
      "1234\n"
     ]
    }
   ],
   "source": [
    "def patteren(n):\n",
    "    i = 1\n",
    "    while i<=n:\n",
    "        space = 1\n",
    "        while space<=n-i:\n",
    "            print(\" \",end = '')\n",
    "            space+=1\n",
    "        star = 1\n",
    "        while star<=i:\n",
    "            print(star,end='')\n",
    "            star+=1\n",
    "        print()\n",
    "        i = i+1\n",
    "    return\n",
    "\n",
    "n = int(input())\n",
    "patteren(n)"
   ]
  },
  {
   "cell_type": "code",
   "execution_count": 23,
   "metadata": {},
   "outputs": [
    {
     "name": "stdin",
     "output_type": "stream",
     "text": [
      " 3\n"
     ]
    },
    {
     "name": "stdout",
     "output_type": "stream",
     "text": [
      "  1\n",
      " 121\n",
      "12321\n"
     ]
    }
   ],
   "source": [
    "def patteren(n):\n",
    "    i = 1\n",
    "    while i<=n:\n",
    "        space = 1\n",
    "        while space<=n-i:\n",
    "            print(\" \",end = '')\n",
    "            space+=1\n",
    "        star = 1\n",
    "        while star<=i:\n",
    "            print(star,end='')\n",
    "            star+=1\n",
    "            \n",
    "        dec = i-1\n",
    "        while dec>=1:\n",
    "            print(dec ,end='')\n",
    "            dec = dec-1\n",
    "        print()\n",
    "        i = i+1\n",
    "    return\n",
    "\n",
    "n = int(input())\n",
    "patteren(n)"
   ]
  },
  {
   "cell_type": "code",
   "execution_count": 24,
   "metadata": {},
   "outputs": [
    {
     "name": "stdin",
     "output_type": "stream",
     "text": [
      " 5\n"
     ]
    },
    {
     "name": "stdout",
     "output_type": "stream",
     "text": [
      "    *\n",
      "   ***\n",
      "  *****\n",
      " *******\n",
      "*********\n"
     ]
    }
   ],
   "source": [
    "def patteren(n):\n",
    "    i = 1\n",
    "    while i<=n:\n",
    "        space = 1\n",
    "        while space<=n-i:\n",
    "            print(\" \",end = '')\n",
    "            space+=1\n",
    "        star = 1\n",
    "        while star<=i:\n",
    "            print(\"*\",end='')\n",
    "            star+=1\n",
    "            \n",
    "        dec = i-1\n",
    "        while dec>=1:\n",
    "            print(\"*\" ,end='')\n",
    "            dec = dec-1\n",
    "        print()\n",
    "        i = i+1\n",
    "    return\n",
    "\n",
    "n = int(input())\n",
    "patteren(n)"
   ]
  },
  {
   "cell_type": "code",
   "execution_count": null,
   "metadata": {},
   "outputs": [],
   "source": [
    "          1\n",
    "         232\n",
    "       34543\n",
    "     4567654\n",
    "   567898765"
   ]
  },
  {
   "cell_type": "code",
   "execution_count": 25,
   "metadata": {},
   "outputs": [
    {
     "name": "stdin",
     "output_type": "stream",
     "text": [
      " 5\n"
     ]
    },
    {
     "name": "stdout",
     "output_type": "stream",
     "text": [
      "    1\n",
      "   221\n",
      "  33321\n",
      " 4444321\n",
      "555554321\n"
     ]
    }
   ],
   "source": [
    "def patteren(n):\n",
    "    i = 1\n",
    "    while i<=n:\n",
    "        space = 1\n",
    "        while space<=n-i:\n",
    "            print(\" \",end = '')\n",
    "            space+=1\n",
    "        star = 1\n",
    "        while star<=i:\n",
    "            print(,end='')\n",
    "            star+=1\n",
    "            \n",
    "        dec = i-1\n",
    "        while dec>=1:\n",
    "            print(dec ,end='')\n",
    "            dec = dec-1\n",
    "        print()\n",
    "        i = i+1\n",
    "    return\n",
    "\n",
    "n = int(input())\n",
    "patteren(n)"
   ]
  },
  {
   "cell_type": "code",
   "execution_count": 51,
   "metadata": {},
   "outputs": [
    {
     "name": "stdin",
     "output_type": "stream",
     "text": [
      " 5\n"
     ]
    },
    {
     "name": "stdout",
     "output_type": "stream",
     "text": [
      "    1\n",
      "   232\n",
      "  34543\n",
      " 4567654\n",
      "567898765\n"
     ]
    }
   ],
   "source": [
    "def patteren(n):\n",
    "    i = 1\n",
    "    val = 1\n",
    "    f = 0\n",
    "    while i<=n:\n",
    "        space = 1\n",
    "        while space<=n-i:\n",
    "            print(\" \",end = '')\n",
    "            space+=1\n",
    "        \n",
    "        j = 1\n",
    "        \n",
    "        while j<=i:\n",
    "            print(val+j-1,end='')\n",
    "            j+=1\n",
    "        \n",
    "        k = 0\n",
    "        while k<i-1:\n",
    "            print(i+f-k-1 ,end = '')\n",
    "            k+=1\n",
    "        \n",
    "        \n",
    "        print()\n",
    "        i = i+1\n",
    "        val+=1\n",
    "        f+=1\n",
    "    return\n",
    "\n",
    "n = int(input())\n",
    "patteren(n)"
   ]
  },
  {
   "cell_type": "code",
   "execution_count": 59,
   "metadata": {},
   "outputs": [
    {
     "name": "stdin",
     "output_type": "stream",
     "text": [
      " 4\n"
     ]
    },
    {
     "name": "stdout",
     "output_type": "stream",
     "text": [
      "   \n",
      "  12\n",
      " 2343\n",
      "345654\n"
     ]
    }
   ],
   "source": [
    "# def patteren(n):\n",
    "#     i = 1\n",
    "#     val = 1\n",
    "#     f = 0\n",
    "#     while i<=n:\n",
    "#         space = 1\n",
    "#         while space<=n-i:\n",
    "#             print(\" \",end = '')\n",
    "#             space+=1\n",
    "        \n",
    "#         j = \n",
    "        \n",
    "#         while j<=i:\n",
    "#             print(val+j-1,end='')\n",
    "#             j+=1\n",
    "        \n",
    "#         k = 0\n",
    "#         while k<i-1:\n",
    "#             print(i+f-k-1 ,end = '')\n",
    "#             k+=1\n",
    "        \n",
    "        \n",
    "#         print()\n",
    "#         i = i+1\n",
    "#         val+=1\n",
    "#         f+=1\n",
    "#     return\n",
    "\n",
    "# n = int(input())\n",
    "# patteren(n)"
   ]
  },
  {
   "cell_type": "code",
   "execution_count": 1,
   "metadata": {},
   "outputs": [
    {
     "data": {
      "text/plain": [
       "4"
      ]
     },
     "execution_count": 1,
     "metadata": {},
     "output_type": "execute_result"
    }
   ],
   "source": [
    "9//2"
   ]
  },
  {
   "cell_type": "code",
   "execution_count": 3,
   "metadata": {},
   "outputs": [
    {
     "data": {
      "text/plain": [
       "1"
      ]
     },
     "execution_count": 3,
     "metadata": {},
     "output_type": "execute_result"
    }
   ],
   "source": [
    "3//2"
   ]
  },
  {
   "cell_type": "code",
   "execution_count": 4,
   "metadata": {},
   "outputs": [
    {
     "data": {
      "text/plain": [
       "2"
      ]
     },
     "execution_count": 4,
     "metadata": {},
     "output_type": "execute_result"
    }
   ],
   "source": [
    "5//2"
   ]
  },
  {
   "cell_type": "code",
   "execution_count": null,
   "metadata": {},
   "outputs": [],
   "source": [
    "Row1: 4 spaces, 1 star, 4 spaces\n",
    "Row2: 3 spaces, 3 stars, 3 spaces\n",
    "Row3: 2 spaces, 5 stars, 2 spaces\n",
    "Row4: 1 space, 7 stars, 1 space\n",
    "Row5: 0 spaces, 9 stars, 0 spaces\n",
    "Row6: 1 space, 7 stars, 1 space\n",
    "Row7: 2 spaces, 5 stars, 2 spaces\n",
    "Row8: 3 spaces, 3 stars, 3 spaces\n",
    "Row9: 4 spaces, 1 star, 4 spaces"
   ]
  },
  {
   "cell_type": "code",
   "execution_count": 64,
   "metadata": {},
   "outputs": [
    {
     "name": "stdin",
     "output_type": "stream",
     "text": [
      " 3\n"
     ]
    },
    {
     "name": "stdout",
     "output_type": "stream",
     "text": [
      " * \n",
      "***\n",
      " ***\n",
      "None\n"
     ]
    }
   ],
   "source": [
    "def patteren_star(n):\n",
    "    i = 1\n",
    "    while i<=n//2+1:\n",
    "        space1 = 1\n",
    "        while space1<=n//2+1-i:\n",
    "            print(\" \",end='')\n",
    "            space1+=1\n",
    "        pattern1 = 1\n",
    "        while pattern1<=(2*i-1):\n",
    "            print(\"*\",end='')\n",
    "            pattern1+=1\n",
    "            \n",
    "        space2 = 1\n",
    "        while space2<=n//2+1-i:\n",
    "            print(\" \",end='')\n",
    "            space2+=1\n",
    "            \n",
    "    \n",
    "        print()\n",
    "        i+=1\n",
    "    i_new  = n//2+2\n",
    "    p = n//2+2\n",
    "    while i_new<=n:\n",
    "        space_3 = n//2+2\n",
    "        while space_3<=i_new:\n",
    "            print(\" \",end='')\n",
    "            space_3+=1\n",
    "            \n",
    "        pattern2 = 1 \n",
    "        while pattern2<=(2*p-1)-n+1:\n",
    "            print('*',end = '')\n",
    "            pattern2+=1\n",
    "            \n",
    "        space_4= n//2+2\n",
    "        \n",
    "        while space_4<i_new:\n",
    "            print(\" \",end='')\n",
    "            space_4+=1\n",
    "            \n",
    "        print()\n",
    "        p-=1\n",
    "        i_new+=1\n",
    "    return \n",
    "        \n",
    "        \n",
    "\n",
    "n = int(input())\n",
    "\n",
    "print(patteren_star(n))"
   ]
  },
  {
   "cell_type": "code",
   "execution_count": 78,
   "metadata": {},
   "outputs": [
    {
     "name": "stdin",
     "output_type": "stream",
     "text": [
      " 9\n"
     ]
    },
    {
     "name": "stdout",
     "output_type": "stream",
     "text": [
      "    *    \n",
      "   ***   \n",
      "  *****  \n",
      " ******* \n",
      "*********\n",
      " ******* \n",
      "  *****  \n",
      "   ***   \n",
      "    *    \n",
      "          \n",
      "\n"
     ]
    }
   ],
   "source": [
    "def patteren_star(n):\n",
    "    i = 1\n",
    "    while i<=n//2+1:\n",
    "        space1 = 1\n",
    "        while space1<=n//2+1-i:\n",
    "            print(\" \",end='')\n",
    "            space1+=1\n",
    "        pattern1 = 1\n",
    "        while pattern1<=(2*i-1):\n",
    "            print(\"*\",end='')\n",
    "            pattern1+=1\n",
    "            \n",
    "        space2 = 1\n",
    "        while space2<=n//2+1-i:\n",
    "            print(\" \",end='')\n",
    "            space2+=1\n",
    "            \n",
    "    \n",
    "        print()\n",
    "        i+=1\n",
    "    i_new  = n\n",
    "    space_id = 1\n",
    "    while i_new>=1:\n",
    "        space =1\n",
    "        while space<=space_id:\n",
    "            print(\" \",end = '')\n",
    "            space+=1\n",
    "            \n",
    "        j = 1\n",
    "        while j<=i_new-3+1:\n",
    "            print(\"*\",end = \"\")\n",
    "            j+=1\n",
    "        space4 = 1\n",
    "        while space4<=space_id:\n",
    "            print(\" \",end = '')\n",
    "            space4+=1\n",
    "        print()\n",
    "        space_id+=1\n",
    "        i_new = i_new-3+1  \n",
    "    return'' \n",
    "        \n",
    "        \n",
    "\n",
    "n = int(input())\n",
    "\n",
    "print(patteren_star(n))"
   ]
  },
  {
   "cell_type": "code",
   "execution_count": 86,
   "metadata": {},
   "outputs": [
    {
     "name": "stdin",
     "output_type": "stream",
     "text": [
      " 5\n"
     ]
    },
    {
     "name": "stdout",
     "output_type": "stream",
     "text": [
      "1        1\n",
      "12      21\n",
      "123    321\n",
      "1234  4321\n",
      "1234554321\n",
      "\n"
     ]
    }
   ],
   "source": [
    "def num_pattern(n):\n",
    "    i = 1\n",
    "    space = 2*n-2\n",
    "    while i<=n:\n",
    "        j= 1\n",
    "        while j<=i:\n",
    "            print(j,end='')\n",
    "            j+=1\n",
    "            \n",
    "        space_n = 1\n",
    "        while space_n<=space:\n",
    "            print(\" \",end='')\n",
    "            space_n+=1\n",
    "        k = i\n",
    "        while k>=1:\n",
    "            print(k,end='')\n",
    "            k-=1\n",
    "        \n",
    "        print()\n",
    "        i+=1\n",
    "        space-=2\n",
    "    return''\n",
    "\n",
    "n = int(input())\n",
    "print(num_pattern(n))"
   ]
  },
  {
   "cell_type": "code",
   "execution_count": 4,
   "metadata": {},
   "outputs": [],
   "source": [
    "def zero_star_pattern(n):\n",
    "    i = 1\n",
    "    while i<=n:\n",
    "        first_row_pattern = 1\n",
    "        while first_row_pattern>=i:\n",
    "            print(\"*\",end='')\n",
    "            first_row_pattern-=1\n",
    "            \n",
    "            \n",
    "        first_zero_pattern = 1\n",
    "        while first_row_pattern<n:\n",
    "            print('0',end='')\n",
    "            first_zero_pattern+=1\n",
    "        \n",
    "        print()\n",
    "        i+=1\n",
    "    return''\n",
    "\n",
    "n = int(input())\n",
    "print(zero_star_pattern(n))"
   ]
  },
  {
   "cell_type": "code",
   "execution_count": 51,
   "metadata": {},
   "outputs": [
    {
     "data": {
      "text/plain": [
       "1"
      ]
     },
     "execution_count": 51,
     "metadata": {},
     "output_type": "execute_result"
    }
   ],
   "source": [
    "3//2"
   ]
  },
  {
   "cell_type": "code",
   "execution_count": 17,
   "metadata": {},
   "outputs": [
    {
     "name": "stdin",
     "output_type": "stream",
     "text": [
      " 5\n"
     ]
    },
    {
     "name": "stdout",
     "output_type": "stream",
     "text": [
      "    1\n",
      "   212\n",
      "  32123\n",
      " 4321234\n",
      "543212345\n"
     ]
    }
   ],
   "source": [
    "def patteren(n):\n",
    "    \n",
    "    \"\"\"Input: Number\n",
    "    \n",
    "      i is for space\n",
    "      j is for first half 1\n",
    "                         2 1\n",
    "                        3 2 1\n",
    "                        \n",
    "      u is for second half 2\n",
    "                           2 3\n",
    "                           2  3 4\n",
    "    \n",
    "    \"\"\"\n",
    "    i = 1\n",
    "    val = 1\n",
    "    f = 0\n",
    "    k = 2\n",
    "    while i<=n:\n",
    "        space = 1\n",
    "        while space<=n-i:\n",
    "            print(\" \",end = '')\n",
    "            space+=1\n",
    "        \n",
    "        j = i\n",
    "        \n",
    "        while j>=1:\n",
    "            print(j,end='')\n",
    "            j-=1\n",
    "        \n",
    "        u = 0\n",
    "        while u<i-1:\n",
    "            print(k+u ,end = '')\n",
    "            u+=1\n",
    "        \n",
    "        \n",
    "        print()\n",
    "        i = i+1\n",
    "        val+=1\n",
    "        f+=1\n",
    "    return\n",
    "\n",
    "n = int(input())\n",
    "patteren(n)"
   ]
  },
  {
   "cell_type": "code",
   "execution_count": 1,
   "metadata": {},
   "outputs": [
    {
     "name": "stdin",
     "output_type": "stream",
     "text": [
      " 99\n"
     ]
    },
    {
     "name": "stdout",
     "output_type": "stream",
     "text": [
      "* \n",
      " * * \n",
      "  * * * \n",
      "   * * * * \n",
      "    * * * * * \n",
      "     * * * * * * \n",
      "      * * * * * * * \n",
      "       * * * * * * * * \n",
      "        * * * * * * * * * \n",
      "         * * * * * * * * * * \n",
      "          * * * * * * * * * * * \n",
      "           * * * * * * * * * * * * \n",
      "            * * * * * * * * * * * * * \n",
      "             * * * * * * * * * * * * * * \n",
      "              * * * * * * * * * * * * * * * \n",
      "               * * * * * * * * * * * * * * * * \n",
      "                * * * * * * * * * * * * * * * * * \n",
      "                 * * * * * * * * * * * * * * * * * * \n",
      "                  * * * * * * * * * * * * * * * * * * * \n",
      "                   * * * * * * * * * * * * * * * * * * * * \n",
      "                    * * * * * * * * * * * * * * * * * * * * * \n",
      "                     * * * * * * * * * * * * * * * * * * * * * * \n",
      "                      * * * * * * * * * * * * * * * * * * * * * * * \n",
      "                       * * * * * * * * * * * * * * * * * * * * * * * * \n",
      "                        * * * * * * * * * * * * * * * * * * * * * * * * * \n",
      "                         * * * * * * * * * * * * * * * * * * * * * * * * * * \n",
      "                          * * * * * * * * * * * * * * * * * * * * * * * * * * * \n",
      "                           * * * * * * * * * * * * * * * * * * * * * * * * * * * * \n",
      "                            * * * * * * * * * * * * * * * * * * * * * * * * * * * * * \n",
      "                             * * * * * * * * * * * * * * * * * * * * * * * * * * * * * * \n",
      "                              * * * * * * * * * * * * * * * * * * * * * * * * * * * * * * * \n",
      "                               * * * * * * * * * * * * * * * * * * * * * * * * * * * * * * * * \n",
      "                                * * * * * * * * * * * * * * * * * * * * * * * * * * * * * * * * * \n",
      "                                 * * * * * * * * * * * * * * * * * * * * * * * * * * * * * * * * * * \n",
      "                                  * * * * * * * * * * * * * * * * * * * * * * * * * * * * * * * * * * * \n",
      "                                   * * * * * * * * * * * * * * * * * * * * * * * * * * * * * * * * * * * * \n",
      "                                    * * * * * * * * * * * * * * * * * * * * * * * * * * * * * * * * * * * * * \n",
      "                                     * * * * * * * * * * * * * * * * * * * * * * * * * * * * * * * * * * * * * * \n",
      "                                      * * * * * * * * * * * * * * * * * * * * * * * * * * * * * * * * * * * * * * * \n",
      "                                       * * * * * * * * * * * * * * * * * * * * * * * * * * * * * * * * * * * * * * * * \n",
      "                                        * * * * * * * * * * * * * * * * * * * * * * * * * * * * * * * * * * * * * * * * * \n",
      "                                         * * * * * * * * * * * * * * * * * * * * * * * * * * * * * * * * * * * * * * * * * * \n",
      "                                          * * * * * * * * * * * * * * * * * * * * * * * * * * * * * * * * * * * * * * * * * * * \n",
      "                                           * * * * * * * * * * * * * * * * * * * * * * * * * * * * * * * * * * * * * * * * * * * * \n",
      "                                            * * * * * * * * * * * * * * * * * * * * * * * * * * * * * * * * * * * * * * * * * * * * * \n",
      "                                             * * * * * * * * * * * * * * * * * * * * * * * * * * * * * * * * * * * * * * * * * * * * * * \n",
      "                                              * * * * * * * * * * * * * * * * * * * * * * * * * * * * * * * * * * * * * * * * * * * * * * * \n",
      "                                               * * * * * * * * * * * * * * * * * * * * * * * * * * * * * * * * * * * * * * * * * * * * * * * * \n",
      "                                                * * * * * * * * * * * * * * * * * * * * * * * * * * * * * * * * * * * * * * * * * * * * * * * * * \n",
      "                                                 * * * * * * * * * * * * * * * * * * * * * * * * * * * * * * * * * * * * * * * * * * * * * * * * * * \n",
      "                                                * * * * * * * * * * * * * * * * * * * * * * * * * * * * * * * * * * * * * * * * * * * * * * * * * \n",
      "                                               * * * * * * * * * * * * * * * * * * * * * * * * * * * * * * * * * * * * * * * * * * * * * * * * \n",
      "                                              * * * * * * * * * * * * * * * * * * * * * * * * * * * * * * * * * * * * * * * * * * * * * * * \n",
      "                                             * * * * * * * * * * * * * * * * * * * * * * * * * * * * * * * * * * * * * * * * * * * * * * \n",
      "                                            * * * * * * * * * * * * * * * * * * * * * * * * * * * * * * * * * * * * * * * * * * * * * \n",
      "                                           * * * * * * * * * * * * * * * * * * * * * * * * * * * * * * * * * * * * * * * * * * * * \n",
      "                                          * * * * * * * * * * * * * * * * * * * * * * * * * * * * * * * * * * * * * * * * * * * \n",
      "                                         * * * * * * * * * * * * * * * * * * * * * * * * * * * * * * * * * * * * * * * * * * \n",
      "                                        * * * * * * * * * * * * * * * * * * * * * * * * * * * * * * * * * * * * * * * * * \n",
      "                                       * * * * * * * * * * * * * * * * * * * * * * * * * * * * * * * * * * * * * * * * \n",
      "                                      * * * * * * * * * * * * * * * * * * * * * * * * * * * * * * * * * * * * * * * \n",
      "                                     * * * * * * * * * * * * * * * * * * * * * * * * * * * * * * * * * * * * * * \n",
      "                                    * * * * * * * * * * * * * * * * * * * * * * * * * * * * * * * * * * * * * \n",
      "                                   * * * * * * * * * * * * * * * * * * * * * * * * * * * * * * * * * * * * \n",
      "                                  * * * * * * * * * * * * * * * * * * * * * * * * * * * * * * * * * * * \n",
      "                                 * * * * * * * * * * * * * * * * * * * * * * * * * * * * * * * * * * \n",
      "                                * * * * * * * * * * * * * * * * * * * * * * * * * * * * * * * * * \n",
      "                               * * * * * * * * * * * * * * * * * * * * * * * * * * * * * * * * \n",
      "                              * * * * * * * * * * * * * * * * * * * * * * * * * * * * * * * \n",
      "                             * * * * * * * * * * * * * * * * * * * * * * * * * * * * * * \n",
      "                            * * * * * * * * * * * * * * * * * * * * * * * * * * * * * \n",
      "                           * * * * * * * * * * * * * * * * * * * * * * * * * * * * \n",
      "                          * * * * * * * * * * * * * * * * * * * * * * * * * * * \n",
      "                         * * * * * * * * * * * * * * * * * * * * * * * * * * \n",
      "                        * * * * * * * * * * * * * * * * * * * * * * * * * \n",
      "                       * * * * * * * * * * * * * * * * * * * * * * * * \n",
      "                      * * * * * * * * * * * * * * * * * * * * * * * \n",
      "                     * * * * * * * * * * * * * * * * * * * * * * \n",
      "                    * * * * * * * * * * * * * * * * * * * * * \n",
      "                   * * * * * * * * * * * * * * * * * * * * \n",
      "                  * * * * * * * * * * * * * * * * * * * \n",
      "                 * * * * * * * * * * * * * * * * * * \n",
      "                * * * * * * * * * * * * * * * * * \n",
      "               * * * * * * * * * * * * * * * * \n",
      "              * * * * * * * * * * * * * * * \n",
      "             * * * * * * * * * * * * * * \n",
      "            * * * * * * * * * * * * * \n",
      "           * * * * * * * * * * * * \n",
      "          * * * * * * * * * * * \n",
      "         * * * * * * * * * * \n",
      "        * * * * * * * * * \n",
      "       * * * * * * * * \n",
      "      * * * * * * * \n",
      "     * * * * * * \n",
      "    * * * * * \n",
      "   * * * * \n",
      "  * * * \n",
      " * * \n",
      "* \n",
      "\n",
      "\n"
     ]
    }
   ],
   "source": [
    "def arrow_pattern(n):\n",
    "    \n",
    "    \"\"\"\n",
    "    Input: n number int\n",
    "    \n",
    "    output : Arrow pattern\n",
    "    \n",
    "    soluntion contains 2 part \n",
    "    first one upper one \n",
    "    var i,space,j(*,space)\n",
    "    \n",
    "    Second one\n",
    "    var i_new rows, space_def at mid point,space_def(space pattern),j_below (*,space pattern)  \n",
    "    \n",
    "    logic:\n",
    "    n == 5(all n should be odd)\n",
    "    space *\n",
    "    space space * space *\n",
    "    space space space * space * space *\n",
    "    space space * space *\n",
    "    space *\n",
    "    \"\"\"\n",
    "    i = 1\n",
    "    while i<=n//2+1:\n",
    "        space =1\n",
    "        while space<i:\n",
    "            print(\" \",end='')\n",
    "            space+=1\n",
    "        \n",
    "        j = 1\n",
    "        while j<=i:\n",
    "            print(\"*\",end='')\n",
    "            print(' ',end='')\n",
    "            j+=1\n",
    "        print()\n",
    "        i+=1\n",
    "    \n",
    "    i_new = n  ## 11\n",
    "    space_def = n//2  ## 5\n",
    "    while i_new>=1:\n",
    "        space_new = 1\n",
    "        while space_new <space_def:\n",
    "            print(\" \",end='')\n",
    "            space_new+=1\n",
    "            \n",
    "            \n",
    "        j_below = 1\n",
    "        while j_below<=space_def:\n",
    "            print(\"*\",end='')\n",
    "            print(\" \",end='')\n",
    "            j_below+=1\n",
    "        print()\n",
    "        i_new-=2  ## 8  5  3 0  (9,6,4,1)\n",
    "        space_def-=1 ## 4  3 2 \n",
    "             \n",
    "        \n",
    "        \n",
    "        \n",
    "        \n",
    "        \n",
    "    return''\n",
    "\n",
    "if __name__ == \"__main__\":\n",
    "    n = int(input())\n",
    "    print(arrow_pattern(n))"
   ]
  },
  {
   "cell_type": "markdown",
   "metadata": {},
   "source": [
    "------------"
   ]
  },
  {
   "cell_type": "code",
   "execution_count": 44,
   "metadata": {},
   "outputs": [
    {
     "name": "stdin",
     "output_type": "stream",
     "text": [
      " 45\n"
     ]
    },
    {
     "name": "stdout",
     "output_type": "stream",
     "text": [
      "111111111111111111111111111111111111111111111\n",
      "00000000000000000000000000000000000000000000\n",
      "1111111111111111111111111111111111111111111\n",
      "000000000000000000000000000000000000000000\n",
      "11111111111111111111111111111111111111111\n",
      "0000000000000000000000000000000000000000\n",
      "111111111111111111111111111111111111111\n",
      "00000000000000000000000000000000000000\n",
      "1111111111111111111111111111111111111\n",
      "000000000000000000000000000000000000\n",
      "11111111111111111111111111111111111\n",
      "0000000000000000000000000000000000\n",
      "111111111111111111111111111111111\n",
      "00000000000000000000000000000000\n",
      "1111111111111111111111111111111\n",
      "000000000000000000000000000000\n",
      "11111111111111111111111111111\n",
      "0000000000000000000000000000\n",
      "111111111111111111111111111\n",
      "00000000000000000000000000\n",
      "1111111111111111111111111\n",
      "000000000000000000000000\n",
      "11111111111111111111111\n",
      "0000000000000000000000\n",
      "111111111111111111111\n",
      "00000000000000000000\n",
      "1111111111111111111\n",
      "000000000000000000\n",
      "11111111111111111\n",
      "0000000000000000\n",
      "111111111111111\n",
      "00000000000000\n",
      "1111111111111\n",
      "000000000000\n",
      "11111111111\n",
      "0000000000\n",
      "111111111\n",
      "00000000\n",
      "1111111\n",
      "000000\n",
      "11111\n",
      "0000\n",
      "111\n",
      "00\n",
      "1\n",
      "\n"
     ]
    }
   ],
   "source": [
    "def pattern(n):\n",
    "    for i in range(1,n+1):\n",
    "        for patt in range(n,i-1,-1):\n",
    "            if i%2==0:\n",
    "                print(0,end='')\n",
    "            else:\n",
    "                print(1,end='')\n",
    "        print()\n",
    "    return''\n",
    "\n",
    "\n",
    "if __name__ == \"__main__\":\n",
    "    n = int(input())\n",
    "    print(pattern(n))"
   ]
  },
  {
   "cell_type": "code",
   "execution_count": 69,
   "metadata": {},
   "outputs": [
    {
     "name": "stdin",
     "output_type": "stream",
     "text": [
      " 6\n"
     ]
    },
    {
     "name": "stdout",
     "output_type": "stream",
     "text": [
      "123456\n",
      " 23456\n",
      "  3456\n",
      "   456\n",
      "    56\n",
      "     6\n",
      "    56\n",
      "   456\n",
      "  3456\n",
      " 23456\n",
      "123456\n",
      "\n"
     ]
    }
   ],
   "source": [
    "def pattern2(n):\n",
    "    for i in range(1,n+1):\n",
    "        for space in range(i-1):\n",
    "            print(\" \",end='')\n",
    "            \n",
    "        for pattern in range(i,n+1,1):\n",
    "            print(pattern,end='')\n",
    "            \n",
    "        print()   \n",
    "    \n",
    "    for i_dash in range(n,1,-1):\n",
    "        for space in range(1,i_dash-1):\n",
    "            print(\" \",end='')\n",
    "            \n",
    "        for pattern_low in range(i_dash-1,n+1):\n",
    "            print(pattern_low,end='')\n",
    "            \n",
    "        print()\n",
    "    return''\n",
    "\n",
    "if __name__ == \"__main__\":\n",
    "    n = int(input())\n",
    "    print(pattern2(n))\n",
    "        "
   ]
  },
  {
   "cell_type": "code",
   "execution_count": 70,
   "metadata": {},
   "outputs": [
    {
     "name": "stdout",
     "output_type": "stream",
     "text": [
      "5\n"
     ]
    }
   ],
   "source": [
    "def func(a):\n",
    "    a = a + 10\n",
    "    return a\n",
    "a = 5\n",
    "func(a)\n",
    "print(a)"
   ]
  },
  {
   "cell_type": "code",
   "execution_count": 71,
   "metadata": {},
   "outputs": [
    {
     "name": "stdout",
     "output_type": "stream",
     "text": [
      "12\n"
     ]
    }
   ],
   "source": [
    "a=14\n",
    "def f():\n",
    "    global a\n",
    "    a=12\n",
    "f()\n",
    "print(a)"
   ]
  },
  {
   "cell_type": "code",
   "execution_count": null,
   "metadata": {},
   "outputs": [],
   "source": [
    "N = 4\n",
    "\n",
    "4444444\n",
    "4333334\n",
    "4322234\n",
    "4321234\n",
    "4322234\n",
    "4333334  \n",
    "4444444\n",
    "\n",
    "\n",
    "\n",
    "N=3\n",
    "33333\n",
    "32223\n",
    "32123\n",
    "32223\n",
    "33333\n"
   ]
  },
  {
   "cell_type": "code",
   "execution_count": null,
   "metadata": {},
   "outputs": [],
   "source": [
    "### def square_pattern(n):\n",
    "    for i in range(1,n*2):\n",
    "        for j in range(1,n+1):\n",
    "            if i==1 or i==n*2-1:\n",
    "                print(n,end='')\n",
    "            elif i%2==0 or i!= ((2*n-1)//2)+1:\n",
    "                if j==1 or j==n*2-1:\n",
    "                    print(n,end='')\n",
    "                else:\n",
    "                    print(2*n-i+j,end='')\n",
    "                    \n",
    "            elif i==((2*n-1)//2)+1:\n",
    "                print(n-j+1,end='')\n",
    "            else:\n",
    "                print(1,end='')\n",
    "                \n",
    "#         for j_dash in range(n+1,n*2):\n",
    "#             if i==1 or i==n*2-1:\n",
    "#                 print(n,end='')\n",
    "#             else:\n",
    "#                 print(j_dash-n+1,end='')\n",
    "        print()\n",
    "            \n",
    "            \n",
    "    return''\n",
    "\n",
    "if __name__ == \"__main__\":\n",
    "    n = int(input())\n",
    "    print(square_pattern(n))\n",
    "                \n",
    "                "
   ]
  },
  {
   "cell_type": "code",
   "execution_count": 41,
   "metadata": {},
   "outputs": [
    {
     "name": "stdin",
     "output_type": "stream",
     "text": [
      " 3\n"
     ]
    },
    {
     "name": "stdout",
     "output_type": "stream",
     "text": [
      "333\n",
      "444\n",
      "555\n",
      "\n"
     ]
    }
   ],
   "source": [
    "def pattern1_part(n):\n",
    "    for i in range(1,n+1):\n",
    "        for j in range(1,n+1):\n",
    "            print(n+i-1,end='')\n",
    "        print()\n",
    "    return''\n",
    "\n",
    "n = int(input())\n",
    "print(pattern1_part(n))"
   ]
  },
  {
   "cell_type": "code",
   "execution_count": 32,
   "metadata": {},
   "outputs": [
    {
     "name": "stdin",
     "output_type": "stream",
     "text": [
      " 3\n"
     ]
    },
    {
     "name": "stdout",
     "output_type": "stream",
     "text": [
      "332321\n",
      "332321\n",
      "332321\n"
     ]
    }
   ],
   "source": [
    "n = int(input())\n",
    "for i in range(1,n+1):\n",
    "    for j in range(1,n+1):\n",
    "        for val in range(n,n-j,-1):\n",
    "            print(val,end='')\n",
    "    print()\n"
   ]
  },
  {
   "cell_type": "code",
   "execution_count": 51,
   "metadata": {},
   "outputs": [
    {
     "name": "stdin",
     "output_type": "stream",
     "text": [
      " 3\n"
     ]
    },
    {
     "name": "stdout",
     "output_type": "stream",
     "text": [
      "3\n",
      "32\n",
      "321\n",
      "None\n"
     ]
    }
   ],
   "source": [
    "def pat(n):\n",
    "    for i in range(1,n+1):\n",
    "        for j in range(n,n-i,-1):\n",
    "            print(j,end='')\n",
    "        print()\n",
    "\n",
    "n = int(input())\n",
    "print(pat(n))"
   ]
  },
  {
   "cell_type": "code",
   "execution_count": 54,
   "metadata": {},
   "outputs": [
    {
     "name": "stdout",
     "output_type": "stream",
     "text": [
      "01234567012345670123456701234567\n",
      "01234567012345670123456701234567\n",
      "01234567012345670123456701234567\n",
      "01234567012345670123456701234567\n"
     ]
    }
   ],
   "source": [
    "for i in range(1,5):\n",
    "    for j in range(1,5):\n",
    "        for l in range(8):\n",
    "            print(l,end='')\n",
    "#         print(6,end='')\n",
    "    print()"
   ]
  },
  {
   "cell_type": "code",
   "execution_count": 65,
   "metadata": {},
   "outputs": [
    {
     "name": "stdin",
     "output_type": "stream",
     "text": [
      " 3\n"
     ]
    },
    {
     "name": "stdout",
     "output_type": "stream",
     "text": [
      "33333\n",
      "32223\n",
      "32123\n",
      "32223\n",
      "33333\n"
     ]
    }
   ],
   "source": [
    "n = int(input())\n",
    "k = 2*n-1\n",
    "\n",
    "val = [[0 for i in range(k)]for j in range(k)]\n",
    "\n",
    "start = 0 \n",
    "end = k-1\n",
    "mat_val = n\n",
    "for i in range(n):\n",
    "    for j in range(start,end+1):\n",
    "        val[i][j] = mat_val\n",
    "        \n",
    "    for j in range(start+1,end+1):\n",
    "        val[j][i] = mat_val\n",
    "        \n",
    "    for j in range(start+1,end+1):\n",
    "        val[end][j] = mat_val\n",
    "    for j in range(start+1,end):\n",
    "        val[j][end]=mat_val\n",
    "        \n",
    "    start+=1\n",
    "    end-=1\n",
    "    mat_val-=1\n",
    "\n",
    "for i in range(k):\n",
    "    for j in range(k):\n",
    "        print(val[i][j],end='')\n",
    "    print()\n"
   ]
  },
  {
   "cell_type": "code",
   "execution_count": null,
   "metadata": {},
   "outputs": [],
   "source": [
    "def pattern(n):\n",
    "    \"\"\"Question contains very important concept of matrix\n",
    "    divide the whole question into four parts\n",
    "    \n",
    "    it will run on 2*n-1(these number of rows and similar number of columns)\n",
    "    \n",
    "    0 0 0 0 0\n",
    "    0 0 0 0 0 \n",
    "    0 0 0 0 0 \n",
    "    0 0 0 0 0 \n",
    "    0 0 0 0 0 \n",
    "    \n",
    "    \n",
    "    Divide the whole question into four parts\n",
    "    \n",
    "    Part1:row(0,1) and column(1,2,3,4)\n",
    "    \n",
    "     3 3 3 3 3 \n",
    "       2 2 2 \n",
    "         1\n",
    "         \n",
    "         \n",
    "   second part\n",
    "   \n",
    "   3\n",
    "   3 2\n",
    "   3 \n",
    "   3\n",
    "    \n",
    "    \n",
    "   Third part:\n",
    "    2  2\n",
    "  3 3 3 3\n",
    "  \n",
    "  fourth part:\n",
    "  \n",
    "    3\n",
    "  2  3\n",
    "  2  3\n",
    "    \n",
    "    \"\"\"\n",
    "    k = 2*n-1\n",
    "    val = [[0 for i in range(k)]for j in range(k)]\n",
    "    start = 0 \n",
    "    end = k-1\n",
    "    mat_val = n\n",
    "    for i in range(n):\n",
    "        for j in range(start,end+1):\n",
    "            val[i][j] = mat_val\n",
    "        \n",
    "        for j in range(start+1,end+1):\n",
    "            val[j][i] = mat_val\n",
    "        \n",
    "        for j in range(start+1,end+1):\n",
    "            val[end][j] = mat_val\n",
    "        for j in range(start+1,end):\n",
    "            val[j][end]=mat_val\n",
    "        \n",
    "        start+=1\n",
    "        end-=1\n",
    "        mat_val-=1\n",
    "\n",
    "    for i in range(k):\n",
    "        for j in range(k):\n",
    "            print(val[i][j],end='')\n",
    "        print()\n",
    "        \n",
    "    return''\n",
    "\n",
    "if __name__ == \"__main__\":\n",
    "    n = int(input())\n",
    "    print(pattern(n))"
   ]
  },
  {
   "cell_type": "code",
   "execution_count": 73,
   "metadata": {},
   "outputs": [
    {
     "name": "stdout",
     "output_type": "stream",
     "text": [
      "0 1 2 3 4 \n",
      "0 1 2 3 4 \n",
      "0 1 2 3 4 \n",
      "0 1 2 3 4 \n"
     ]
    }
   ],
   "source": [
    "for i in range(1,n+1):\n",
    "    for j in range(1,n+1):\n",
    "        print(j, end='')\n",
    "        print(\" \",end='')\n",
    "        \n",
    "    for j in range(2*n+1,2*n+6):\n",
    "        print(j,end='')\n",
    "        print(\" \",end='')\n",
    "        \n",
    "    \n",
    "    print()"
   ]
  },
  {
   "cell_type": "code",
   "execution_count": null,
   "metadata": {},
   "outputs": [],
   "source": [
    "1    2   3    4   5\n",
    " 11   12  13   14  15\n",
    " 21   22  23   24  25\n",
    " 16   17  18   19  20\n",
    " 6    7    8   9   10"
   ]
  },
  {
   "cell_type": "code",
   "execution_count": null,
   "metadata": {},
   "outputs": [],
   "source": [
    "def pattern(n):\n",
    "    n = int(input())\n",
    "    val = (n-1)\n",
    "    matrix = [[0 for i in range(n)] for j in range(n)]\n",
    "\n",
    "\n",
    "    for i in range(n//2):\n",
    "        for j in range(n):\n",
    "            matrix[i][j]=(2*n*i)+j+1\n",
    "        \n",
    "        \n",
    "        \n",
    "    for i_dash in range(n-1,n,1):\n",
    "        for j in range(n):\n",
    "            matrix[i_dash][j] = n+j+1\n",
    "        \n",
    "\n",
    "    for i_dash_dash in range(n//2,n-1):\n",
    "        for j in range(n):\n",
    "            matrix[i_dash_dash][j]=(n*val)+j+1\n",
    "        if val%2==0:\n",
    "            val-=1\n",
    "        else:\n",
    "            val-=2\n",
    "\n",
    "    \n",
    "        \n",
    "    \n",
    "\n",
    "\n",
    "\n",
    "    for i in range(n):\n",
    "        for j in range(n):\n",
    "            print(matrix[i][j],end='')\n",
    "            print(\" \",end='')\n",
    "        print()\n",
    "\n",
    "    \n",
    "    \n",
    "    return''\n",
    "\n",
    "\n",
    "if __name__ == \"__main__\":\n",
    "    n = int(input())\n",
    "    print(pattern(n))\n",
    "    \n",
    "        \n",
    "    "
   ]
  },
  {
   "cell_type": "code",
   "execution_count": 48,
   "metadata": {},
   "outputs": [
    {
     "name": "stdin",
     "output_type": "stream",
     "text": [
      " 5\n"
     ]
    },
    {
     "name": "stdout",
     "output_type": "stream",
     "text": [
      "1 2 3 4 5 \n",
      "11 12 13 14 15 \n",
      "21 22 23 24 25 \n",
      "16 17 18 19 20 \n",
      "6 7 8 9 10 \n"
     ]
    }
   ],
   "source": [
    "n = int(input())\n",
    "val = (n-1)\n",
    "matrix = [[0 for i in range(n)] for j in range(n)]\n",
    "\n",
    "\n",
    "for i in range(n//2):\n",
    "    for j in range(n):\n",
    "        matrix[i][j]=(2*n*i)+j+1\n",
    "        \n",
    "        \n",
    "        \n",
    "for i_dash in range(n-1,n,1):\n",
    "    for j in range(n):\n",
    "        matrix[i_dash][j] = n+j+1\n",
    "        \n",
    "\n",
    "for i_dash_dash in range(n//2,n-1):\n",
    "    for j in range(n):\n",
    "        matrix[i_dash_dash][j]=(n*val)+j+1\n",
    "    if val%2==0:\n",
    "        val-=1\n",
    "    else:\n",
    "        val-=2\n",
    "\n",
    "    \n",
    "        \n",
    "    \n",
    "\n",
    "\n",
    "    \n",
    "for i in range(n):\n",
    "    for j in range(n):\n",
    "        print(matrix[i][j],end='')\n",
    "        print(\" \",end='')\n",
    "    print()\n",
    "        "
   ]
  },
  {
   "cell_type": "markdown",
   "metadata": {},
   "source": [
    "#### 1    2   3    4   5\n",
    " 11   12  13   14  15\n",
    " 21   22  23   24  25\n",
    " 16   17  18   19  20\n",
    " 6    7    8   9   10"
   ]
  },
  {
   "cell_type": "markdown",
   "metadata": {},
   "source": [
    "---------------------------------------"
   ]
  },
  {
   "cell_type": "code",
   "execution_count": 11,
   "metadata": {},
   "outputs": [
    {
     "name": "stdin",
     "output_type": "stream",
     "text": [
      " 0\n",
      " 100\n",
      " 20\n"
     ]
    },
    {
     "name": "stdout",
     "output_type": "stream",
     "text": [
      "0 -17\n",
      "20 -6\n",
      "40 4\n",
      "60 15\n",
      "80 26\n",
      "100 37\n",
      "\n"
     ]
    }
   ],
   "source": [
    "import math\n",
    "def PrintTable(start,end,step):\n",
    "    \n",
    "    for i in range(start,end+step,step):\n",
    "        celsius = (i-32)*5/9\n",
    "        if celsius<0:\n",
    "            print(i,end='\\t')\n",
    "            print(math.ceil(celsius))\n",
    "        else:\n",
    "            print(i,end='\\t')\n",
    "            print(math.floor(celsius))\n",
    "        \n",
    "    return ''\n",
    "\n",
    "if __name__ == \"__main__\":\n",
    "    start = int(input())\n",
    "    end = int(input())\n",
    "    step = int(input())\n",
    "    print(PrintTable(start,end,step))\n",
    "\n",
    "  "
   ]
  },
  {
   "cell_type": "code",
   "execution_count": 20,
   "metadata": {},
   "outputs": [
    {
     "name": "stdin",
     "output_type": "stream",
     "text": [
      " 13\n"
     ]
    },
    {
     "name": "stdout",
     "output_type": "stream",
     "text": [
      "true\n"
     ]
    }
   ],
   "source": [
    "def fibonacci(n):\n",
    "    fib = [0]*(2*n+1)\n",
    "    if n==0 or n==1:\n",
    "        return n\n",
    "    fib[0] = 0\n",
    "    fib[1] = 1\n",
    "    for val in range(2,n+2):\n",
    "        fib[val]= fib[val-1] + fib[val-2]\n",
    "    \n",
    "    if n in fib:\n",
    "        return True\n",
    "    return False\n",
    "\n",
    "\n",
    "if __name__ == \"__main__\":\n",
    "    n = int(input())\n",
    "    if fibonacci(n):\n",
    "        print('true')\n",
    "    else:\n",
    "        print('false')\n",
    "        "
   ]
  },
  {
   "cell_type": "code",
   "execution_count": 27,
   "metadata": {},
   "outputs": [
    {
     "name": "stdin",
     "output_type": "stream",
     "text": [
      " 1010\n"
     ]
    },
    {
     "name": "stdout",
     "output_type": "stream",
     "text": [
      "false\n"
     ]
    }
   ],
   "source": [
    "def checkpalindrone(n):\n",
    "    val = int(str(n)[::-1])\n",
    "    if val == n:\n",
    "        return True\n",
    "    else:\n",
    "        return False\n",
    "    pass\n",
    "\n",
    "if __name__ == \"__main__\":\n",
    "    n = int(input())\n",
    "    if checkpalindrone(n):\n",
    "        print('true')\n",
    "    else:\n",
    "        print('false')"
   ]
  },
  {
   "cell_type": "code",
   "execution_count": 47,
   "metadata": {},
   "outputs": [
    {
     "name": "stdin",
     "output_type": "stream",
     "text": [
      " 1900\n"
     ]
    },
    {
     "name": "stdout",
     "output_type": "stream",
     "text": [
      "false\n"
     ]
    }
   ],
   "source": [
    "def Armstrong(n)->int:\n",
    "    val_nm = str(n)\n",
    "    length_val = len(val_nm)\n",
    "    num = []\n",
    "    for i in range(length_val):\n",
    "        num.append(int(val_nm[i])**length_val)\n",
    "    arm_num = sum(num)\n",
    "    return arm_num\n",
    "\n",
    "\n",
    "def Isarmstrong(n)->bool:\n",
    "    if n == Armstrong(n):\n",
    "        return True\n",
    "    else:\n",
    "        return False\n",
    "    pass\n",
    "\n",
    "if __name__ == '__main__':\n",
    "    n = int(input())\n",
    "    if Isarmstrong(n):\n",
    "        print(\"true\")\n",
    "    else:\n",
    "        print('false')"
   ]
  },
  {
   "cell_type": "code",
   "execution_count": 43,
   "metadata": {},
   "outputs": [
    {
     "name": "stdin",
     "output_type": "stream",
     "text": [
      " 1\n"
     ]
    },
    {
     "name": "stdout",
     "output_type": "stream",
     "text": [
      "1\n"
     ]
    }
   ],
   "source": [
    "n = int(input())\n",
    "print(Armstrong(n))"
   ]
  },
  {
   "cell_type": "code",
   "execution_count": 32,
   "metadata": {},
   "outputs": [
    {
     "data": {
      "text/plain": [
       "3"
      ]
     },
     "execution_count": 32,
     "metadata": {},
     "output_type": "execute_result"
    }
   ],
   "source": [
    "len(str(371))"
   ]
  },
  {
   "cell_type": "code",
   "execution_count": 59,
   "metadata": {},
   "outputs": [],
   "source": [
    "def star_pattern1(n):\n",
    "    for i in range(1,n+1):\n",
    "        for j in range(n,0,-1):\n",
    "            if j==i:\n",
    "                print('*',end='')\n",
    "            else:\n",
    "                print(j,end='')\n",
    "            \n",
    "        print()\n",
    "    return''\n",
    "\n"
   ]
  },
  {
   "cell_type": "code",
   "execution_count": 60,
   "metadata": {},
   "outputs": [
    {
     "name": "stdin",
     "output_type": "stream",
     "text": [
      " 4\n"
     ]
    },
    {
     "name": "stdout",
     "output_type": "stream",
     "text": [
      "432*\n",
      "43*1\n",
      "4*21\n",
      "*321\n",
      "\n"
     ]
    }
   ],
   "source": [
    "if __name__ == \"__main__\":\n",
    "    n = int(input())\n",
    "    print(star_pattern1(n))"
   ]
  },
  {
   "cell_type": "code",
   "execution_count": null,
   "metadata": {},
   "outputs": [],
   "source": [
    "*00*00*\n",
    "0*0*0*0\n",
    "00***00"
   ]
  },
  {
   "cell_type": "code",
   "execution_count": 66,
   "metadata": {},
   "outputs": [
    {
     "name": "stdin",
     "output_type": "stream",
     "text": [
      " 5\n"
     ]
    },
    {
     "name": "stdout",
     "output_type": "stream",
     "text": [
      "*0000*0000*\n",
      "0*000*000*0\n",
      "00*00*00*00\n",
      "000*0*0*000\n",
      "0000***0000\n",
      "\n"
     ]
    }
   ],
   "source": [
    "def zero_star_pattern(n):\n",
    "    start = 1\n",
    "    end = 2*n+1\n",
    "    \n",
    "    for i in range(1,n+1):\n",
    "        for j in range(1,2*n+2):\n",
    "            if j == ((2*n)//2)+1:\n",
    "                print(\"*\",end='')\n",
    "            elif j == start or j==end:\n",
    "                print(\"*\",end='')\n",
    "            else:\n",
    "                print('0',end='')\n",
    "        print()\n",
    "        start+=1\n",
    "        end-=1\n",
    "    return''\n",
    "\n",
    "if __name__ == \"__main__\":\n",
    "    n = int(input())\n",
    "    print(zero_star_pattern(n))"
   ]
  },
  {
   "cell_type": "code",
   "execution_count": null,
   "metadata": {},
   "outputs": [],
   "source": []
  },
  {
   "cell_type": "code",
   "execution_count": null,
   "metadata": {},
   "outputs": [],
   "source": [
    "i = 1 (1,4,7)\n",
    "i =2 (2,4,6)"
   ]
  },
  {
   "cell_type": "code",
   "execution_count": 61,
   "metadata": {},
   "outputs": [
    {
     "data": {
      "text/plain": [
       "3"
      ]
     },
     "execution_count": 61,
     "metadata": {},
     "output_type": "execute_result"
    }
   ],
   "source": [
    "7//2"
   ]
  },
  {
   "cell_type": "code",
   "execution_count": 68,
   "metadata": {},
   "outputs": [
    {
     "name": "stdout",
     "output_type": "stream",
     "text": [
      "['abcd', 'def', 5]\n"
     ]
    }
   ],
   "source": [
    "li =['abcd','def']\n",
    "li.insert(4,5)\n",
    "print(li)"
   ]
  },
  {
   "cell_type": "code",
   "execution_count": 2,
   "metadata": {},
   "outputs": [
    {
     "name": "stdout",
     "output_type": "stream",
     "text": [
      "140724497164032\n"
     ]
    }
   ],
   "source": [
    "a = 0\n",
    "print(id(a))"
   ]
  },
  {
   "cell_type": "code",
   "execution_count": 5,
   "metadata": {},
   "outputs": [
    {
     "name": "stdin",
     "output_type": "stream",
     "text": [
      " 9 8 7 6 5 4\n"
     ]
    },
    {
     "name": "stdout",
     "output_type": "stream",
     "text": [
      "39\n"
     ]
    }
   ],
   "source": [
    "lambda_vl = lambda lst:sum(lst)\n",
    "\n",
    "lst = [int(val) for val in input().split()]\n",
    "\n",
    "print(lambda_vl(lst))"
   ]
  },
  {
   "cell_type": "code",
   "execution_count": 14,
   "metadata": {},
   "outputs": [
    {
     "name": "stdin",
     "output_type": "stream",
     "text": [
      " 622\n",
      " 14 -3 20 7 1 29 -19 3 27 -11 24 2 20 -10 -14 -18 5 18 -25 22 19 4 -18 8 4 14 4 -18 -24 -12 -29 -5 5 -26 28 -7 16 -12 -12 27 11 9 29 -26 24 -11 -16 24 -5 4 -5 -5 -1 13 30 -2 8 8 -25 12 -22 16 9 14 -4 4 -25 3 29 -14 30 -27 22 -28 15 8 20 4 20 29 -8 8 -14 9 -14 -5 7 -19 -27 -15 5 30 -6 -15 2 3 -9 3 -12 15 -4 2 -5 -10 7 8 3 -6 -20 -1 -20 23 12 18 -24 15 -18 -6 -6 9 -4 -9 -26 24 -1 -23 1 -22 27 -1 -15 -23 -13 3 8 -12 20 27 13 -21 28 -7 16 -7 13 -29 -18 -19 -24 -28 -4 -20 20 18 2 1 -1 23 -1 -11 11 -25 -27 9 4 -24 16 -21 13 -20 23 0 -24 9 -24 26 5 -4 -11 7 -29 -9 -5 18 17 -4 21 -28 22 27 -10 10 -14 30 -1 15 -11 16 -12 11 3 7 -4 -20 9 -19 -24 1 3 15 -5 -26 -24 -18 2 26 23 -16 27 7 4 7 -11 17 -1 21 0 22 -27 19 12 3 20 -1 -7 6 11 -26 -17 5 -19 13 17 -15 3 19 15 -29 -9 9 -23 9 -14 -4 6 30 -22 -12 18 10 -16 -12 -13 3 3 25 -13 14 -19 -7 1 -15 -24 -25 -9 -14 26 -4 -13 10 -28 -12 12 -18 -28 9 30 -19 -9 5 26 -19 -4 -3 -10 -4 13 -19 -1 -19 -13 1 -23 24 16 -1 -13 1 14 -9 -12 30 6 16 30 13 -20 -26 -25 21 -29 -21 -6 -4 -17 -18 -5 17 -18 -17 14 -3 12 -2 19 20 11 24 16 18 -25 -23 26 -26 23 16 -7 28 -14 -26 -6 4 4 8 -25 -24 17 -27 -28 -22 18 -7 23 8 0 3 -25 -15 14 -18 -23 14 19 -29 -1 17 13 3 10 -13 6 22 -23 2 26 -27 -25 7 -3 -16 -3 0 2 -1 23 -20 -28 -13 -18 3 14 22 -22 -8 15 16 28 25 12 1 16 28 10 -25 14 -3 23 -17 -1 -3 8 28 18 29 -17 29 -26 27 -21 4 10 19 -2 -17 4 -21 -19 1 16 -7 2 -24 5 -25 -29 1 -21 10 -5 -4 13 1 29 -21 -2 13 -17 1 12 7 11 -25 21 -2 8 4 -27 30 13 -26 8 20 -9 20 -21 -10 -6 -21 28 0 3 -2 23 -24 18 -25 10 -28 7 11 11 -14 -22 28 27 -8 -10 24 -20 15 -13 -10 27 -5 -5 21 30 -12 -23 -1 30 22 -8 13 4 15 12 14 -12 27 -5 30 5 -24 9 14 -21 28 7 9 11 16 -9 -24 -19 22 -21 -6 18 23 -1 -26 -20 -21 -21 9 12 6 -4 27 -25 15 -20 -17 25 9 -12 -6 -28 21 -3 16 -15 22 4 26 9 18 -20 20 -12 -25 22 -15 -7 -12 -29 2 17 25 -20 -25 25 28 13 16 9 -26 -5 24 -15 -3 14 -27 -23 -6 -6 -1 -4 -18 21 6 -8 21 4 -16 29 -15 2 -9 -7 18 17 24 -5 3 -9 1 27 11 -5 17 \n"
     ]
    },
    {
     "name": "stdout",
     "output_type": "stream",
     "text": [
      "155\n"
     ]
    }
   ],
   "source": [
    "lambda_lst = lambda lst:sum(lst)\n",
    "\n",
    "if __name__ == \"__main__\":\n",
    "    n = int(input())\n",
    "    lst_input = input()\n",
    "    lst_new = [int(val) for val in lst_input.split()]\n",
    "    print(lambda_lst(lst_new))"
   ]
  },
  {
   "cell_type": "code",
   "execution_count": 22,
   "metadata": {},
   "outputs": [
    {
     "name": "stdout",
     "output_type": "stream",
     "text": [
      "[2, 1, 4, 3, 6, 5, 8, 7, 10, 9, 11]\n"
     ]
    }
   ],
   "source": [
    "a = [1,2,3,4,5,5]\n",
    "val = '1 2 3 4 5 6 7 8 9 10 11'\n",
    "a = [int(i) for i in val.split()]\n",
    "if len(a)%2!=0:\n",
    "    for i in range(0,len(a)-1,2):\n",
    "        a[i],a[i+1] = a[i+1],a[i]\n",
    "else:\n",
    "    for i in range(0,len(a),2):\n",
    "        a[i],a[i+1] = a[i+1],a[i]\n",
    "    \n",
    "    \n",
    "print(a)"
   ]
  },
  {
   "cell_type": "code",
   "execution_count": 30,
   "metadata": {},
   "outputs": [
    {
     "name": "stdin",
     "output_type": "stream",
     "text": [
      " 9 2 3 4 5 9 2 3 4\n"
     ]
    },
    {
     "name": "stdout",
     "output_type": "stream",
     "text": [
      "5\n",
      "\n"
     ]
    }
   ],
   "source": [
    "def findunique(arr,n):\n",
    "    arr_unq = list(set(arr))\n",
    "    for i in arr_unq:\n",
    "        if arr.count(i)==1:\n",
    "            print(i)\n",
    "            break\n",
    "    return''\n",
    "        \n",
    "if __name__ == \"__main__\":\n",
    "    arr = [int(val) for val in input().split()]\n",
    "    n = len(arr)\n",
    "    print(findunique(arr,n))\n",
    "            "
   ]
  },
  {
   "cell_type": "code",
   "execution_count": 31,
   "metadata": {},
   "outputs": [
    {
     "name": "stdin",
     "output_type": "stream",
     "text": [
      " 1 2 3 4 4 0 9 8\n"
     ]
    },
    {
     "name": "stdout",
     "output_type": "stream",
     "text": [
      "4\n",
      "\n"
     ]
    }
   ],
   "source": [
    "\n",
    "def duplicateNumber(arr, n) :\n",
    "    arr_dup = list(set(arr))\n",
    "    \n",
    "    for idx_val in arr_dup:\n",
    "        if arr.count(idx_val) == 2:\n",
    "            print(idx_val)\n",
    "            break\n",
    "    return''\n",
    "if __name__ == \"__main__\":\n",
    "    arr = [int(val) for val in input().split()]\n",
    "    n = len(arr)\n",
    "    print(duplicateNumber(arr,n))\n",
    "            "
   ]
  },
  {
   "cell_type": "code",
   "execution_count": 35,
   "metadata": {},
   "outputs": [
    {
     "name": "stdin",
     "output_type": "stream",
     "text": [
      " 2 6 1 2\n",
      " 1 2 3 4 2\n"
     ]
    },
    {
     "name": "stdout",
     "output_type": "stream",
     "text": [
      "2 1 2 \n"
     ]
    }
   ],
   "source": [
    "def intersections(arr1, n, arr2, m) :\n",
    "    for val in arr1:\n",
    "        if val in arr2:\n",
    "            print(val,end = ' ')\n",
    "            arr2.remove(val)\n",
    "            \n",
    "    return''\n",
    "if __name__ == \"__main__\":\n",
    "    arr1 = [int(i) for i in input().split()]\n",
    "    n = len(arr1)\n",
    "    arr2 = [int(j) for j in input().split()]\n",
    "    m = len(arr2)\n",
    "    \n",
    "    print(intersections(arr1,n,arr2,m))"
   ]
  },
  {
   "cell_type": "code",
   "execution_count": 39,
   "metadata": {},
   "outputs": [
    {
     "name": "stdin",
     "output_type": "stream",
     "text": [
      " 1 3 6 2 5 4 3 2 4\n",
      " 7\n"
     ]
    },
    {
     "name": "stdout",
     "output_type": "stream",
     "text": [
      "7\n"
     ]
    }
   ],
   "source": [
    "def pairsum(arr,n,x):\n",
    "    idex = 0\n",
    "    pair = 0\n",
    "    while idex<n-1:\n",
    "        for val in range(idex+1,n):\n",
    "            if arr[idex]+arr[val] == x:\n",
    "                pair+=1\n",
    "        idex+=1\n",
    "    return pair\n",
    "\n",
    "if __name__ == \"__main__\":\n",
    "    arr = [int(i) for i in input().split()]\n",
    "    n = len(arr)\n",
    "    x = int(input())\n",
    "    print(pairsum(arr,n,x))"
   ]
  },
  {
   "cell_type": "code",
   "execution_count": 36,
   "metadata": {},
   "outputs": [],
   "source": [
    "a = [11,2,33,11]\n",
    "a.remove(11)"
   ]
  },
  {
   "cell_type": "code",
   "execution_count": 37,
   "metadata": {},
   "outputs": [
    {
     "data": {
      "text/plain": [
       "[2, 33, 11]"
      ]
     },
     "execution_count": 37,
     "metadata": {},
     "output_type": "execute_result"
    }
   ],
   "source": [
    "a"
   ]
  },
  {
   "cell_type": "code",
   "execution_count": 14,
   "metadata": {},
   "outputs": [
    {
     "name": "stdin",
     "output_type": "stream",
     "text": [
      " 1 2 3 4 5 6 7 \n",
      " 12\n"
     ]
    },
    {
     "name": "stdout",
     "output_type": "stream",
     "text": [
      "5\n"
     ]
    }
   ],
   "source": [
    "def triplet_sum(arr,n,k):\n",
    "    sum_trip = 0\n",
    "    for i in range(0,n-2):\n",
    "        for j in range(i+1,n-1):\n",
    "            for f in range(j+1,n):\n",
    "                if arr[i]+arr[j]+arr[f]==k:\n",
    "                    sum_trip+=1\n",
    "                    \n",
    "        \n",
    "    return sum_trip\n",
    "\n",
    "if __name__ == '__main__':\n",
    "    arr = [int(val) for val in input().split()]\n",
    "    n = len(arr)\n",
    "    k = int(input())\n",
    "    print(triplet_sum(arr,n,k))"
   ]
  },
  {
   "cell_type": "code",
   "execution_count": 17,
   "metadata": {},
   "outputs": [],
   "source": [
    "a = [1,2,3,5]\n",
    "a.extend([1,1,1])"
   ]
  },
  {
   "cell_type": "code",
   "execution_count": 18,
   "metadata": {},
   "outputs": [
    {
     "data": {
      "text/plain": [
       "[1, 2, 3, 5, 1, 1, 1]"
      ]
     },
     "execution_count": 18,
     "metadata": {},
     "output_type": "execute_result"
    }
   ],
   "source": [
    "a"
   ]
  },
  {
   "cell_type": "code",
   "execution_count": 35,
   "metadata": {},
   "outputs": [
    {
     "name": "stdin",
     "output_type": "stream",
     "text": [
      " 1 1 0 0 1 0\n"
     ]
    },
    {
     "name": "stdout",
     "output_type": "stream",
     "text": [
      "0 0 0 1 1 1 \n"
     ]
    }
   ],
   "source": [
    "def sortZeroesAndOne(arr, n):\n",
    "    i = 0\n",
    "    j = n-1\n",
    "    k = 0\n",
    "    while k<n:\n",
    "        if arr[i]==0:\n",
    "            i+=1\n",
    "        elif arr[j]==0 and arr[i]!=0:\n",
    "            arr[i],arr[j] = arr[j],arr[i]\n",
    "            i+=1\n",
    "\n",
    "        else:\n",
    "            j-=1\n",
    "        k+=1\n",
    "            \n",
    "            \n",
    "    for val in arr:\n",
    "        print(val,end=' ')\n",
    "    return ''\n",
    "\n",
    "\n",
    "if __name__ == \"__main__\":\n",
    "    arr = [int(val) for val in input().split()]\n",
    "    n  = len(arr)\n",
    "    print(sortZeroesAndOne(arr,n))"
   ]
  },
  {
   "cell_type": "code",
   "execution_count": 17,
   "metadata": {},
   "outputs": [
    {
     "name": "stdin",
     "output_type": "stream",
     "text": [
      " 0\n",
      " 23\n"
     ]
    },
    {
     "name": "stdout",
     "output_type": "stream",
     "text": [
      "-1\n"
     ]
    }
   ],
   "source": [
    "def Binary_Search(arr,n,x):\n",
    "    start = 0\n",
    "    end = len(arr)-1\n",
    "    \n",
    "    \n",
    "    if len(arr)==0:\n",
    "        return arr\n",
    "    \n",
    "    while end>=start:\n",
    "        \n",
    "        mid = end+start//2\n",
    "        \n",
    "        if arr[mid]==x:\n",
    "            return mid\n",
    "        \n",
    "        elif arr[mid]>x:\n",
    "            end = mid-1\n",
    "            \n",
    "        elif arr[mid]<x:\n",
    "            start = mid+1\n",
    "    \n",
    "    return -1\n",
    "#     return''\n",
    "\n",
    "\n",
    "if __name__ == \"__main__\":\n",
    "    arr = [int(val) for val in input().split()]\n",
    "    n = len(arr)\n",
    "    x = int(input())\n",
    "    print(Binary_Search(arr,n,x))"
   ]
  },
  {
   "cell_type": "code",
   "execution_count": 7,
   "metadata": {},
   "outputs": [],
   "source": [
    "# def Selection_sort(arr,n):\n",
    "# #     i = 0\n",
    "# #     min_val = 0\n",
    "#      for i in range(n):\n",
    "#         min_val = arr[i]\n",
    "#         for j in range(i+1,n):\n",
    "#             if min_val>arr[j]:\n",
    "#                 min_val = arr[j]\n",
    "                \n",
    "#         arr[i]= arr[arr.index(min_val)]\n",
    "#         arr[arr.index(min_val)] = index_val\n",
    "        \n",
    "\n",
    "# #         arr[i],arr[arr.index(min_val)] = arr[arr.index(min_val)],arr[i] ## why list is not swaping its value\n",
    "        \n",
    "        \n",
    "    \n",
    "    \n",
    "#      return arr\n",
    "\n",
    "# if __name__ == '__main__':\n",
    "#     arr = [int(val) for val in input().split()]\n",
    "#     n = len(arr)\n",
    "#     print(Selection_sort(arr,n))"
   ]
  },
  {
   "cell_type": "code",
   "execution_count": 8,
   "metadata": {},
   "outputs": [
    {
     "name": "stdout",
     "output_type": "stream",
     "text": [
      "Sorted array\n",
      "11 12 22 25 64 "
     ]
    }
   ],
   "source": [
    "A = [64, 25, 12, 22, 11]\n",
    "  \n",
    "# Traverse through all array elements\n",
    "for i in range(len(A)):\n",
    "      \n",
    "    # Find the minimum element in remaining \n",
    "    # unsorted array\n",
    "    min_idx = i\n",
    "    for j in range(i+1, len(A)):\n",
    "        if A[min_idx] > A[j]:\n",
    "            min_idx = j\n",
    "              \n",
    "    # Swap the found minimum element with \n",
    "    # the first element        \n",
    "    A[i], A[min_idx] = A[min_idx], A[i]\n",
    "  \n",
    "# Driver code to test above\n",
    "print (\"Sorted array\")\n",
    "for i in range(len(A)):\n",
    "    print(\"%d\" %A[i],end=\" \") "
   ]
  },
  {
   "cell_type": "code",
   "execution_count": 26,
   "metadata": {},
   "outputs": [
    {
     "name": "stdin",
     "output_type": "stream",
     "text": [
      " 1 7 14 0 9 4 18 18 2 4 5 \n"
     ]
    },
    {
     "name": "stdout",
     "output_type": "stream",
     "text": [
      "[0, 1, 2, 4, 4, 5, 7, 9, 14, 18, 18]\n"
     ]
    }
   ],
   "source": [
    "def selection_sort(arr,n):\n",
    "\n",
    "    i = 0\n",
    "    while i<n:\n",
    "        min_val = arr[i]\n",
    "        for j in range(i+1,n):\n",
    "            if  min_val>arr[j]:\n",
    "                min_val = arr[j]\n",
    "        \n",
    "        min_index = arr[i:].index(min_val)\n",
    "        arr[i],arr[min_index+i] = arr[min_index+i],arr[i]\n",
    "        i+=1\n",
    "    return arr\n",
    "\n",
    "\n",
    "\n",
    "if __name__ == '__main__':\n",
    "    arr = [int(val) for val in input().split()]\n",
    "    n = len(arr)\n",
    "    print(selection_sort(arr,n))"
   ]
  },
  {
   "cell_type": "code",
   "execution_count": 34,
   "metadata": {},
   "outputs": [
    {
     "name": "stdin",
     "output_type": "stream",
     "text": [
      "  1 7 14 0 9 4 18 18 2 4 5\n"
     ]
    },
    {
     "name": "stdout",
     "output_type": "stream",
     "text": [
      "[0, 1, 2, 4, 4, 5, 7, 9, 14, 18, 18]\n"
     ]
    }
   ],
   "source": [
    "def Bubble_Sort(arr,n):\n",
    "    for i in range(n//2+1):\n",
    "        for j in range(n-1):\n",
    "            if arr[j]>arr[j+1]:\n",
    "                arr[j],arr[j+1] = arr[j+1],arr[j]\n",
    "        \n",
    "    return arr\n",
    "\n",
    "if __name__ == '__main__':\n",
    "    arr = [int(val) for val in input().split()]\n",
    "    n = len(arr)\n",
    "    print(Bubble_Sort(arr,n))"
   ]
  },
  {
   "cell_type": "code",
   "execution_count": 24,
   "metadata": {},
   "outputs": [
    {
     "data": {
      "text/plain": [
       "3"
      ]
     },
     "execution_count": 24,
     "metadata": {},
     "output_type": "execute_result"
    }
   ],
   "source": [
    "a= [1,3,4,8,9,10,4,2,3]\n",
    "a[3:].index(4)"
   ]
  },
  {
   "cell_type": "code",
   "execution_count": 4,
   "metadata": {},
   "outputs": [
    {
     "name": "stdout",
     "output_type": "stream",
     "text": [
      "1\n"
     ]
    }
   ],
   "source": [
    "for i in range(1,0,-1):\n",
    "    print(i)"
   ]
  },
  {
   "cell_type": "code",
   "execution_count": 14,
   "metadata": {},
   "outputs": [],
   "source": [
    "def insertion_sort(arr):\n",
    "    ## slow process \n",
    "    \"\"\"swapping part\"\"\"\n",
    "    i = 0\n",
    "    while i>=0 and i<=len(arr)-2:\n",
    "        if arr[i]>arr[i+1]:\n",
    "            arr[i],arr[i+1] = arr[i+1],arr[i]\n",
    "            \n",
    "        \"\"\"comparing\"\"\"    \n",
    "        k = i\n",
    "        for val in range(i,0,-1):\n",
    "            if arr[k]<arr[val-1]:\n",
    "                arr[k],arr[val-1] = arr[val-1],arr[k]\n",
    "                k-=1\n",
    "            \n",
    "        i+=1\n",
    "    return arr"
   ]
  },
  {
   "cell_type": "code",
   "execution_count": 15,
   "metadata": {},
   "outputs": [
    {
     "name": "stdout",
     "output_type": "stream",
     "text": [
      "[1, 2, 3, 4, 7, 20, 78, 99, 101, 671]\n"
     ]
    }
   ],
   "source": [
    "print(insertion_sort([1,7,4,3,101,99,78,671,20,2]))"
   ]
  },
  {
   "cell_type": "code",
   "execution_count": 31,
   "metadata": {},
   "outputs": [
    {
     "name": "stdin",
     "output_type": "stream",
     "text": [
      " 10\n"
     ]
    },
    {
     "name": "stdout",
     "output_type": "stream",
     "text": [
      "list before sorted :[62, 100, 52, 100, 33, 19, 68, 23, 13, 81]\n",
      "-----------------------------\n",
      "After sorted\n",
      "[13, 19, 23, 33, 52, 62, 68, 81, 100, 100]\n"
     ]
    }
   ],
   "source": [
    "## working in right direction \n",
    "def insert_sort(arr,n):\n",
    "    for i in range(n-1):\n",
    "        for j in range(i+1,0,-1):\n",
    "            if arr[j]<arr[j-1]:\n",
    "                val = arr[j-1]\n",
    "                arr[j-1] = arr[j]\n",
    "                arr[j] = val\n",
    "    return arr\n",
    "\n",
    "\n",
    "if __name__ == \"__main__\":\n",
    "    import random\n",
    "    n = int(input())\n",
    "    lst1 = []\n",
    "    for i in range(n):\n",
    "        lst1.insert(i,random.randint(1,100))\n",
    "    print(\"list before sorted :{}\".format(lst1))\n",
    "    length = len(lst1)\n",
    "    \n",
    "    print(\"-----------------------------\")\n",
    "    \n",
    "    print(\"After sorted\")\n",
    "    print(insert_sort(lst1,length))\n",
    "    "
   ]
  },
  {
   "cell_type": "code",
   "execution_count": 39,
   "metadata": {},
   "outputs": [
    {
     "name": "stdin",
     "output_type": "stream",
     "text": [
      " 5\n"
     ]
    },
    {
     "name": "stdout",
     "output_type": "stream",
     "text": [
      "[33, 86, 18, 98, 76]\n",
      "[62, 47, 69, 91, 97]\n",
      "---------------------------\n",
      "[18, 33, 76, 86, 98]\n",
      "[47, 62, 69, 91, 97]\n",
      "-----------------------------\n",
      "[18, 33, 47, 62, 69, 76, 86, 91, 97, 98]\n"
     ]
    }
   ],
   "source": [
    "def merging_sorted_array(arr1,arr2):\n",
    "    arr3 = []\n",
    "    i = 0\n",
    "    j = 0\n",
    "    while i<=len(arr1)-1 and j<=len(arr2)-1:\n",
    "        if arr1[i]<arr2[j]:\n",
    "            arr3.append(arr1[i])\n",
    "            i+=1\n",
    "        elif arr1[i]>=arr2[j]:\n",
    "            arr3.append(arr2[j])\n",
    "            j+=1\n",
    "        \n",
    "        \n",
    "    for j in range(j,len(arr2)):\n",
    "        arr3.append(arr2[j])\n",
    "            \n",
    "    for j in range(i,len(arr1)):\n",
    "        arr3.append(arr1[j])\n",
    "            \n",
    "    return arr3\n",
    "\n",
    "if __name__ == \"__main__\":\n",
    "    import random\n",
    "    n = int(input())\n",
    "    arr1 = []\n",
    "    arr2 = []\n",
    "    for i in range(n):\n",
    "        arr1.insert(i,random.randint(1,100))\n",
    "    for i in range(n):\n",
    "        arr2.insert(i,random.randint(1,100))\n",
    "    \n",
    "    print(arr1)\n",
    "    print(arr2)\n",
    "    \n",
    "    print(\"---------------------------\")\n",
    "   \n",
    "    arr1 = insert_sort(arr1,n)\n",
    "    arr2 = insert_sort(arr2,n)\n",
    "    \n",
    "    print(arr1)\n",
    "    print(arr2)\n",
    "    print(\"-----------------------------\")\n",
    "    \n",
    "\n",
    "    print(merging_sorted_array(arr1,arr2))\n",
    "    \n",
    "    "
   ]
  },
  {
   "cell_type": "code",
   "execution_count": 54,
   "metadata": {},
   "outputs": [
    {
     "name": "stdin",
     "output_type": "stream",
     "text": [
      " 10\n"
     ]
    },
    {
     "name": "stdout",
     "output_type": "stream",
     "text": [
      "[2, 0, 0, 1, 2, 0, 1, 0, 2, 1]\n",
      "---------------------------------\n",
      "[2, 1, 1, 2, 1, 2, 0, 0, 0, 0]\n"
     ]
    }
   ],
   "source": [
    "## wrong because order is not correct\n",
    "def pushZerotoEnd(arr,n):\n",
    "    j = n-1\n",
    "    for k in range(n//2):\n",
    "        for i in range(n-1):\n",
    "            if arr[i]==0 and arr[j]!=0:\n",
    "                arr[i],arr[j] = arr[j],arr[i]\n",
    "            elif arr[i]==0 and arr[j]==0:\n",
    "                arr[i],arr[i+1] = arr[i+1],arr[i]\n",
    "    return arr\n",
    "\n",
    "if __name__ == \"__main__\":\n",
    "    import random\n",
    "    n = int(input())\n",
    "    arr1 = []\n",
    "    \n",
    "    for i in range(n):\n",
    "        arr1.insert(i,random.randint(0,2))\n",
    "    \n",
    "    \n",
    "    \n",
    "    print(arr1)\n",
    "    print(\"---------------------------------\")\n",
    "    print(pushZerotoEnd(arr1,n))"
   ]
  },
  {
   "cell_type": "code",
   "execution_count": 85,
   "metadata": {},
   "outputs": [
    {
     "name": "stdin",
     "output_type": "stream",
     "text": [
      " 3\n"
     ]
    },
    {
     "name": "stdout",
     "output_type": "stream",
     "text": [
      "[5, 0, 7, 4, 8, 1, 3, 0, 7, 2, 0]\n",
      "---------------------------------\n",
      "[5, 7, 4, 8, 1, 3, 7, 2, 0, 0, 0]\n"
     ]
    }
   ],
   "source": [
    "def pushZerotoEnd(arr,n):\n",
    "    arr2 = [0]*n\n",
    "    idx = 0\n",
    "    for val in arr:\n",
    "        if val>0:\n",
    "            arr2.insert(idx,val)\n",
    "            idx+=1\n",
    "            \n",
    "    for i in range(n-1):\n",
    "        for j in range(i+1,0,-1):\n",
    "            if arr[j]!=0 and arr[j-1]==0:\n",
    "                arr[j],arr[j-1] = arr[j-1],arr[j]\n",
    "                if arr == arr2:\n",
    "                    break\n",
    "\n",
    "                \n",
    "    return arr\n",
    "\n",
    "def pushZerotoEnd2(arr,n):\n",
    "    ar1 = [0]*n\n",
    "    j = 0\n",
    "    for i in arr:\n",
    "        if i>0:\n",
    "            ar1[j] = i\n",
    "            j+=1\n",
    "                \n",
    "    return ar1\n",
    "\n",
    "\n",
    "if __name__ == \"__main__\":\n",
    "    import random\n",
    "    n = int(input())\n",
    "    arr1 = []\n",
    "    \n",
    "    for i in range(n):\n",
    "        arr1.insert(i,random.randint(0,2))\n",
    "    \n",
    "    \n",
    "    arr1 = [5,0,7,4,8,1,3,0,7,2,0]\n",
    "    print(arr1)\n",
    "    n = len(arr1)\n",
    "    print(\"---------------------------------\")\n",
    "    print(pushZerotoEnd2(arr1,n))"
   ]
  },
  {
   "cell_type": "code",
   "execution_count": 5,
   "metadata": {},
   "outputs": [
    {
     "name": "stdin",
     "output_type": "stream",
     "text": [
      " 11\n",
      " 20\n"
     ]
    },
    {
     "name": "stdout",
     "output_type": "stream",
     "text": [
      "[2, 7, 5, 9, 9, 9, 3, 6, 8, 7, 8]\n",
      "---------------------------------\n",
      "[7, 8, 2, 7, 5, 9, 9, 9, 3, 6, 8]\n"
     ]
    }
   ],
   "source": [
    "def rotate(arr,n,d):\n",
    "    \"\"\"working but not look ok\"\"\"\n",
    "    arr2 = [0]*n\n",
    "    for i in range(n):\n",
    "        arr2[i-d] = arr[i]\n",
    "        \n",
    "    for j in range(n):\n",
    "        arr[j] = arr2[j]\n",
    "        \n",
    "    return arr\n",
    "\n",
    "\n",
    "def rotate2(arr, n, d):\n",
    "    \"slow\"\n",
    "    for i in range(d):\n",
    "        val = arr[0]\n",
    "        for j in range(1,n):\n",
    "            arr[j-1] = arr[j]\n",
    "        arr[n-1] = val\n",
    "        print(arr)\n",
    "    return arr\n",
    "\n",
    "\n",
    "def rotate3(arr,n,d):\n",
    "    arr_temp = []\n",
    "    if d>n:\n",
    "        d = d-n\n",
    "    for i in range(d):\n",
    "        arr_temp.append(arr[i])\n",
    "        \n",
    "    for j in range(n-d):\n",
    "        arr[j] = arr[j+d]\n",
    "    for k in range(d):\n",
    "        arr[n-d+k] = arr_temp[k]\n",
    "        \n",
    "    return arr\n",
    "    \n",
    "\n",
    "if __name__ == \"__main__\":\n",
    "    import random\n",
    "    n = int(input())\n",
    "    arr1 = []\n",
    "    \n",
    "    for i in range(n):\n",
    "        arr1.insert(i,random.randint(1,10))\n",
    "    \n",
    "\n",
    "    n = len(arr1)\n",
    "    d = int(input())\n",
    "    print(arr1)\n",
    "    print(\"---------------------------------\")\n",
    "    print(rotate3(arr1,n,d))\n",
    "    \n"
   ]
  },
  {
   "cell_type": "code",
   "execution_count": 74,
   "metadata": {},
   "outputs": [
    {
     "name": "stdin",
     "output_type": "stream",
     "text": [
      " 10\n",
      " 2\n"
     ]
    },
    {
     "name": "stdout",
     "output_type": "stream",
     "text": [
      "[0, 1, 2, 1, 0, 1, 2, 0, 1, 2, 2, 2, 2]\n",
      "---------------------------------\n",
      "[0, 0, 0, 1, 1, 1, 1, 2, 2, 2, 2, 2, 2]\n",
      "----------------------------------\n",
      "----------------------------------\n",
      "[0, 0, 0, 1, 1, 1, 1, 2, 2, 2, 2, 2, 2]\n",
      "-------------------sort_012_new-----------------------\n"
     ]
    }
   ],
   "source": [
    "def second_largest(arr,n):\n",
    "    sorted_array_temp = Insertion_sort(arr,n)\n",
    "    for val in sorted_array_temp[-2::-1]:\n",
    "        \n",
    "        if val!=sorted_array_temp[-1]:\n",
    "            \n",
    "            second_largest_num = val\n",
    "            return second_largest_num\n",
    "    \n",
    "    if len(list(set(sorted_array_temp)))==1:\n",
    "        second_largest_num = -2147483648\n",
    "        return second_largest_num\n",
    "    \n",
    "    return''\n",
    "    \n",
    "def Insertion_sort(arr,n):\n",
    "    for i in range(n-1):\n",
    "        for j in range(i+1,0,-1):\n",
    "            if arr[j]<arr[j-1]:\n",
    "                val = arr[j]\n",
    "                arr[j] = arr[j-1]\n",
    "                arr[j-1] = val\n",
    "    return arr\n",
    "\n",
    "\n",
    "\n",
    "def second_largest2(arr,n):\n",
    "    arr2 = []\n",
    "    largest_num = max(arr)\n",
    "    for idx in range(n):\n",
    "        if arr[idx]!= largest_num:\n",
    "            arr2.append(arr[idx])\n",
    "    if len(arr2)==0:\n",
    "        return -2147483648\n",
    "    second_largest = max(arr2)\n",
    "    return second_largest\n",
    "\n",
    "def rotate3(arr,n,d):\n",
    "    arr_temp = []\n",
    "    if d>n:\n",
    "        d = d-n\n",
    "    for i in range(d):\n",
    "        arr_temp.append(arr[i])\n",
    "        \n",
    "    for j in range(n-d):\n",
    "        arr[j] = arr[j+d]\n",
    "    for k in range(d):\n",
    "        arr[n-d+k] = arr_temp[k]\n",
    "        \n",
    "    return arr\n",
    "\n",
    "\n",
    "def arrayrotateChecker(arr,n):\n",
    "    min_val = min(arr)\n",
    "    min_val_idx = arr.index(min_val)\n",
    "    return min_val_idx\n",
    "\n",
    "\n",
    "def sort012(arr,n):\n",
    "    nz = 0\n",
    "    i = 0\n",
    "    nt = n-1\n",
    "    \n",
    "    while  i<nt:\n",
    "        if arr[i]!=0:\n",
    "            if arr[i]!=2:\n",
    "                arr[nz],arr[i] = arr[i],arr[nz]\n",
    "                i+=1\n",
    "            else:\n",
    "                if arr[nt]!=2:\n",
    "                    arr[i],arr[nt] = arr[nt],arr[i]\n",
    "                    nt-=1\n",
    "                else:\n",
    "                   \n",
    "                    nt-=1\n",
    "                    arr[i],arr[nt] = arr[nt],arr[i]\n",
    "                    \n",
    "                    \n",
    "        else:\n",
    "            arr[nz],arr[i] = arr[i],arr[nz]\n",
    "            i+=1\n",
    "            nz+=1\n",
    "    return arr\n",
    "            \n",
    "    \n",
    "    \n",
    "        \n",
    "def arraysum(arr1,n,arr2,m):\n",
    "    carry = 0\n",
    "    max_n = max(n,m)\n",
    "    arr3 = [0]*(max_n+1)\n",
    "    for idx in range(max_n,-1,-1):\n",
    "        if len(str(a[idx]+b[idx]+carry)>1:\n",
    "               arr3[idx] = int(str(a[idx]+b[idx]+carry)[1])\n",
    "               carry = int(str(a[idx]+b[idx]+carry)[0])\n",
    "        else:\n",
    "             arr3[idx] = int(str(a[idx]+b[idx]+carry)[0])\n",
    "             carry = 0\n",
    "               \n",
    "    return arr3\n",
    "\n",
    "\n",
    "\n",
    "\n",
    "if __name__ == \"__main__\":\n",
    "    import random\n",
    "    n = int(input())\n",
    "    m = int(input())\n",
    "    arr1 = []\n",
    "    arr2 = []\n",
    "    for i in range(n):\n",
    "        arr1.insert(i,random.randint(1,100))\n",
    "               \n",
    "    for i in range(n):\n",
    "        arr1.insert(i,random.randint(1,100))\n",
    "    \n",
    "\n",
    "    arr1 = [0,1,2,1,0,1,2,0,1,2,2,2,2]\n",
    "    n = len(arr1)\n",
    "    d = int(input())\n",
    "    \n",
    "#     arr1 = [0]\n",
    "    \n",
    "    print(arr1)\n",
    "    print(\"---------------------------------\")\n",
    "    arr2 = Insertion_sort(arr1,n)\n",
    "    print(arr2)\n",
    "    print('----------------------------------')\n",
    "#     arr3 = rotate3(arr2,n,d)  \n",
    "#     print(arr3)\n",
    "    print('----------------------------------')\n",
    "#     print(second_largest2(arr1,n))\n",
    "#     print(second_largest(arr1,n))\n",
    "#     print(second_largest2(arr1,n))\n",
    "#     print(arrayrotateChecker(arr3,n))\n",
    "#     print(sort012(arr1,n))\n",
    "    print(\"-------------------sort_012_new-----------------------\")\n",
    "#     print(sort012_new(arr1,n))\n",
    "               \n",
    "    print()\n",
    "    \n"
   ]
  },
  {
   "cell_type": "code",
   "execution_count": 24,
   "metadata": {},
   "outputs": [
    {
     "data": {
      "text/plain": [
       "[4, 3, 2, 1]"
      ]
     },
     "execution_count": 24,
     "metadata": {},
     "output_type": "execute_result"
    }
   ],
   "source": [
    "a  = [1,2,3,4,5]\n",
    "a[-2::-1]"
   ]
  },
  {
   "cell_type": "code",
   "execution_count": 96,
   "metadata": {},
   "outputs": [
    {
     "data": {
      "text/plain": [
       "2"
      ]
     },
     "execution_count": 96,
     "metadata": {},
     "output_type": "execute_result"
    }
   ],
   "source": [
    "a = [1,2,4]\n",
    "b = [4,5,6]\n",
    "\n",
    "arr = [0]*4\n",
    "carry = 0\n",
    "\n",
    "len(str(a[-1]+b[-1]))\n",
    "# carry = int(str(a[-1]+b[-1])[0])\n",
    "# print(carry)\n"
   ]
  },
  {
   "cell_type": "code",
   "execution_count": null,
   "metadata": {},
   "outputs": [],
   "source": []
  },
  {
   "cell_type": "code",
   "execution_count": null,
   "metadata": {},
   "outputs": [],
   "source": []
  },
  {
   "cell_type": "code",
   "execution_count": null,
   "metadata": {},
   "outputs": [],
   "source": []
  },
  {
   "cell_type": "code",
   "execution_count": null,
   "metadata": {},
   "outputs": [],
   "source": []
  },
  {
   "cell_type": "code",
   "execution_count": null,
   "metadata": {},
   "outputs": [],
   "source": []
  },
  {
   "cell_type": "code",
   "execution_count": null,
   "metadata": {},
   "outputs": [],
   "source": []
  },
  {
   "cell_type": "code",
   "execution_count": null,
   "metadata": {},
   "outputs": [],
   "source": []
  },
  {
   "cell_type": "code",
   "execution_count": null,
   "metadata": {},
   "outputs": [],
   "source": []
  },
  {
   "cell_type": "code",
   "execution_count": null,
   "metadata": {},
   "outputs": [],
   "source": []
  },
  {
   "cell_type": "code",
   "execution_count": null,
   "metadata": {},
   "outputs": [],
   "source": []
  },
  {
   "cell_type": "code",
   "execution_count": null,
   "metadata": {},
   "outputs": [],
   "source": []
  },
  {
   "cell_type": "code",
   "execution_count": null,
   "metadata": {},
   "outputs": [],
   "source": []
  },
  {
   "cell_type": "code",
   "execution_count": null,
   "metadata": {},
   "outputs": [],
   "source": []
  },
  {
   "cell_type": "code",
   "execution_count": null,
   "metadata": {},
   "outputs": [],
   "source": []
  },
  {
   "cell_type": "code",
   "execution_count": null,
   "metadata": {},
   "outputs": [],
   "source": []
  },
  {
   "cell_type": "code",
   "execution_count": null,
   "metadata": {},
   "outputs": [],
   "source": []
  },
  {
   "cell_type": "code",
   "execution_count": null,
   "metadata": {},
   "outputs": [],
   "source": []
  },
  {
   "cell_type": "code",
   "execution_count": null,
   "metadata": {},
   "outputs": [],
   "source": []
  },
  {
   "cell_type": "code",
   "execution_count": null,
   "metadata": {},
   "outputs": [],
   "source": []
  },
  {
   "cell_type": "code",
   "execution_count": null,
   "metadata": {},
   "outputs": [],
   "source": []
  },
  {
   "cell_type": "markdown",
   "metadata": {},
   "source": [
    "-------------------------"
   ]
  },
  {
   "cell_type": "code",
   "execution_count": 4,
   "metadata": {},
   "outputs": [
    {
     "name": "stdout",
     "output_type": "stream",
     "text": [
      "<class 'int'>\n"
     ]
    }
   ],
   "source": [
    "a = -2\n",
    "print(type(a))"
   ]
  },
  {
   "cell_type": "code",
   "execution_count": 3,
   "metadata": {},
   "outputs": [],
   "source": [
    "class coding_ninja:\n",
    "    def factorial(number,power):\n",
    "        if power == 0:\n",
    "            return 1\n",
    "        return number**power\n",
    "    \n",
    "        "
   ]
  },
  {
   "cell_type": "code",
   "execution_count": 7,
   "metadata": {},
   "outputs": [
    {
     "name": "stdout",
     "output_type": "stream",
     "text": [
      "sucess\n",
      "sucess\n",
      "True\n"
     ]
    }
   ],
   "source": [
    "class testcases:\n",
    "    assert(coding_ninja.factorial(2,3)==8)\n",
    "    print(\"sucess\")\n",
    "    assert(coding_ninja.factorial(9,3)==729)\n",
    "    print(\"sucess\")\n",
    "    assert(coding_ninja.factorial(2,2)==4)\n",
    "    print(\"True\")"
   ]
  },
  {
   "cell_type": "code",
   "execution_count": 10,
   "metadata": {},
   "outputs": [
    {
     "name": "stdin",
     "output_type": "stream",
     "text": [
      " 10 10\n"
     ]
    },
    {
     "name": "stdout",
     "output_type": "stream",
     "text": [
      "10000000000\n"
     ]
    }
   ],
   "source": [
    "class power_of_num:\n",
    "    def __init__(self,number,power):\n",
    "        self.number = number\n",
    "        self.power = power\n",
    "    def factorial(self):\n",
    "        if self.power ==0:\n",
    "            return 1\n",
    "        return self.number**self.power\n",
    "    \n",
    "    \n",
    "if __name__ == \"__main__\":\n",
    "    num,power = input().split()\n",
    "    num = int(num)\n",
    "    power = int(power)\n",
    "    power_deter = power_of_num(num,power)\n",
    "    print(power_deter.factorial())"
   ]
  },
  {
   "cell_type": "code",
   "execution_count": 1,
   "metadata": {},
   "outputs": [
    {
     "name": "stdout",
     "output_type": "stream",
     "text": [
      "16\n"
     ]
    }
   ],
   "source": [
    "def fun(n):\n",
    "    if(n == 4):\n",
    "        return n\n",
    "    else:\n",
    "        return 2*fun(n+1)\n",
    "\n",
    "\n",
    "print(fun(2))"
   ]
  },
  {
   "cell_type": "code",
   "execution_count": 1,
   "metadata": {},
   "outputs": [
    {
     "name": "stdin",
     "output_type": "stream",
     "text": [
      " 100\n",
      " 1 2 3 4 5\n"
     ]
    },
    {
     "name": "stdout",
     "output_type": "stream",
     "text": [
      "15\n"
     ]
    }
   ],
   "source": [
    "def sumArray(arr):\n",
    "    # Please add your code here\n",
    "    \n",
    "    if len(arr) == 0:\n",
    "        return  0\n",
    "    elif len(arr)==1:\n",
    "        return arr[0]\n",
    "    else:\n",
    "        add = arr[0]+sumArray(arr[1:])\n",
    "        return add\n",
    "        \n",
    "    \n",
    "\n",
    "# Main\n",
    "from sys import setrecursionlimit\n",
    "setrecursionlimit(11000)\n",
    "n=int(input())\n",
    "arr=list(int(i) for i in input().strip().split(' '))\n",
    "print(sumArray(arr))\n"
   ]
  },
  {
   "cell_type": "code",
   "execution_count": 22,
   "metadata": {},
   "outputs": [
    {
     "name": "stdin",
     "output_type": "stream",
     "text": [
      " 5\n",
      " 1 2 3 4 5\n",
      " 7\n"
     ]
    },
    {
     "name": "stdout",
     "output_type": "stream",
     "text": [
      "true\n"
     ]
    }
   ],
   "source": [
    "def checkNumber(arr, x):\n",
    "    # Please add your code here\n",
    "    if len(arr) ==0:\n",
    "        return 'false'\n",
    "    elif len(arr)==1:\n",
    "        if arr[0] == x:\n",
    "            return 'true'\n",
    "        else:\n",
    "            return 'false'\n",
    "    else:\n",
    "        m = arr[0]\n",
    "        if m == x:\n",
    "            return \"true\"\n",
    "        else:\n",
    "            checkNumber(arr[1:],x)\n",
    "            return 'false'\n",
    "    \n",
    "# Main\n",
    "n=int(input())\n",
    "arr=list(int(i) for i in input().strip().split(' '))\n",
    "x=int(input())\n",
    "if checkNumber(arr, x):\n",
    "    print('true')\n",
    "else:\n",
    "    print('false')\n"
   ]
  },
  {
   "cell_type": "code",
   "execution_count": 19,
   "metadata": {},
   "outputs": [
    {
     "name": "stdin",
     "output_type": "stream",
     "text": [
      " 4\n",
      " 1 2 4 5\n",
      " 0\n"
     ]
    },
    {
     "name": "stdout",
     "output_type": "stream",
     "text": [
      "None\n"
     ]
    }
   ],
   "source": [
    "def checkNumber(arr, x):\n",
    "    # Please add your code here\n",
    "    if len(arr) ==0:\n",
    "        return None\n",
    "    firstnum = arr[0]\n",
    "    if firstnum ==x:\n",
    "        return 'true'\n",
    "    smallarray = checkNumber(arr[1:],x)\n",
    "    if smallarray:\n",
    "        return 'true'\n",
    "    else:\n",
    "        return None\n",
    "            \n",
    "        \n",
    "# Main\n",
    "n=int(input())\n",
    "arr=list(int(i) for i in input().strip().split(' '))\n",
    "x=int(input())\n",
    "print(checkNumber(arr,x))"
   ]
  },
  {
   "cell_type": "code",
   "execution_count": 28,
   "metadata": {},
   "outputs": [],
   "source": [
    "def firstIndex(arr,x,si):\n",
    "    if len(arr) == 0:\n",
    "        return -1\n",
    "    firstnum = arr[si]\n",
    "    if firstnum == x:\n",
    "        return si\n",
    "    smallerarray = firstIndex(arr,x,si+1)\n",
    "    return smallerarray\n",
    "    "
   ]
  },
  {
   "cell_type": "code",
   "execution_count": 29,
   "metadata": {},
   "outputs": [
    {
     "name": "stdin",
     "output_type": "stream",
     "text": [
      " 7\n",
      " 1 2 3 5 7 5 7\n",
      " 7\n"
     ]
    },
    {
     "name": "stdout",
     "output_type": "stream",
     "text": [
      "4\n"
     ]
    }
   ],
   "source": [
    "n=int(input())\n",
    "arr=list(int(i) for i in input().strip().split(' '))\n",
    "x=int(input())\n",
    "si = 0\n",
    "print(firstIndex(arr,x,si))"
   ]
  },
  {
   "cell_type": "code",
   "execution_count": 30,
   "metadata": {},
   "outputs": [],
   "source": [
    "# def firstIndex(arr,x,si):\n",
    "#     if len(arr) == 0 or si == len(arr)-1:\n",
    "#         return -1\n",
    "#     firstnum = arr[si]\n",
    "#     if firstnum == x:\n",
    "#         return si\n",
    "    \n",
    "#     smallerarray = firstIndex(arr,x,si+1)\n",
    "#     return smallerarray    \n",
    "# # Main\n",
    "# from sys import setrecursionlimit\n",
    "# setrecursionlimit(11000)\n",
    "# n=int(input())\n",
    "# arr=list(int(i) for i in input().strip().split(' '))\n",
    "# x=int(input())\n",
    "# si = 0\n",
    "# print(firstIndex(arr, x,si))\n"
   ]
  },
  {
   "cell_type": "code",
   "execution_count": 31,
   "metadata": {},
   "outputs": [],
   "source": [
    "def lastIndex(arr,x,si):\n",
    "    if si == len(arr):\n",
    "        return -1\n",
    "    smallarray = lastIndex(arr,x,si+1)\n",
    "    if smallarray == -1:\n",
    "        if arr[0] == x:\n",
    "            return 0\n",
    "        else:\n",
    "            return -1\n",
    "        \n",
    "    else:\n",
    "        return si+1\n"
   ]
  },
  {
   "cell_type": "code",
   "execution_count": 32,
   "metadata": {},
   "outputs": [
    {
     "name": "stdin",
     "output_type": "stream",
     "text": [
      " 7\n",
      " 1 2 3 4 3 3 4\n",
      " 3\n"
     ]
    },
    {
     "name": "stdout",
     "output_type": "stream",
     "text": [
      "-1\n"
     ]
    }
   ],
   "source": [
    "n=int(input())\n",
    "arr=list(int(i) for i in input().strip().split(' '))\n",
    "x=int(input())\n",
    "si = 0\n",
    "print(lastIndex(arr,x,si))"
   ]
  },
  {
   "cell_type": "code",
   "execution_count": 1,
   "metadata": {},
   "outputs": [],
   "source": [
    "\n",
    "def lastindex(arr,x,si):\n",
    "    \n",
    "    if si==0:\n",
    "        if arr[si]==x:\n",
    "            return 0\n",
    "        else:\n",
    "            return -1\n",
    "    num = arr[si]\n",
    "    if num==x:\n",
    "        return si\n",
    "    \n",
    "        \n",
    "    Num_idx_finder = lastindex(arr,x,si-1)\n",
    "    return Num_idx_finder\n",
    "\n",
    "    \n",
    "    "
   ]
  },
  {
   "cell_type": "code",
   "execution_count": 2,
   "metadata": {},
   "outputs": [
    {
     "name": "stdin",
     "output_type": "stream",
     "text": [
      " 4\n",
      " 0 3 1 3\n",
      " 3\n"
     ]
    },
    {
     "name": "stdout",
     "output_type": "stream",
     "text": [
      "3\n"
     ]
    }
   ],
   "source": [
    "n=int(input())\n",
    "arr=list(int(i) for i in input().strip().split(' '))\n",
    "x=int(input())\n",
    "si = len(arr)-1\n",
    "print(lastindex(arr,x,si))"
   ]
  },
  {
   "cell_type": "code",
   "execution_count": 3,
   "metadata": {},
   "outputs": [],
   "source": [
    "def removeX(string,letter,replace_by_letter):\n",
    "    if len(string)==0:\n",
    "        return string\n",
    "    smallerstring = removeX(string[1:],letter,replace_by_letter)\n",
    "    if string[0]==letter:\n",
    "        return replace_by_letter + smallerstring\n",
    "    else:\n",
    "        return string[0]+smallerstring\n",
    "    "
   ]
  },
  {
   "cell_type": "code",
   "execution_count": 4,
   "metadata": {},
   "outputs": [
    {
     "name": "stdin",
     "output_type": "stream",
     "text": [
      " axzxc\n",
      " x\n",
      " \n"
     ]
    },
    {
     "name": "stdout",
     "output_type": "stream",
     "text": [
      "azc\n"
     ]
    }
   ],
   "source": [
    "n = input()\n",
    "letter = input()\n",
    "replace_by_letter = input()\n",
    "print(removeX(n,letter,replace_by_letter))"
   ]
  },
  {
   "cell_type": "code",
   "execution_count": null,
   "metadata": {},
   "outputs": [],
   "source": [
    "# Problem: Remove x from string\n",
    "def removeX(string):\n",
    "    if len(string)==0:\n",
    "        return string\n",
    "    smallerstring = removeX(string[1:])\n",
    "    if string[0]=='x':\n",
    "        return '' + smallerstring\n",
    "    else:\n",
    "        return string[0]+smallerstring\n",
    "    \n",
    "\n",
    "# Main\n",
    "string = input()\n",
    "print(removeX(string))\n",
    "     "
   ]
  },
  {
   "cell_type": "code",
   "execution_count": 21,
   "metadata": {},
   "outputs": [
    {
     "name": "stdin",
     "output_type": "stream",
     "text": [
      " xxyxxzdzz\n"
     ]
    },
    {
     "name": "stdout",
     "output_type": "stream",
     "text": [
      "xyxzdz\n"
     ]
    }
   ],
   "source": [
    "#RemoveConsecutive Duplicates \n",
    "\n",
    "def removeConsecutiveDuplicates(string):\n",
    "    # Please add your code here\n",
    "    if len(string)==0 or len(string)==1:\n",
    "        return string\n",
    "    first_char = string[0]\n",
    "    smaller_string = string[1:]\n",
    "    smallerstring  = removeConsecutiveDuplicates(smaller_string)\n",
    "    if first_char != string[1]:\n",
    "        return first_char + smallerstring\n",
    "    else:\n",
    "        return smallerstring\n",
    "string = input().strip()\n",
    "print(removeConsecutiveDuplicates(string))"
   ]
  },
  {
   "cell_type": "code",
   "execution_count": 9,
   "metadata": {},
   "outputs": [],
   "source": [
    "def merge(a1,a2,a):\n",
    "    i=j=k=0\n",
    "    while i<len(a1) and j<len(a2):\n",
    "        if a1[i]<a2[j]:\n",
    "            a[k] = a1[i]\n",
    "            k=k+1\n",
    "            i+=1\n",
    "        else:\n",
    "            a[k]=a2[j]\n",
    "            k+=1\n",
    "            j+=1\n",
    "    while i<len(a1):\n",
    "        a[k] = a1[i]\n",
    "        k+=1\n",
    "        i+=1\n",
    "    while j<len(a2):\n",
    "        a[k] = a2[j]\n",
    "        k+=1\n",
    "        j+=1"
   ]
  },
  {
   "cell_type": "code",
   "execution_count": 14,
   "metadata": {},
   "outputs": [],
   "source": [
    "def mergesort(arr):\n",
    "    \n",
    "    if len(arr) ==0 or len(arr)==1:\n",
    "        return \n",
    "    mid = len(arr)//2\n",
    "    smallarray1 = arr[0:mid]\n",
    "    smallarray2 = arr[mid:]\n",
    "    \n",
    "    mergesort(smallarray1)\n",
    "    mergesort(smallarray2)\n",
    "    \n",
    "    merge(smallarray1,smallarray2,arr)\n",
    "    \n",
    "    \n",
    "        \n",
    "    \n",
    "    \n",
    "                                      "
   ]
  },
  {
   "cell_type": "code",
   "execution_count": null,
   "metadata": {},
   "outputs": [],
   "source": []
  },
  {
   "cell_type": "code",
   "execution_count": 15,
   "metadata": {},
   "outputs": [
    {
     "data": {
      "text/plain": [
       "[1, 3, 7, 8, 9]"
      ]
     },
     "execution_count": 15,
     "metadata": {},
     "output_type": "execute_result"
    }
   ],
   "source": [
    "a = [1,7,3,9,8]\n",
    "mergesort(a)\n",
    "a"
   ]
  },
  {
   "cell_type": "code",
   "execution_count": 31,
   "metadata": {},
   "outputs": [
    {
     "data": {
      "text/plain": [
       "2"
      ]
     },
     "execution_count": 31,
     "metadata": {},
     "output_type": "execute_result"
    }
   ],
   "source": [
    "5//2"
   ]
  },
  {
   "cell_type": "code",
   "execution_count": 34,
   "metadata": {},
   "outputs": [
    {
     "data": {
      "text/plain": [
       "2"
      ]
     },
     "execution_count": 34,
     "metadata": {},
     "output_type": "execute_result"
    }
   ],
   "source": [
    "4//2"
   ]
  },
  {
   "cell_type": "code",
   "execution_count": 35,
   "metadata": {},
   "outputs": [
    {
     "data": {
      "text/plain": [
       "0"
      ]
     },
     "execution_count": 35,
     "metadata": {},
     "output_type": "execute_result"
    }
   ],
   "source": [
    "1//2"
   ]
  },
  {
   "cell_type": "code",
   "execution_count": 23,
   "metadata": {},
   "outputs": [],
   "source": [
    "def merge(a1,a2,a):\n",
    "    i=j=k=0\n",
    "    while i<len(a1) and j<len(a2):\n",
    "        if a1[i]<a2[j]:\n",
    "            a[k] = a1[i]\n",
    "            k=k+1\n",
    "            i+=1\n",
    "        else:\n",
    "            a[k]=a2[j]\n",
    "            k+=1\n",
    "            j+=1\n",
    "    while i<len(a1):\n",
    "        a[k] = a1[i]\n",
    "        k+=1\n",
    "        i+=1\n",
    "    while j<len(a2):\n",
    "        a[k] = a2[j]\n",
    "        k+=1\n",
    "        j+=1"
   ]
  },
  {
   "cell_type": "code",
   "execution_count": 24,
   "metadata": {},
   "outputs": [],
   "source": [
    "def mergesort(arr,si,ei):\n",
    "    \n",
    "    if len(arr) ==0 or len(arr)==1:\n",
    "        return \n",
    "    mid = (si+ei)//2\n",
    "    smallarray1 = arr[0:mid]\n",
    "    smallarray2 = arr[mid:]\n",
    "    \n",
    "    mergesort(smallarray1,0,mid)\n",
    "    mergesort(smallarray2,mid+1,ei)\n",
    "    \n",
    "    merge(smallarray1,smallarray2,arr)\n",
    "    "
   ]
  },
  {
   "cell_type": "code",
   "execution_count": 25,
   "metadata": {},
   "outputs": [
    {
     "data": {
      "text/plain": [
       "[1, 3, 7, 8, 9]"
      ]
     },
     "execution_count": 25,
     "metadata": {},
     "output_type": "execute_result"
    }
   ],
   "source": [
    "a = [1,7,3,9,8]\n",
    "mergesort(a,0,len(a))\n",
    "a"
   ]
  },
  {
   "cell_type": "code",
   "execution_count": 22,
   "metadata": {},
   "outputs": [
    {
     "name": "stdin",
     "output_type": "stream",
     "text": [
      " 4\n",
      " 1 3 5 6\n"
     ]
    },
    {
     "name": "stdout",
     "output_type": "stream",
     "text": [
      "1 3 5 6\n"
     ]
    }
   ],
   "source": [
    "def merge(a1,a2,a):\n",
    "    i=j=k=0\n",
    "    while i<len(a1) and j<len(a2):\n",
    "        if a1[i]<a2[j]:\n",
    "            a[k] = a1[i]\n",
    "            k=k+1\n",
    "            i+=1\n",
    "        else:\n",
    "            a[k]=a2[j]\n",
    "            k+=1\n",
    "            j+=1\n",
    "    while i<len(a1):\n",
    "        a[k] = a1[i]\n",
    "        k+=1\n",
    "        i+=1\n",
    "    while j<len(a2):\n",
    "        a[k] = a2[j]\n",
    "        k+=1\n",
    "        j+=1\n",
    "\n",
    "\n",
    "\n",
    "\n",
    "\n",
    "\n",
    "\n",
    "def mergeSort(arr):\n",
    "    # Please add your code here\n",
    "    if len(arr)==0 or len(arr)==1:\n",
    "        return \n",
    "    mid = (len(arr))//2\n",
    "    smallarray1 = arr[0:mid]\n",
    "    smallarray2 = arr[mid:]\n",
    "    mergeSort(smallarray1)\n",
    "    mergeSort(smallarray2)\n",
    "    merge(smallarray1,smallarray2,arr)\n",
    "\n",
    "# Main\n",
    "n=int(input())\n",
    "arr=list(int(i) for i in input().strip().split(' '))\n",
    "mergeSort(arr)\n",
    "print(*arr)\n"
   ]
  },
  {
   "cell_type": "markdown",
   "metadata": {},
   "source": [
    "---"
   ]
  },
  {
   "cell_type": "code",
   "execution_count": 167,
   "metadata": {},
   "outputs": [],
   "source": [
    "def partition(arr,si,ei):\n",
    "    pivot_index = si\n",
    "    pivot_point = arr[si]\n",
    "    number_of_points = si\n",
    "    \n",
    "    while si<len(arr):\n",
    "        if arr[si]< pivot_point:\n",
    "            number_of_points+=1\n",
    "        else:\n",
    "            number_of_points+=0\n",
    "        si+=1\n",
    "   \n",
    "    arr[number_of_points],arr[pivot_index] = arr[pivot_index],arr[number_of_points]\n",
    "    for first_half in range(0,number_of_points,1):\n",
    "        for second_half in range(len(arr)-1,number_of_points,-1):\n",
    "            if arr[first_half]>arr[second_half]:\n",
    "                arr[first_half],arr[second_half] = arr[second_half],arr[first_half]\n",
    "            \n",
    "            \n",
    "    return number_of_points\n"
   ]
  },
  {
   "cell_type": "code",
   "execution_count": null,
   "metadata": {},
   "outputs": [],
   "source": [
    "def partition(arr,si,ei):\n",
    "    pivot_point = arr[si]\n",
    "    number_of_points = 0\n",
    "    \n",
    "    for i in range(si,ei+1):\n",
    "        if arr[i]<pivot_point:\n",
    "            number_of_points+=1\n",
    "    arr[si],arr[si+number_of_points] = arr[si+number_of_points],arr[si]\n",
    "    pivot_index = si+number_of_points\n",
    "    pivot_point = arr[pivot_index]\n",
    "    \n",
    "    while si<ei:\n",
    "        if arr[si]< pivot_point:\n",
    "            si+=1\n",
    "        elif arr[ei]>=pivot_point:\n",
    "            ei-=1\n",
    "        else:\n",
    "            arr[si],arr[ei] = arr[ei],arr[si]\n",
    "            si+=1\n",
    "            ei-=1\n",
    "            \n",
    "            \n",
    "    return pivot_index\n"
   ]
  },
  {
   "cell_type": "code",
   "execution_count": 168,
   "metadata": {},
   "outputs": [
    {
     "data": {
      "text/plain": [
       "5"
      ]
     },
     "execution_count": 168,
     "metadata": {},
     "output_type": "execute_result"
    }
   ],
   "source": [
    "partition([ 10, 7, 8, 9, 1, 5 ],0,5)"
   ]
  },
  {
   "cell_type": "code",
   "execution_count": 169,
   "metadata": {},
   "outputs": [
    {
     "data": {
      "text/plain": [
       "1"
      ]
     },
     "execution_count": 169,
     "metadata": {},
     "output_type": "execute_result"
    }
   ],
   "source": [
    "partition([5, 7, 8, 9, 1, 10],0,5)"
   ]
  },
  {
   "cell_type": "code",
   "execution_count": 170,
   "metadata": {},
   "outputs": [
    {
     "data": {
      "text/plain": [
       "3"
      ]
     },
     "execution_count": 170,
     "metadata": {},
     "output_type": "execute_result"
    }
   ],
   "source": [
    "partition([1, 5, 8, 9, 7, 10],2,5)"
   ]
  },
  {
   "cell_type": "code",
   "execution_count": 179,
   "metadata": {},
   "outputs": [],
   "source": [
    "def partition(array,start,end):\n",
    "      \n",
    "    pivot_index = start \n",
    "    pivot = array[pivot_index]\n",
    "      \n",
    "    \n",
    "    while start < end:\n",
    "          \n",
    "        \n",
    "        while start < len(array) and array[start] <= pivot:\n",
    "            start += 1\n",
    "              \n",
    "        while array[end] > pivot:\n",
    "            end -= 1\n",
    "          \n",
    "        if(start < end):\n",
    "            array[start], array[end] = array[end], array[start]\n",
    "      \n",
    "    \n",
    "    array[end], array[pivot_index] = array[pivot_index], array[end]\n",
    "     \n",
    "    \n",
    "    return end"
   ]
  },
  {
   "cell_type": "code",
   "execution_count": 181,
   "metadata": {},
   "outputs": [
    {
     "name": "stdout",
     "output_type": "stream",
     "text": [
      "Sorted array: [5, 6, 19, 44, 55, 66]\n"
     ]
    }
   ],
   "source": [
    "def quickSort(array,start, end):\n",
    "    if len(array) ==0 or len(arr)==1:\n",
    "        return \n",
    "    if (start <= end):\n",
    "          \n",
    "        p = partition(array,start, end)\n",
    "        \n",
    "        quickSort(array,start, p - 1)\n",
    "        quickSort(array,p + 1, end)\n",
    "          \n",
    "\n",
    "array = [44,55,66,5,6,19]\n",
    "quickSort(array,0, len(array) - 1)\n",
    "print(f'Sorted array: {array}')"
   ]
  },
  {
   "cell_type": "code",
   "execution_count": 178,
   "metadata": {},
   "outputs": [
    {
     "name": "stdin",
     "output_type": "stream",
     "text": [
      " 5\n",
      " 44 55 66 5 6 19\n"
     ]
    },
    {
     "name": "stdout",
     "output_type": "stream",
     "text": [
      "5 6 19 44 55 66\n"
     ]
    }
   ],
   "source": [
    "n=int(input())\n",
    "arr=list(int(i) for i in input().strip().split(' '))\n",
    "quickSort(arr, 0, n)\n",
    "print(*arr)\n"
   ]
  },
  {
   "cell_type": "markdown",
   "metadata": {},
   "source": [
    "----------"
   ]
  },
  {
   "cell_type": "code",
   "execution_count": 1,
   "metadata": {},
   "outputs": [
    {
     "name": "stdin",
     "output_type": "stream",
     "text": [
      " 4\n"
     ]
    },
    {
     "name": "stdout",
     "output_type": "stream",
     "text": [
      "a b\n",
      "a c\n",
      "b c\n",
      "a b\n",
      "c a\n",
      "c b\n",
      "a b\n",
      "a c\n",
      "b c\n",
      "b a\n",
      "c a\n",
      "b c\n",
      "a b\n",
      "a c\n",
      "b c\n"
     ]
    }
   ],
   "source": [
    "def towerofhanoi(n, source, aux, dest):\n",
    "    # Please add your code here\n",
    "    if n==0:\n",
    "        return -1\n",
    "    if n == 1:\n",
    "        print(source,dest)\n",
    "        return\n",
    "    towerofhanoi(n-1,source,dest,aux)\n",
    "    print(source,dest)\n",
    "    towerofhanoi(n-1,aux,source,dest)\n",
    "    \n",
    "    \n",
    "\n",
    "    \n",
    "n=int(input())\n",
    "towerofhanoi(n, 'a', 'b', 'c')\n"
   ]
  },
  {
   "cell_type": "markdown",
   "metadata": {},
   "source": [
    "------------------"
   ]
  },
  {
   "cell_type": "code",
   "execution_count": 36,
   "metadata": {},
   "outputs": [
    {
     "name": "stdout",
     "output_type": "stream",
     "text": [
      "2.000000\n"
     ]
    }
   ],
   "source": [
    "print(f\"{2.0:.6f}\")"
   ]
  },
  {
   "cell_type": "code",
   "execution_count": 43,
   "metadata": {},
   "outputs": [],
   "source": [
    "## Read input as specified in the question.\n",
    "## Print output as specified in the question.\n",
    "\n",
    "def gp_sum(k):\n",
    "    if k ==0:\n",
    "        return 1\n",
    "    \n",
    "    return 1/2**k+gp_sum(k-1)\n",
    " \n",
    "    \n",
    "def gp(k):\n",
    "    val = gp_sum(k)\n",
    "    return format(val,'.5f')\n",
    "\n",
    "\n",
    "\n",
    "if __name__ == \"__main__\":\n",
    "    n = int(input())\n",
    "    print(gp(n))"
   ]
  },
  {
   "cell_type": "markdown",
   "metadata": {},
   "source": [
    "--------"
   ]
  },
  {
   "cell_type": "code",
   "execution_count": 84,
   "metadata": {},
   "outputs": [],
   "source": [
    "def palindrome(string):\n",
    "    if len(string)==0:\n",
    "        return string\n",
    "    return string[-1]+palindrome(string[:-1])\n",
    "\n",
    "def palidrome_checker(string):\n",
    "    if len(string)==0:\n",
    "        return 'true'\n",
    "    if len(string)==1:\n",
    "        return 'true'\n",
    "    palidrome_string = palindrome(string)\n",
    "    if string == palidrome_string:\n",
    "        return 'true'\n",
    "    else:\n",
    "        return 'false'\n",
    "    \n"
   ]
  },
  {
   "cell_type": "code",
   "execution_count": 85,
   "metadata": {},
   "outputs": [
    {
     "name": "stdin",
     "output_type": "stream",
     "text": [
      " r\n"
     ]
    },
    {
     "name": "stdout",
     "output_type": "stream",
     "text": [
      "true\n"
     ]
    }
   ],
   "source": [
    "print(palidrome_checker(input()))"
   ]
  },
  {
   "cell_type": "code",
   "execution_count": 79,
   "metadata": {},
   "outputs": [
    {
     "data": {
      "text/plain": [
       "'d'"
      ]
     },
     "execution_count": 79,
     "metadata": {},
     "output_type": "execute_result"
    }
   ],
   "source": [
    "\"abcd\"[-1]"
   ]
  },
  {
   "cell_type": "code",
   "execution_count": 81,
   "metadata": {},
   "outputs": [],
   "source": [
    "a =1234\n"
   ]
  },
  {
   "cell_type": "code",
   "execution_count": 82,
   "metadata": {},
   "outputs": [
    {
     "data": {
      "text/plain": [
       "5"
      ]
     },
     "execution_count": 82,
     "metadata": {},
     "output_type": "execute_result"
    }
   ],
   "source": [
    "12345%10"
   ]
  },
  {
   "cell_type": "markdown",
   "metadata": {},
   "source": [
    "--------"
   ]
  },
  {
   "cell_type": "code",
   "execution_count": 99,
   "metadata": {},
   "outputs": [],
   "source": [
    "\n",
    "def sum_of_num(number):\n",
    "    if number==0:\n",
    "        return  0\n",
    "    factor = number%10\n",
    "    new_num = number//10\n",
    "    return factor+sum_of_num(new_num)"
   ]
  },
  {
   "cell_type": "code",
   "execution_count": 100,
   "metadata": {},
   "outputs": [
    {
     "name": "stdin",
     "output_type": "stream",
     "text": [
      " 100\n"
     ]
    },
    {
     "data": {
      "text/plain": [
       "1"
      ]
     },
     "execution_count": 100,
     "metadata": {},
     "output_type": "execute_result"
    }
   ],
   "source": [
    "sum_of_num(int(input()))"
   ]
  },
  {
   "cell_type": "code",
   "execution_count": 89,
   "metadata": {},
   "outputs": [
    {
     "data": {
      "text/plain": [
       "1234"
      ]
     },
     "execution_count": 89,
     "metadata": {},
     "output_type": "execute_result"
    }
   ],
   "source": [
    "\n",
    "12345//10"
   ]
  },
  {
   "cell_type": "markdown",
   "metadata": {},
   "source": [
    "--------"
   ]
  },
  {
   "cell_type": "code",
   "execution_count": 152,
   "metadata": {},
   "outputs": [],
   "source": [
    "def mul_of_num(number):\n",
    "    if number==0:\n",
    "        return 0\n",
    "    if number<10:\n",
    "        return number\n",
    "    \n",
    "    factor = number%10\n",
    "    new_num = number//10\n",
    "    \n",
    "    return factor*mul_of_num(new_num)"
   ]
  },
  {
   "cell_type": "code",
   "execution_count": 156,
   "metadata": {},
   "outputs": [
    {
     "name": "stdin",
     "output_type": "stream",
     "text": [
      " 181889\n"
     ]
    },
    {
     "data": {
      "text/plain": [
       "4608"
      ]
     },
     "execution_count": 156,
     "metadata": {},
     "output_type": "execute_result"
    }
   ],
   "source": [
    "mul_of_num(int(input()))"
   ]
  },
  {
   "cell_type": "code",
   "execution_count": 151,
   "metadata": {},
   "outputs": [
    {
     "data": {
      "text/plain": [
       "10"
      ]
     },
     "execution_count": 151,
     "metadata": {},
     "output_type": "execute_result"
    }
   ],
   "source": [
    "101%10\n",
    "101//10"
   ]
  },
  {
   "cell_type": "code",
   "execution_count": 157,
   "metadata": {},
   "outputs": [
    {
     "data": {
      "text/plain": [
       "4608"
      ]
     },
     "execution_count": 157,
     "metadata": {},
     "output_type": "execute_result"
    }
   ],
   "source": [
    "64*72\n"
   ]
  },
  {
   "cell_type": "markdown",
   "metadata": {},
   "source": [
    "---------------------"
   ]
  },
  {
   "cell_type": "code",
   "execution_count": 20,
   "metadata": {},
   "outputs": [],
   "source": [
    "def multipication(M,N):\n",
    "    if M<N:\n",
    "        return multipication(N,M)\n",
    "    if M ==0:\n",
    "        return 0\n",
    "    \n",
    "    M-=1\n",
    "    val = N+multipication(M,N)\n",
    "    \n",
    "    return val"
   ]
  },
  {
   "cell_type": "code",
   "execution_count": 21,
   "metadata": {},
   "outputs": [
    {
     "name": "stdin",
     "output_type": "stream",
     "text": [
      " 2\n",
      " 3\n"
     ]
    },
    {
     "data": {
      "text/plain": [
       "6"
      ]
     },
     "execution_count": 21,
     "metadata": {},
     "output_type": "execute_result"
    }
   ],
   "source": [
    "M = int(input())\n",
    "N= int(input())\n",
    "multipication(M,N)"
   ]
  },
  {
   "cell_type": "code",
   "execution_count": null,
   "metadata": {},
   "outputs": [],
   "source": [
    "def multipication(M,N):\n",
    "    if M<N:\n",
    "        return multipication(N,M)\n",
    "    elif N!=0:\n",
    "        return M+multipication(M,N-1)\n",
    "    \n",
    "    else:\n",
    "        return 0\n",
    "    \n",
    "\n",
    "if __name__ == \"__main__\":\n",
    "    M = int(input())\n",
    "    N = int(input())\n",
    "    print(multipication(M,N))"
   ]
  },
  {
   "cell_type": "markdown",
   "metadata": {},
   "source": [
    "------------------"
   ]
  },
  {
   "cell_type": "code",
   "execution_count": 86,
   "metadata": {},
   "outputs": [
    {
     "name": "stdin",
     "output_type": "stream",
     "text": [
      " 000012301\n"
     ]
    }
   ],
   "source": [
    "n = input()"
   ]
  },
  {
   "cell_type": "code",
   "execution_count": 87,
   "metadata": {},
   "outputs": [
    {
     "name": "stdout",
     "output_type": "stream",
     "text": [
      "12301\n"
     ]
    }
   ],
   "source": [
    "print(int(n))"
   ]
  },
  {
   "cell_type": "code",
   "execution_count": 90,
   "metadata": {},
   "outputs": [
    {
     "data": {
      "text/plain": [
       "1"
      ]
     },
     "execution_count": 90,
     "metadata": {},
     "output_type": "execute_result"
    }
   ],
   "source": [
    "12301%10"
   ]
  },
  {
   "cell_type": "code",
   "execution_count": 91,
   "metadata": {},
   "outputs": [
    {
     "data": {
      "text/plain": [
       "0"
      ]
     },
     "execution_count": 91,
     "metadata": {},
     "output_type": "execute_result"
    }
   ],
   "source": [
    "1230%10\n"
   ]
  },
  {
   "cell_type": "code",
   "execution_count": 137,
   "metadata": {},
   "outputs": [],
   "source": [
    "\n",
    "def Zero_counter(n):\n",
    "    if n == 0:\n",
    "        return 1\n",
    "    if n==1:\n",
    "        return 1\n",
    "        \n",
    "    number = n\n",
    "    remainder = number%10\n",
    "    new_number = number//10\n",
    "    if new_number == 0:\n",
    "        return 1\n",
    "    return str(remainder)+str(Zero_counter(new_number))\n",
    "     \n",
    "def IsZerofinder(n):\n",
    "    if n==0:\n",
    "        return 1\n",
    "    if n==1:\n",
    "        return 0\n",
    "    number = Zero_counter(n)\n",
    "    \n",
    "    cnt = 0\n",
    "    for num in number:\n",
    "        if num == '0':\n",
    "            cnt+=1\n",
    "    return cnt \n",
    "\n",
    "\n",
    "if __name__ == '__main__':\n",
    "    n = input()\n",
    "    number = int(n)\n",
    "    print(IsZerofinder(number))"
   ]
  },
  {
   "cell_type": "code",
   "execution_count": 138,
   "metadata": {},
   "outputs": [
    {
     "name": "stdin",
     "output_type": "stream",
     "text": [
      " 00010204\n"
     ]
    },
    {
     "name": "stdout",
     "output_type": "stream",
     "text": [
      "40201\n",
      "2\n"
     ]
    }
   ],
   "source": [
    "if __name__ == '__main__':\n",
    "    n = input()\n",
    "    number = int(n)\n",
    "    print(IsZerofinder(number))"
   ]
  },
  {
   "cell_type": "markdown",
   "metadata": {},
   "source": [
    "-----------"
   ]
  },
  {
   "cell_type": "code",
   "execution_count": 2,
   "metadata": {},
   "outputs": [],
   "source": [
    "def string_int(string):\n",
    "    if len(string)==1:\n",
    "        return string\n",
    "    if len(string)==0:\n",
    "        return string\n",
    "    if string[0]=='0':\n",
    "        return string_int(string[1:])\n",
    "    else:\n",
    "        return string_int_convertor(string)\n",
    "        \n",
    "def string_int_convertor(string):\n",
    "    if len(string)==1:\n",
    "        return string\n",
    "    else:\n",
    "        val = string[0]+string_int_convertor(string[1:])\n",
    "        return val\n",
    "\n",
    "        "
   ]
  },
  {
   "cell_type": "code",
   "execution_count": 4,
   "metadata": {},
   "outputs": [
    {
     "name": "stdin",
     "output_type": "stream",
     "text": [
      " 0019909\n"
     ]
    },
    {
     "name": "stdout",
     "output_type": "stream",
     "text": [
      "19909\n"
     ]
    }
   ],
   "source": [
    "if __name__ == '__main__':\n",
    "    n = input()\n",
    "    print(string_int(n))"
   ]
  },
  {
   "cell_type": "code",
   "execution_count": 23,
   "metadata": {},
   "outputs": [
    {
     "data": {
      "text/plain": [
       "'2'"
      ]
     },
     "execution_count": 23,
     "metadata": {},
     "output_type": "execute_result"
    }
   ],
   "source": [
    "a ='128'\n",
    "a[1]"
   ]
  },
  {
   "cell_type": "code",
   "execution_count": 35,
   "metadata": {},
   "outputs": [
    {
     "name": "stdout",
     "output_type": "stream",
     "text": [
      "0\n"
     ]
    }
   ],
   "source": [
    "x = ord('0') - ord('0')\n",
    "print(x)"
   ]
  },
  {
   "cell_type": "markdown",
   "metadata": {},
   "source": [
    "------"
   ]
  },
  {
   "cell_type": "code",
   "execution_count": 12,
   "metadata": {},
   "outputs": [],
   "source": [
    "def string_to_star(string):\n",
    "    if len(string)==0:\n",
    "        return string\n",
    "    if len(string)==1:\n",
    "        return string\n",
    "    first_substring = string[0]\n",
    "    if first_substring == string[1]:\n",
    "        return first_substring +'*'+string_to_star(string[1:])\n",
    "    else:\n",
    "        return first_substring + string_to_star(string[1:])"
   ]
  },
  {
   "cell_type": "code",
   "execution_count": 16,
   "metadata": {},
   "outputs": [
    {
     "name": "stdin",
     "output_type": "stream",
     "text": [
      " aaaa\n"
     ]
    },
    {
     "name": "stdout",
     "output_type": "stream",
     "text": [
      "a*a*a*a\n"
     ]
    }
   ],
   "source": [
    "if __name__ == '__main__':\n",
    "    string = input()\n",
    "    print(string_to_star(string))"
   ]
  },
  {
   "cell_type": "markdown",
   "metadata": {},
   "source": [
    "-----------------"
   ]
  },
  {
   "cell_type": "code",
   "execution_count": 55,
   "metadata": {},
   "outputs": [],
   "source": [
    "def AB_convertor(string):\n",
    "    if len(string)==0:\n",
    "        return 'trure'\n",
    "    if len(string)==1:\n",
    "        if string[0] == 'a':\n",
    "            return 'true'\n",
    "        else:\n",
    "            return 'false'\n",
    "    if string[0] == 'a':\n",
    "        return AB_convertor_helper(string[1:])\n",
    "    else:\n",
    "        return 'false'\n",
    "    \n",
    "def AB_convertor_helper(string):\n",
    "    if len(string)==0:\n",
    "        return 'true'\n",
    "    if string[0]=='a':\n",
    "        return AB_convertor_helper(string[1:])\n",
    "    if string[:2]=='bb':\n",
    "        return AB_convertor_helper(string[2:])\n",
    "    else:\n",
    "        return 'false'\n",
    "    "
   ]
  },
  {
   "cell_type": "code",
   "execution_count": 62,
   "metadata": {},
   "outputs": [
    {
     "name": "stdin",
     "output_type": "stream",
     "text": [
      " aaabbabbabbaabb\n"
     ]
    },
    {
     "name": "stdout",
     "output_type": "stream",
     "text": [
      "true\n"
     ]
    }
   ],
   "source": [
    "if __name__ == \"__main__\":\n",
    "    string = input()\n",
    "    print(AB_convertor(string))"
   ]
  },
  {
   "cell_type": "markdown",
   "metadata": {},
   "source": [
    "------------"
   ]
  },
  {
   "cell_type": "code",
   "execution_count": 79,
   "metadata": {},
   "outputs": [],
   "source": [
    "def staircase(n):\n",
    "    if n==0 or n==1:\n",
    "        return 1\n",
    "    \n",
    "    if n==2:\n",
    "        return 2\n",
    "    \n",
    "    \n",
    "    return staircase(n-1)+staircase(n-2)+staircase(n-3)\n",
    "   "
   ]
  },
  {
   "cell_type": "code",
   "execution_count": 82,
   "metadata": {},
   "outputs": [
    {
     "name": "stdin",
     "output_type": "stream",
     "text": [
      " 2\n"
     ]
    },
    {
     "name": "stdout",
     "output_type": "stream",
     "text": [
      "2\n"
     ]
    }
   ],
   "source": [
    "if __name__ == \"__main__\":\n",
    "    n = int(input())\n",
    "    print(staircase(n))"
   ]
  },
  {
   "cell_type": "markdown",
   "metadata": {},
   "source": [
    "-------------"
   ]
  },
  {
   "cell_type": "markdown",
   "metadata": {},
   "source": [
    "## OOPS Concept "
   ]
  },
  {
   "cell_type": "code",
   "execution_count": 10,
   "metadata": {},
   "outputs": [],
   "source": [
    "class oops():\n",
    "    def __init__(self,name):\n",
    "        self.name = name\n",
    "    def myname(self):\n",
    "        return  'My name is :{}'.format(self.name)"
   ]
  },
  {
   "cell_type": "code",
   "execution_count": 11,
   "metadata": {},
   "outputs": [
    {
     "name": "stdout",
     "output_type": "stream",
     "text": [
      "My name is :Mayank\n"
     ]
    }
   ],
   "source": [
    "val = oops('Mayank')\n",
    "print(val.myname())"
   ]
  },
  {
   "cell_type": "code",
   "execution_count": 5,
   "metadata": {},
   "outputs": [
    {
     "name": "stdout",
     "output_type": "stream",
     "text": [
      "Parikh 60\n"
     ]
    }
   ],
   "source": [
    "class Student:\n",
    "    name = 'Parikh'\n",
    "    def store_details(self):\n",
    "        self.age = 60\n",
    "    def print_details(self):\n",
    "        print(self.name, end=' ')\n",
    "        print(self.age)\n",
    "s = Student()\n",
    "s.store_details()\n",
    "s.print_details()\n"
   ]
  },
  {
   "cell_type": "code",
   "execution_count": 1,
   "metadata": {},
   "outputs": [],
   "source": [
    "class parent:\n",
    "    def __init__(self,name):\n",
    "        self.__name = name\n",
    "        "
   ]
  },
  {
   "cell_type": "code",
   "execution_count": 9,
   "metadata": {},
   "outputs": [],
   "source": [
    "class child(parent):\n",
    "    def __init__(self,Age,name):\n",
    "        self.Age = Age\n",
    "        super().__init__(name)"
   ]
  },
  {
   "cell_type": "code",
   "execution_count": 10,
   "metadata": {},
   "outputs": [],
   "source": [
    "mainobj = child(10,'Mayank')\n"
   ]
  },
  {
   "cell_type": "code",
   "execution_count": 14,
   "metadata": {},
   "outputs": [
    {
     "data": {
      "text/plain": [
       "{'Age': 10, '_parent__name': 'Mayank'}"
      ]
     },
     "execution_count": 14,
     "metadata": {},
     "output_type": "execute_result"
    }
   ],
   "source": [
    "mainobj.__dict__"
   ]
  },
  {
   "cell_type": "code",
   "execution_count": 16,
   "metadata": {},
   "outputs": [
    {
     "data": {
      "text/plain": [
       "10"
      ]
     },
     "execution_count": 16,
     "metadata": {},
     "output_type": "execute_result"
    }
   ],
   "source": [
    "mainobj.Age"
   ]
  },
  {
   "cell_type": "markdown",
   "metadata": {},
   "source": [
    "----------------"
   ]
  },
  {
   "cell_type": "code",
   "execution_count": 20,
   "metadata": {},
   "outputs": [],
   "source": [
    "def recurssion(s,t):\n",
    "    \n",
    "    if len(t) == 0:\n",
    "        return True\n",
    "    \n",
    "    if len(s)==0:\n",
    "        return False\n",
    "    \n",
    "    if s[0] != t[0]:\n",
    "        return recurssion(s[1:],t)\n",
    "    else:\n",
    "        return recurssion(s[1:],t[1:])\n",
    "        \n"
   ]
  },
  {
   "cell_type": "code",
   "execution_count": 21,
   "metadata": {},
   "outputs": [
    {
     "name": "stdout",
     "output_type": "stream",
     "text": [
      "e\n",
      "False\n"
     ]
    }
   ],
   "source": [
    "if __name__ == '__main__':\n",
    "    s = 'abcde'\n",
    "    t = 'ead'\n",
    "    print(recurssion(s,t))\n",
    "\n",
    "    "
   ]
  },
  {
   "cell_type": "code",
   "execution_count": 10,
   "metadata": {},
   "outputs": [
    {
     "data": {
      "text/plain": [
       "'bchjsgsuohhdhyrikkknddg'"
      ]
     },
     "execution_count": 10,
     "metadata": {},
     "output_type": "execute_result"
    }
   ],
   "source": [
    "s = 'abchjsgsuohhdhyrikkknddg'\n",
    "s[1:]"
   ]
  },
  {
   "cell_type": "markdown",
   "metadata": {},
   "source": [
    "-----------------------"
   ]
  },
  {
   "cell_type": "code",
   "execution_count": 66,
   "metadata": {},
   "outputs": [],
   "source": [
    "def maximize_profit(arr):\n",
    "    arr.sort()\n",
    "\n",
    "    if len(arr)==1:\n",
    "        return arr\n",
    "        \n",
    "    arr[0]*len(arr)\n",
    "         \n",
    "        \n",
    "    \n",
    "    if len(arr) == 1:\n",
    "        if arr > Maximum_new:\n",
    "            return arr\n",
    "        else:\n",
    "            return Maximum_new\n",
    "    else:\n",
    "        maximize_profit(arr[1:])\n",
    "    \n",
    "    "
   ]
  },
  {
   "cell_type": "code",
   "execution_count": 69,
   "metadata": {},
   "outputs": [],
   "source": [
    "# if __name__ == '__main__':\n",
    "#     n = int(input())\n",
    "#     arr = [int(ele) for ele in input().split()]\n",
    "#     ans = maximize_profit(arr)\n",
    "#     print(ans)"
   ]
  },
  {
   "cell_type": "markdown",
   "metadata": {},
   "source": [
    "---------------"
   ]
  },
  {
   "cell_type": "code",
   "execution_count": 72,
   "metadata": {},
   "outputs": [],
   "source": [
    "def maximize_array(arr):\n",
    "    arr.sort()\n",
    "    lst = []\n",
    "    for i in range(len(arr)):\n",
    "        lst.append(arr[i]*len(arr[i:]))\n",
    "    return max(lst)"
   ]
  },
  {
   "cell_type": "code",
   "execution_count": 73,
   "metadata": {},
   "outputs": [
    {
     "name": "stdin",
     "output_type": "stream",
     "text": [
      " 3\n",
      " 12 24 36\n"
     ]
    },
    {
     "name": "stdout",
     "output_type": "stream",
     "text": [
      "48\n"
     ]
    }
   ],
   "source": [
    "if __name__ == '__main__':\n",
    "    n = int(input())\n",
    "    arr = [int(ele) for ele in input().split()]\n",
    "    ans = maximize_array(arr)\n",
    "    print(ans)"
   ]
  },
  {
   "cell_type": "code",
   "execution_count": null,
   "metadata": {},
   "outputs": [],
   "source": [
    "def maximize_profit(arr):\n",
    "    arr.sort()\n",
    "    lst  = []\n",
    "    \n",
    "    "
   ]
  },
  {
   "cell_type": "code",
   "execution_count": 26,
   "metadata": {},
   "outputs": [
    {
     "data": {
      "text/plain": [
       "[3]"
      ]
     },
     "execution_count": 26,
     "metadata": {},
     "output_type": "execute_result"
    }
   ],
   "source": [
    "a = []\n",
    "main_lst = []\n",
    "a.append(3)\n",
    "main_lst.extend(a)\n",
    "main_lst"
   ]
  },
  {
   "cell_type": "code",
   "execution_count": 27,
   "metadata": {},
   "outputs": [],
   "source": [
    "a.append(5)"
   ]
  },
  {
   "cell_type": "code",
   "execution_count": 28,
   "metadata": {},
   "outputs": [],
   "source": [
    "main_lst.extend(a)"
   ]
  },
  {
   "cell_type": "code",
   "execution_count": 29,
   "metadata": {},
   "outputs": [
    {
     "data": {
      "text/plain": [
       "[3, 3, 5]"
      ]
     },
     "execution_count": 29,
     "metadata": {},
     "output_type": "execute_result"
    }
   ],
   "source": [
    "main_lst"
   ]
  },
  {
   "cell_type": "markdown",
   "metadata": {},
   "source": [
    "----"
   ]
  },
  {
   "cell_type": "code",
   "execution_count": 2,
   "metadata": {},
   "outputs": [
    {
     "name": "stdin",
     "output_type": "stream",
     "text": [
      " 4 3\n"
     ]
    },
    {
     "name": "stdout",
     "output_type": "stream",
     "text": [
      "64\n"
     ]
    }
   ],
   "source": [
    "def power(x, n):\n",
    "    # Please add your code here\n",
    "    if n==0:\n",
    "        return 1\n",
    "    if n%2==0:\n",
    "        small_power = power(x,n//2)\n",
    "        return small_power*small_power\n",
    "    else:\n",
    "        small_power = power(x,n//2)\n",
    "        return x*small_power*small_power\n",
    "    \n",
    "\n",
    "# Main\n",
    "from sys import setrecursionlimit\n",
    "setrecursionlimit(11000)\n",
    "x, n=list(int(i) for i in input().strip().split(' '))\n",
    "print(power(x, n))\n"
   ]
  },
  {
   "cell_type": "markdown",
   "metadata": {},
   "source": [
    "---"
   ]
  },
  {
   "cell_type": "code",
   "execution_count": 1,
   "metadata": {},
   "outputs": [],
   "source": [
    "#linklist"
   ]
  },
  {
   "cell_type": "code",
   "execution_count": 12,
   "metadata": {},
   "outputs": [],
   "source": [
    "class node:\n",
    "    def __init__(self,data):\n",
    "        self.data = data \n",
    "        self.next = None\n",
    "\n",
    "\n",
    "        \n",
    "def linklist(lst):\n",
    "    head = None\n",
    "    for val in lst:\n",
    "        if val == -1:\n",
    "            return \"None\"\n",
    "    \n",
    "        if head is None:\n",
    "            head = node(val)\n",
    "        else:\n",
    "            current_node = head\n",
    "            while current_node.next is not None:\n",
    "                current_node = current_node.next\n",
    "            current_node.next = node(val)\n",
    "    return head\n",
    "\n",
    "\n",
    "def printL(head):\n",
    "    while head is not None:\n",
    "        print(str(head.data)+\"->\",end='')\n",
    "        head = head.next\n",
    "    return \n",
    "            "
   ]
  },
  {
   "cell_type": "code",
   "execution_count": 33,
   "metadata": {},
   "outputs": [],
   "source": [
    "class node:\n",
    "    def __init__(self,data):\n",
    "        self.data = data \n",
    "        self.next = None\n",
    "\n",
    "\n",
    "        \n",
    "def linklist(lst):\n",
    "    head = None\n",
    "    tail = None \n",
    "    for val in lst:\n",
    "        if val == -1:\n",
    "            break\n",
    "        nextnode = node(val)\n",
    "        if head is None:\n",
    "            head = nextnode \n",
    "            tail = nextnode\n",
    "        else:\n",
    "            tail.next = nextnode\n",
    "            tail = nextnode\n",
    "    return head\n",
    "\n",
    "\n",
    "def printL(head):\n",
    "    while head is not None:\n",
    "        print(str(head.data)+\"->\",end='')\n",
    "        \n",
    "        head = head.next\n",
    "    print(\"None\")\n",
    "    return \n",
    "            "
   ]
  },
  {
   "cell_type": "code",
   "execution_count": 34,
   "metadata": {},
   "outputs": [
    {
     "name": "stdin",
     "output_type": "stream",
     "text": [
      " 1 2 3 4 -1\n"
     ]
    },
    {
     "name": "stdout",
     "output_type": "stream",
     "text": [
      "1->2->3->4->None\n",
      "None\n"
     ]
    }
   ],
   "source": [
    "lst = input()\n",
    "lst_main = [int(ele) for ele in lst.split()]\n",
    "head = linklist(lst_main)\n",
    "\n",
    "print(printL(head))"
   ]
  },
  {
   "cell_type": "code",
   "execution_count": 35,
   "metadata": {},
   "outputs": [],
   "source": [
    "\n",
    "# from sys import stdin\n",
    "\n",
    "# #Following is the Node class already written for the Linked List\n",
    "# class Node :\n",
    "#     def __init__(self, data) :\n",
    "#         self.data = data\n",
    "#         self.next = None\n",
    "\n",
    "\n",
    "\n",
    "\n",
    "\n",
    "\n",
    "# def length(head) :\n",
    "#     #Your code goes here\n",
    "#     cnt = 0\n",
    "#     while head is not None:\n",
    "#         cnt+=1\n",
    "#         head = head.next\n",
    "#     return cnt\n",
    "\n",
    "\n",
    "\n",
    "\n",
    "\n",
    "\n",
    "\n",
    "\n",
    "\n",
    "\n",
    "\n",
    "        \n",
    "\n",
    "\n",
    "\n",
    "\n",
    "# #Taking Input Using Fast I/O\n",
    "# def takeInput() :\n",
    "#     head = None\n",
    "#     tail = None\n",
    "\n",
    "#     datas = list(map(int, stdin.readline().rstrip().split(\" \")))\n",
    "\n",
    "#     i = 0\n",
    "#     while (i < len(datas)) and (datas[i] != -1) :\n",
    "#         data = datas[i]\n",
    "#         newNode = Node(data)\n",
    "\n",
    "#         if head is None :\n",
    "#             head = newNode\n",
    "#             tail = newNode\n",
    "\n",
    "#         else :\n",
    "#             tail.next = newNode\n",
    "#             tail = newNode\n",
    "\n",
    "#         i += 1\n",
    "\n",
    "#     return head\n",
    "\n",
    "\n",
    "\n",
    "# #to print the linked list \n",
    "# def printLinkedList(head) :\n",
    "\n",
    "#     while head is not None :\n",
    "#         print(head.data, end = \" \")\n",
    "#         head = head.next\n",
    "\n",
    "#     print()\n",
    "\n",
    "\n",
    "\n",
    "# #main\n",
    "# t = int(stdin.readline().rstrip())\n",
    "\n",
    "# while t > 0 :\n",
    "\n",
    "#     head = takeInput()\n",
    "#     print(length(head))\n",
    "\n",
    "#     t -= 1"
   ]
  },
  {
   "cell_type": "code",
   "execution_count": 38,
   "metadata": {},
   "outputs": [],
   "source": [
    "\n",
    "# from sys import stdin\n",
    "\n",
    "# #Following is the Node class already written for the Linked List\n",
    "# class Node :\n",
    "#     def __init__(self, data) :\n",
    "#         self.data = data\n",
    "#         self.next = None\n",
    "\n",
    "\n",
    "\n",
    "\n",
    "# def printIthNode(head, i):\n",
    "#     #Your code goes here\n",
    "#     if i == 0:\n",
    "#         return \n",
    "    \n",
    "#     for j in range(i):\n",
    "#         if head is not None:\n",
    "#             head = head.next\n",
    "#     if head is not None:\n",
    "#         print(head.data)\n",
    "#     return\n",
    "\n",
    "\n",
    "\n",
    "\n",
    "\n",
    "\n",
    "\n",
    "\n",
    "\n",
    "\n",
    "\n",
    "\n",
    "\n",
    "\n",
    "\n",
    "\n",
    "\n",
    "\n",
    "\n",
    "\n",
    "\n",
    "\n",
    "\n",
    "\n",
    "\n",
    "# #Taking Input Using Fast I/O\n",
    "# def takeInput() :\n",
    "#     head = None\n",
    "#     tail = None\n",
    "\n",
    "#     datas = list(map(int, stdin.readline().rstrip().split(\" \")))\n",
    "\n",
    "#     i = 0\n",
    "#     while (i < len(datas)) and (datas[i] != -1) :\n",
    "#         data = datas[i]\n",
    "#         newNode = Node(data)\n",
    "\n",
    "#         if head is None :\n",
    "#             head = newNode\n",
    "#             tail = newNode\n",
    "\n",
    "#         else :\n",
    "#             tail.next = newNode\n",
    "#             tail = newNode\n",
    "\n",
    "#         i += 1\n",
    "\n",
    "#     return head\n",
    "\n",
    "\n",
    "# #to print the linked list \n",
    "# def printLinkedList(head) :\n",
    "\n",
    "#     while head is not None :\n",
    "#         print(head.data, end = \" \")\n",
    "#         head = head.next\n",
    "\n",
    "#     print()\n",
    "\n",
    "\n",
    "# #main\n",
    "# t = int(stdin.readline().rstrip())\n",
    "\n",
    "# while t > 0 :\n",
    "\n",
    "#     head = takeInput()\n",
    "#     i = int(stdin.readline().rstrip())\n",
    "#     printIthNode(head, i)\n",
    "\n",
    "#     t -= 1"
   ]
  },
  {
   "cell_type": "markdown",
   "metadata": {},
   "source": [
    "-------------"
   ]
  },
  {
   "cell_type": "markdown",
   "metadata": {},
   "source": [
    "### Deleting the Node"
   ]
  },
  {
   "cell_type": "code",
   "execution_count": 1,
   "metadata": {},
   "outputs": [],
   "source": [
    "# from sys import stdin\n",
    "\n",
    "# # Following is the Node class already written for the Linked List.\n",
    "# class Node :\n",
    "#     def __init__(self, data) :\n",
    "#         self.data = data\n",
    "#         self.next = None\n",
    "\n",
    "\n",
    "        \n",
    "        \n",
    "        \n",
    "\n",
    "# def length(head):\n",
    "#     cnt = 0\n",
    "#     while head is not None:\n",
    "#         cnt+=1\n",
    "#         head = head.next\n",
    "#     return cnt         \n",
    "        \n",
    "        \n",
    "\n",
    "        \n",
    "        \n",
    "        \n",
    "        \n",
    "        \n",
    "# def deleteNode(head, pos) :\n",
    "#     # Write your code here.\n",
    "#     prev = None\n",
    "#     current = head\n",
    "#     cnt = 0\n",
    "#     if pos<0 or pos>length(head):\n",
    "#         return head\n",
    "#     while cnt<pos:\n",
    "#         prev = current\n",
    "#         current = current.next\n",
    "#         cnt+=1\n",
    "#     if prev is not None:\n",
    "#         if current is None:\n",
    "#             return head\n",
    "#         else:\n",
    "#             prev.next = current.next\n",
    "#             current = current.next\n",
    "        \n",
    "#     else:\n",
    "#         if current is None:\n",
    "#             return None\n",
    "#         else:\n",
    "#             current = current.next\n",
    "#             head = current\n",
    "        \n",
    "#     return head\n",
    "\n",
    "\n",
    "\n",
    "\n",
    "\n",
    "\n",
    "# # Taking Input Using Fast I/O.\n",
    "# def takeInput() :\n",
    "#     head = None\n",
    "#     tail = None\n",
    "\n",
    "#     datas = list(map(int, stdin.readline().rstrip().split(\" \")))\n",
    "\n",
    "#     i = 0\n",
    "#     while (i < len(datas)) and (datas[i] != -1) :\n",
    "#         data = datas[i]\n",
    "#         newNode = Node(data)\n",
    "\n",
    "#         if head is None :\n",
    "#             head = newNode\n",
    "#             tail = newNode\n",
    "\n",
    "#         else :\n",
    "#             tail.next = newNode\n",
    "#             tail = newNode\n",
    "\n",
    "#         i += 1\n",
    "\n",
    "#     return head\n",
    "\n",
    "\n",
    "\n",
    "# # To print the linked list.\n",
    "# def printLinkedList(head) :\n",
    "\n",
    "#     while head is not None :\n",
    "#         print(head.data, end = \" \")\n",
    "#         head = head.next\n",
    "\n",
    "#     print()\n",
    "\n",
    "\n",
    "# # Main.\n",
    "# t = int(stdin.readline().strip())\n",
    "\n",
    "# while t > 0 :\n",
    "    \n",
    "#     head = takeInput()\n",
    "#     pos = int(stdin.readline().rstrip())\n",
    "    \n",
    "#     head = deleteNode(head, pos)\n",
    "#     printLinkedList(head)\n",
    "\n",
    "#     t -= 1\n"
   ]
  },
  {
   "cell_type": "code",
   "execution_count": 7,
   "metadata": {},
   "outputs": [
    {
     "name": "stdin",
     "output_type": "stream",
     "text": [
      " 1 -1\n"
     ]
    },
    {
     "name": "stdout",
     "output_type": "stream",
     "text": [
      "1->None\n",
      "None\n"
     ]
    }
   ],
   "source": [
    "# lst = input()\n",
    "# lst_main = [int(ele) for ele in lst.split()]\n",
    "# head = linklist(lst_main)\n",
    "# # insert(head,2,9)\n",
    "# # print(printL(head))\n",
    "\n",
    "# # print(printL(head))\n",
    "\n",
    "# delete(head,0)\n",
    "\n",
    "# print(printL(head))"
   ]
  },
  {
   "cell_type": "markdown",
   "metadata": {},
   "source": [
    "------------"
   ]
  },
  {
   "cell_type": "markdown",
   "metadata": {},
   "source": [
    "### Length Recursively "
   ]
  },
  {
   "cell_type": "code",
   "execution_count": 9,
   "metadata": {},
   "outputs": [],
   "source": [
    "# from sys import stdin , setrecursionlimit\n",
    "# setrecursionlimit(10**6)\n",
    "# class Node:\n",
    "#     def __init__(self, data):\n",
    "#         self.data = data\n",
    "#         self.next = None\n",
    "\n",
    "# # Taking Input Using Fast I/O\n",
    "# def takeInput() :\n",
    "#     head = None\n",
    "#     tail = None\n",
    "\n",
    "#     datas = list(map(int, stdin.readline().rstrip().split(\" \")))\n",
    "\n",
    "#     i = 0\n",
    "#     while (i < len(datas)) and (datas[i] != -1) :\n",
    "#         data = datas[i]\n",
    "#         newNode = Node(data)\n",
    "\n",
    "#         if head is None :\n",
    "#             head = newNode\n",
    "#             tail = newNode\n",
    "\n",
    "#         else :\n",
    "#             tail.next = newNode\n",
    "#             tail = newNode\n",
    "\n",
    "#         i += 1\n",
    "\n",
    "#     return head\n",
    "\n",
    "\n",
    "# # To print the linked list \n",
    "# def printLinkedList(head) :\n",
    "\n",
    "#     while head is not None :\n",
    "#         print(head.data, end = \" \")\n",
    "#         head = head.next\n",
    "\n",
    "#     print()\n",
    "\n",
    "# def lengthRecursive(head):\n",
    "#     # A linked list, find and return the length of input LL recursively.\n",
    "#     # Write your code here\n",
    "#     while head is None:\n",
    "#         return 0\n",
    "#     return 1+lengthRecursive(head.next)\n",
    "    \n",
    "\n",
    "    \n",
    "\n",
    "\n",
    "\n",
    "\n",
    "\n",
    "\n",
    "\n",
    "\n",
    "\n",
    "\n",
    "\n",
    "\n",
    "# # Main\n",
    "# t = int(stdin.readline().rstrip())\n",
    "\n",
    "# while t > 0 :\n",
    "#     head = takeInput()\n",
    "#     ans=lengthRecursive(head)\n",
    "#     print(ans)\n",
    "#     t -= 1 "
   ]
  },
  {
   "cell_type": "markdown",
   "metadata": {},
   "source": [
    "-------------------------------------------------"
   ]
  },
  {
   "cell_type": "code",
   "execution_count": 1,
   "metadata": {},
   "outputs": [],
   "source": [
    "class node:\n",
    "    def __init__(self,data):\n",
    "        self.data = data \n",
    "        self.next = None\n",
    "\n",
    "def deleteNodeRec(head, pos) :\n",
    "    if pos<0:\n",
    "        return head\n",
    "    if pos == 0:\n",
    "        head=  head.next \n",
    "        return head\n",
    "    if head is None:\n",
    "        return None\n",
    "    smallhead = deleteNodeRec(head.next,pos-1)\n",
    "    head.next = smallhead\n",
    "    return head\n",
    "        \n",
    "def linklist(lst):\n",
    "    head = None\n",
    "    tail = None \n",
    "    for val in lst:\n",
    "        if val == -1:\n",
    "            break\n",
    "        nextnode = node(val)\n",
    "        if head is None:\n",
    "            head = nextnode \n",
    "            tail = nextnode\n",
    "        else:\n",
    "            tail.next = nextnode\n",
    "            tail = nextnode\n",
    "    return head\n",
    "\n",
    "\n",
    "def printL(head):\n",
    "    while head is not None:\n",
    "        print(str(head.data)+\"->\",end='')\n",
    "        \n",
    "        head = head.next\n",
    "    print(\"None\")\n",
    "    return \n",
    "            "
   ]
  },
  {
   "cell_type": "code",
   "execution_count": 3,
   "metadata": {},
   "outputs": [
    {
     "name": "stdin",
     "output_type": "stream",
     "text": [
      " 1 2 3 4 5\n"
     ]
    },
    {
     "name": "stdout",
     "output_type": "stream",
     "text": [
      "1->2->3->4->5->None\n",
      "None\n"
     ]
    }
   ],
   "source": [
    "lst = input()\n",
    "lst_main = [int(ele) for ele in lst.split()]\n",
    "head = linklist(lst_main)\n",
    "# insert(head,2,9)\n",
    "# print(printL(head))\n",
    "\n",
    "# print(printL(head))\n",
    "\n",
    "deleteNodeRec(head,0)\n",
    "\n",
    "print(printL(head))"
   ]
  },
  {
   "cell_type": "markdown",
   "metadata": {},
   "source": [
    "------"
   ]
  },
  {
   "cell_type": "code",
   "execution_count": 4,
   "metadata": {},
   "outputs": [],
   "source": [
    "## delte the node Recursively "
   ]
  },
  {
   "cell_type": "code",
   "execution_count": 5,
   "metadata": {},
   "outputs": [],
   "source": [
    "# from sys import stdin, setrecursionlimit\n",
    "# setrecursionlimit(10 ** 6)\n",
    "\n",
    "# #Following is the Node class already written for the Linked List\n",
    "# class Node :\n",
    "#     def __init__(self, data) :\n",
    "#         self.data = data\n",
    "#         self.next = None\n",
    "\n",
    "        \n",
    "        \n",
    "\n",
    "\n",
    "# def deleteNodeRec(head, pos) :\n",
    "# \t#Your code goes here\n",
    "#     if pos<0:\n",
    "#         return head\n",
    "#     if pos == 0:\n",
    "#         head=head.next \n",
    "#         return head\n",
    "#     if head.next is None:\n",
    "#         return head\n",
    "#     smallhead = deleteNodeRec(head.next,pos-1)\n",
    "#     head.next = smallhead\n",
    "#     return head\n",
    "\n",
    "\n",
    "\n",
    "\n",
    "\n",
    "\n",
    "    \n",
    "\n",
    "\n",
    "\n",
    "\n",
    "\n",
    "\n",
    "\n",
    "\n",
    "\n",
    "\n",
    "\n",
    "\n",
    "\n",
    "\n",
    "\n",
    "\n",
    "\n",
    "\n",
    "\n",
    "\n",
    "\t\n",
    "\n",
    "# def takeInput() :\n",
    "#     head = None\n",
    "#     tail = None\n",
    "\n",
    "#     datas = list(map(int, stdin.readline().rstrip().split(\" \")))\n",
    "\n",
    "#     i = 0\n",
    "#     while (i < len(datas)) and (datas[i] != -1) :\n",
    "#         data = datas[i]\n",
    "#         newNode = Node(data)\n",
    "\n",
    "#         if head is None :\n",
    "#             head = newNode\n",
    "#             tail = newNode\n",
    "\n",
    "#         else :\n",
    "#             tail.next = newNode\n",
    "#             tail = newNode\n",
    "\n",
    "#         i += 1\n",
    "\n",
    "#     return head\n",
    "\n",
    "\n",
    "\n",
    "\n",
    "# def printLinkedList(head) :\n",
    "\n",
    "#     while head is not None :\n",
    "#         print(head.data, end = \" \")\n",
    "#         head = head.next\n",
    "\n",
    "#     print()\n",
    "\n",
    "\n",
    "# #main\n",
    "# t = int(stdin.readline().rstrip())\n",
    "\n",
    "# while t > 0 :\n",
    "    \n",
    "#     head = takeInput()\n",
    "#     pos = int(stdin.readline().rstrip())    \n",
    "\n",
    "#     newHead = deleteNodeRec(head, pos)\n",
    "#     printLinkedList(newHead)\n",
    "\n",
    "#     t -= 1"
   ]
  },
  {
   "cell_type": "markdown",
   "metadata": {},
   "source": [
    "------"
   ]
  },
  {
   "cell_type": "code",
   "execution_count": 6,
   "metadata": {},
   "outputs": [],
   "source": [
    "# ## finding a number in linklist\n",
    "\n",
    "\n",
    "# # Following is the Node class already written for the Linked List\n",
    "# class Node :\n",
    "#     def __init__(self, data) :\n",
    "#         self.data = data\n",
    "#         self.next = None\n",
    "\n",
    "# def findNode(head, n) :\n",
    "#     # Write your code here.\n",
    "#     cnt = 0\n",
    "#     while head is not None:\n",
    "#         if head.data == n:\n",
    "#             return cnt\n",
    "#         head = head.next\n",
    "#         cnt+=1\n",
    "        \n",
    "#     if head is None:\n",
    "#         return -1"
   ]
  },
  {
   "cell_type": "markdown",
   "metadata": {},
   "source": [
    "-----------------"
   ]
  },
  {
   "cell_type": "markdown",
   "metadata": {},
   "source": [
    "### Append lastn to first "
   ]
  },
  {
   "cell_type": "code",
   "execution_count": 55,
   "metadata": {},
   "outputs": [],
   "source": [
    "class node:\n",
    "    def __init__(self,data):\n",
    "        self.data = data \n",
    "        self.next = None\n",
    "\n",
    "\n",
    "        \n",
    "def length(head):\n",
    "    cnt = 0\n",
    "    while head is not None:\n",
    "        cnt+=1\n",
    "        head = head.next\n",
    "    return cnt \n",
    "\n",
    "\n",
    "\n",
    "def deleteNodeRec(head, pos) :\n",
    "\n",
    "    if pos<0:\n",
    "        return head\n",
    "    if pos == 0:\n",
    "        head=head.next \n",
    "        return head\n",
    "    if head.next is None:\n",
    "        return head\n",
    "    smallhead = deleteNodeRec(head.next,pos-1)\n",
    "    head.next = smallhead\n",
    "    return head\n",
    "\n",
    "\n",
    "        \n",
    "def LastNfirst(head,n):\n",
    "    prev = None\n",
    "    curr = head\n",
    "    skip = length(head)-n\n",
    "    while skip>0:\n",
    "        prev = curr\n",
    "        curr = curr.next\n",
    "        skip-=1\n",
    "    prev.next = None\n",
    "    temphead = head\n",
    "    \n",
    "    head = curr \n",
    "    \n",
    "    while curr.next is not None:\n",
    "        curr= curr.next\n",
    "    curr.next = temphead\n",
    "   \n",
    "    \n",
    "    return head\n",
    "        \n",
    "        \n",
    "        \n",
    "        \n",
    "        \n",
    "        \n",
    "def linklist(lst):\n",
    "    head = None\n",
    "    tail = None \n",
    "    for val in lst:\n",
    "        if val == -1:\n",
    "            break\n",
    "        nextnode = node(val)\n",
    "        if head is None:\n",
    "            head = nextnode \n",
    "            tail = nextnode\n",
    "        else:\n",
    "            tail.next = nextnode\n",
    "            tail = nextnode\n",
    "    return head\n",
    "\n",
    "\n",
    "def printL(head):\n",
    "    while head is not None:\n",
    "        print(str(head.data)+\"->\",end='')\n",
    "        \n",
    "        head = head.next\n",
    "    print(\"None\")\n",
    "    return \n",
    "            "
   ]
  },
  {
   "cell_type": "code",
   "execution_count": 56,
   "metadata": {},
   "outputs": [
    {
     "name": "stdin",
     "output_type": "stream",
     "text": [
      " 1 2 3 4 5\n"
     ]
    },
    {
     "name": "stdout",
     "output_type": "stream",
     "text": [
      "4->5->1->2->3->None\n",
      "None\n"
     ]
    }
   ],
   "source": [
    "lst = input()\n",
    "lst_main = [int(ele) for ele in lst.split()]\n",
    "head = linklist(lst_main)\n",
    "# insert(head,2,9)\n",
    "# print(printL(head))\n",
    "\n",
    "# print(printL(head))\n",
    "\n",
    "# deleteNodeRec(head,0)\n",
    "headnew = LastNfirst(head,2)\n",
    "\n",
    "\n",
    "print(printL(headnew))"
   ]
  },
  {
   "cell_type": "code",
   "execution_count": null,
   "metadata": {},
   "outputs": [],
   "source": [
    "\n",
    "# from sys import stdin\n",
    "\n",
    "# #Following is the Node class already written for the Linked List\n",
    "# class Node :\n",
    "#     def __init__(self, data) :\n",
    "#         self.data = data\n",
    "#         self.next = None\n",
    "\n",
    "# def length(head):\n",
    "#     cnt = 0\n",
    "#     while head is not None:\n",
    "#         cnt+=1\n",
    "#         head = head.next\n",
    "#     return cnt \n",
    "\n",
    "\n",
    "# def appendLastNToFirst(head, n) :\n",
    "#     #Your code goes here\n",
    "#     if n<=0 or n>length(head):\n",
    "#         return head\n",
    "#     prev = None\n",
    "#     curr = head\n",
    "#     skip = length(head)-n\n",
    "#     while skip>0:\n",
    "#         prev = curr\n",
    "#         curr = curr.next\n",
    "#         skip-=1\n",
    "#     prev.next = None\n",
    "#     temphead = head\n",
    "    \n",
    "#     head = curr \n",
    "    \n",
    "#     while curr.next is not None:\n",
    "#         curr= curr.next\n",
    "#     curr.next = temphead\n",
    "   \n",
    "    \n",
    "#     return head\n",
    "    \n",
    "\n",
    "\n",
    "\n",
    "\n",
    "\n",
    "\n",
    "\n",
    "\n",
    "\n",
    "\n",
    "\n",
    "\n",
    "\n",
    "\n",
    "\n",
    "\n",
    "\n",
    "\n",
    "\n",
    "\n",
    "\n",
    "\n",
    "\n",
    "\n",
    "\n",
    "\n",
    "# #Taking Input Using Fast I/O\n",
    "# def takeInput() :\n",
    "#     head = None\n",
    "#     tail = None\n",
    "\n",
    "#     datas = list(map(int, stdin.readline().rstrip().split(\" \")))\n",
    "\n",
    "#     i = 0\n",
    "#     while (i < len(datas)) and (datas[i] != -1) :\n",
    "#         data = datas[i]\n",
    "#         newNode = Node(data)\n",
    "\n",
    "#         if head is None :\n",
    "#             head = newNode\n",
    "#             tail = newNode\n",
    "\n",
    "#         else :\n",
    "#             tail.next = newNode\n",
    "#             tail = newNode\n",
    "\n",
    "#         i += 1\n",
    "\n",
    "#     return head\n",
    "\n",
    "\n",
    "# #to print the linked list \n",
    "# def printLinkedList(head) :\n",
    "\n",
    "#     while head is not None :\n",
    "#         print(head.data, end = \" \")\n",
    "#         head = head.next\n",
    "\n",
    "#     print()\n",
    "\n",
    "\n",
    "# #main\n",
    "# t = int(stdin.readline().rstrip())\n",
    "\n",
    "# while t > 0 :\n",
    "\n",
    "#     head = takeInput()\n",
    "#     n = int(stdin.readline().rstrip())\n",
    "\n",
    "#     head = appendLastNToFirst(head, n)\n",
    "#     printLinkedList(head)\n",
    "\n",
    "#     t -= 1 "
   ]
  },
  {
   "cell_type": "markdown",
   "metadata": {},
   "source": [
    "-------------"
   ]
  },
  {
   "cell_type": "code",
   "execution_count": 1,
   "metadata": {},
   "outputs": [],
   "source": [
    "## Remove the dupllicates"
   ]
  },
  {
   "cell_type": "code",
   "execution_count": 2,
   "metadata": {},
   "outputs": [],
   "source": [
    "class node:\n",
    "    def __init__(self,data):\n",
    "        self.data = data \n",
    "        self.next = None\n",
    "\n",
    "\n",
    "        \n",
    "def length(head):\n",
    "    cnt = 0\n",
    "    while head is not None:\n",
    "        cnt+=1\n",
    "        head = head.next\n",
    "    return cnt \n",
    "\n",
    "\n",
    "\n",
    "def deleteNodeRec(head, pos) :\n",
    "\n",
    "    if pos<0:\n",
    "        return head\n",
    "    if pos == 0:\n",
    "        head=head.next \n",
    "        return head\n",
    "    if head.next is None:\n",
    "        return head\n",
    "    smallhead = deleteNodeRec(head.next,pos-1)\n",
    "    head.next = smallhead\n",
    "    return head\n",
    "\n",
    "\n",
    "\n",
    "\n",
    "def removeduplicates(head):\n",
    "    previous = None\n",
    "    current = head\n",
    "    cnt = 0\n",
    "    \n",
    "    while current is not None and current.next is not None :\n",
    "        if head == -1:\n",
    "            break\n",
    "        else:\n",
    "            previous = current\n",
    "            current = current.next\n",
    "            cnt+=1\n",
    "            while current is not None:\n",
    "                if previous.data == current.data:\n",
    "                    previous.next = current.next\n",
    "                    current = current.next\n",
    "                else:\n",
    "                    previous = current\n",
    "                    current = current.next\n",
    "    return head\n",
    "\n",
    "\n",
    "\n",
    "def reverselinklist(head):\n",
    "    previous = None\n",
    "    nxt = None\n",
    "    current = head\n",
    "    while current is not None:\n",
    "        nxt = current.next\n",
    "        current.next = previous\n",
    "        previous = current\n",
    "        current = nxt \n",
    "        \n",
    "    head = previous\n",
    "    while head is not None:\n",
    "        print(head.data,end=' ')\n",
    "        head = head.next\n",
    "    print()\n",
    "#     return \n",
    "    \n",
    "    \n",
    "def isPalindrome(head) :\n",
    "    #Your code goes here\n",
    "    temp_head = head\n",
    "    ispalin = True\n",
    "    lst = []\n",
    "    \n",
    "    # rev_head = reverselinklist(head)\n",
    "    while temp_head is not None:\n",
    "        lst.append(temp_head.data)\n",
    "        temp_head = temp_head.next\n",
    "        \n",
    "    while head is not None:\n",
    "        val = lst.pop()\n",
    "        if head.data == val:\n",
    "            ispalin = True\n",
    "        else:\n",
    "            ispalin = False\n",
    "            break\n",
    "        head = head.next\n",
    "        \n",
    "    return ispalin        \n",
    "    \n",
    "    \n",
    "    \n",
    "    \n",
    "        \n",
    "def LastNfirst(head,n):\n",
    "    prev = None\n",
    "    curr = head\n",
    "    skip = length(head)-n\n",
    "    while skip>0:\n",
    "        prev = curr\n",
    "        curr = curr.next\n",
    "        skip-=1\n",
    "    prev.next = None\n",
    "    temphead = head\n",
    "    \n",
    "    head = curr \n",
    "    \n",
    "    while curr.next is not None:\n",
    "        curr= curr.next\n",
    "    curr.next = temphead\n",
    "   \n",
    "    \n",
    "    return head\n",
    "        \n",
    "        \n",
    "\n",
    "\n",
    "\n",
    "        \n",
    "        \n",
    "        \n",
    "def linklist(lst):\n",
    "    head = None\n",
    "    tail = None \n",
    "    for val in lst:\n",
    "        if val == -1:\n",
    "            break\n",
    "        nextnode = node(val)\n",
    "        if head is None:\n",
    "            head = nextnode \n",
    "            tail = nextnode\n",
    "        else:\n",
    "            tail.next = nextnode\n",
    "            tail = nextnode\n",
    "    return head\n",
    "\n",
    "\n",
    "def printL(head):\n",
    "    while head is not None:\n",
    "        print(str(head.data)+\"->\",end='')\n",
    "        \n",
    "        head = head.next\n",
    "    print(\"None\")\n",
    "    return \n",
    "            "
   ]
  },
  {
   "cell_type": "code",
   "execution_count": 4,
   "metadata": {},
   "outputs": [
    {
     "name": "stdin",
     "output_type": "stream",
     "text": [
      " 1 2 3 4 -1\n"
     ]
    },
    {
     "name": "stdout",
     "output_type": "stream",
     "text": [
      "False\n"
     ]
    }
   ],
   "source": [
    "lst = input()\n",
    "lst_main = [int(ele) for ele in lst.split()]\n",
    "head = linklist(lst_main)\n",
    "# insert(head,2,9)\n",
    "# print(printL(head))\n",
    "\n",
    "# print(printL(head))\n",
    "\n",
    "# deleteNodeRec(head,0)\n",
    "# headnew = LastNfirst(head,2)\n",
    "# headnew = removeduplicates(head)\n",
    "# head_new = reverselinklist(head)\n",
    "\n",
    "# print(isPalindrome(head))\n",
    "# print(printL(head_new))"
   ]
  },
  {
   "cell_type": "markdown",
   "metadata": {},
   "source": [
    "---------------------"
   ]
  },
  {
   "cell_type": "markdown",
   "metadata": {},
   "source": [
    "### Application of Complexity Analysis"
   ]
  },
  {
   "cell_type": "code",
   "execution_count": null,
   "metadata": {},
   "outputs": [],
   "source": [
    "# still in progress time complexity nlogn+mlogn\n",
    "# binary search < merger sort < intersection "
   ]
  },
  {
   "cell_type": "code",
   "execution_count": 108,
   "metadata": {},
   "outputs": [],
   "source": [
    "def binary_search(arr,sea_num,start,last):\n",
    "    if last>= start:\n",
    "        mid = (last+start)//2\n",
    "        if mid<len(arr)-1:\n",
    "            if sea_num == arr[mid]:\n",
    "                return arr[mid]\n",
    "            elif sea_num>arr[mid]:\n",
    "                return binary_search(arr,sea_num,mid+1,last)\n",
    "            else:\n",
    "                return binary_search(arr,sea_num,start,mid-1)\n",
    "        \n",
    "    else:\n",
    "        return -1"
   ]
  },
  {
   "cell_type": "code",
   "execution_count": 118,
   "metadata": {},
   "outputs": [
    {
     "name": "stdout",
     "output_type": "stream",
     "text": [
      "-1\n"
     ]
    }
   ],
   "source": [
    "lst = [1,3,5,6,7]\n",
    "print(binary_search(lst,0,0,len(lst)))"
   ]
  },
  {
   "cell_type": "code",
   "execution_count": 119,
   "metadata": {},
   "outputs": [
    {
     "name": "stdout",
     "output_type": "stream",
     "text": [
      "0\n"
     ]
    }
   ],
   "source": [
    "def findUnique(arr, n) :\n",
    "    #Your code goes here\n",
    "    arr.sort()\n",
    "    for i in range(len(arr)):\n",
    "        if arr.count(arr[i])==1:\n",
    "            return arr[i]\n",
    "\n",
    "\n",
    "\n",
    "\n",
    "print(findUnique([1,2,2,3,0,4,4,5,3],8))\n",
    "        \n"
   ]
  },
  {
   "cell_type": "code",
   "execution_count": 120,
   "metadata": {},
   "outputs": [
    {
     "name": "stdout",
     "output_type": "stream",
     "text": [
      "[1, 2, 3, 4]\n"
     ]
    }
   ],
   "source": [
    "a =[1,2,3,3,3,4]\n",
    "b = list(set(a))\n",
    "print(b)\n"
   ]
  },
  {
   "cell_type": "code",
   "execution_count": 121,
   "metadata": {},
   "outputs": [
    {
     "data": {
      "text/plain": [
       "2"
      ]
     },
     "execution_count": 121,
     "metadata": {},
     "output_type": "execute_result"
    }
   ],
   "source": [
    "5//2"
   ]
  },
  {
   "cell_type": "code",
   "execution_count": 122,
   "metadata": {},
   "outputs": [],
   "source": [
    "def intersection(arr1,arr2,n,m):\n",
    "    arr1 = list(set(arr1))\n",
    "    arr2 = list(set(arr2))\n",
    "    i,j=0,0\n",
    "    if n<m:\n",
    "        mergeSort(arr1)\n",
    "        while i<=len(arr1):\n",
    "            print(binary_search(arr1,arr2[i],0,len(arr1)),end=' ')\n",
    "            i+=1\n",
    "    elif m<=n:\n",
    "        mergeSort(arr2)\n",
    "        while j<=len(arr2):\n",
    "            print(binary_search(arr2,arr1[j],0,len(arr2)),end=' ')\n",
    "            j+=1\n",
    "    return \n",
    "        "
   ]
  },
  {
   "cell_type": "code",
   "execution_count": 124,
   "metadata": {},
   "outputs": [],
   "source": [
    "# print(intersection([1,2,3,4],[1,2],4,2))"
   ]
  },
  {
   "cell_type": "code",
   "execution_count": 3,
   "metadata": {},
   "outputs": [],
   "source": [
    "def merge(a1,a2,a):\n",
    "    i=j=k=0\n",
    "    while i<len(a1) and j<len(a2):\n",
    "        if a1[i]<a2[j]:\n",
    "            a[k] = a1[i]\n",
    "            k=k+1\n",
    "            i+=1\n",
    "        else:\n",
    "            a[k]=a2[j]\n",
    "            k+=1\n",
    "            j+=1\n",
    "    while i<len(a1):\n",
    "        a[k] = a1[i]\n",
    "        k+=1\n",
    "        i+=1\n",
    "    while j<len(a2):\n",
    "        a[k] = a2[j]\n",
    "        k+=1\n",
    "        j+=1\n",
    "\n",
    "\n",
    "\n",
    "\n",
    "\n",
    "\n",
    "\n",
    "def mergeSort(arr):\n",
    "    # Please add your code here\n",
    "    if len(arr)==0 or len(arr)==1:\n",
    "        return \n",
    "    mid = (len(arr))//2\n",
    "    smallarray1 = arr[0:mid]\n",
    "    smallarray2 = arr[mid:]\n",
    "    mergeSort(smallarray1)\n",
    "    mergeSort(smallarray2)\n",
    "    merge(smallarray1,smallarray2,arr)\n"
   ]
  },
  {
   "cell_type": "code",
   "execution_count": 6,
   "metadata": {},
   "outputs": [
    {
     "name": "stdin",
     "output_type": "stream",
     "text": [
      "  0000\n",
      " 1 23 \n"
     ]
    },
    {
     "name": "stdout",
     "output_type": "stream",
     "text": [
      "1 23\n"
     ]
    }
   ],
   "source": [
    "n=int(input())\n",
    "arr=list(int(i) for i in input().strip().split(' '))\n",
    "mergeSort(arr)\n",
    "print(*arr)"
   ]
  },
  {
   "cell_type": "markdown",
   "metadata": {},
   "source": [
    "----"
   ]
  },
  {
   "cell_type": "code",
   "execution_count": 141,
   "metadata": {},
   "outputs": [],
   "source": [
    "def intersection(arr1,arr2,n,m):\n",
    "    mergeSort(arr1)\n",
    "    mergeSort(arr2)\n",
    "    i,j=0,0\n",
    "   \n",
    "    while i<len(arr1) and j<len(arr2):\n",
    "        if arr1[i]== arr2[j]:\n",
    "            print(arr1[i],end=' ')\n",
    "            i+=1\n",
    "            j+=1\n",
    "        elif arr2[j]<arr1[i]:\n",
    "            j+=1\n",
    "        else:\n",
    "            i+=1\n",
    "    while i<len(arr1):\n",
    "        i+=1\n",
    "    while j<len(arr2):\n",
    "        j+=1\n",
    "    return \n",
    "    "
   ]
  },
  {
   "cell_type": "code",
   "execution_count": 142,
   "metadata": {},
   "outputs": [
    {
     "name": "stdout",
     "output_type": "stream",
     "text": [
      "8 9 None\n"
     ]
    }
   ],
   "source": [
    "print(intersection([6,9,8,5],[9,2,4,1,8],4,5))"
   ]
  },
  {
   "cell_type": "code",
   "execution_count": 143,
   "metadata": {},
   "outputs": [],
   "source": [
    "# from sys import stdin\n",
    "\n",
    "\n",
    "\n",
    "\n",
    "# def merge(a1,a2,a):\n",
    "#     i=j=k=0\n",
    "#     while i<len(a1) and j<len(a2):\n",
    "#         if a1[i]<a2[j]:\n",
    "#             a[k] = a1[i]\n",
    "#             k=k+1\n",
    "#             i+=1\n",
    "#         else:\n",
    "#             a[k]=a2[j]\n",
    "#             k+=1\n",
    "#             j+=1\n",
    "#     while i<len(a1):\n",
    "#         a[k] = a1[i]\n",
    "#         k+=1\n",
    "#         i+=1\n",
    "#     while j<len(a2):\n",
    "#         a[k] = a2[j]\n",
    "#         k+=1\n",
    "#         j+=1\n",
    "\n",
    "\n",
    "\n",
    "\n",
    "\n",
    "\n",
    "\n",
    "# def mergeSort(arr):\n",
    "#     # Please add your code here\n",
    "#     if len(arr)==0 or len(arr)==1:\n",
    "#         return \n",
    "#     mid = (len(arr))//2\n",
    "#     smallarray1 = arr[0:mid]\n",
    "#     smallarray2 = arr[mid:]\n",
    "#     mergeSort(smallarray1)\n",
    "#     mergeSort(smallarray2)\n",
    "#     merge(smallarray1,smallarray2,arr)\n",
    "\n",
    "# def intersection(arr1, arr2, n, m) :\n",
    "# \t#Your code goes here\n",
    "#     mergeSort(arr1)\n",
    "#     mergeSort(arr2)\n",
    "#     i,j=0,0\n",
    "#     while i<len(arr1) and j<len(arr2):\n",
    "#         if arr1[i]== arr2[j]:\n",
    "#             print(arr1[i],end=' ')\n",
    "#             i+=1\n",
    "#             j+=1\n",
    "#         elif arr2[j]<arr1[i]:\n",
    "#             j+=1\n",
    "#         else:\n",
    "#             i+=1\n",
    "#     while i<len(arr1):\n",
    "#         i+=1\n",
    "#     while j<len(arr2):\n",
    "#         j+=1\n",
    "#     return \n",
    "    \n",
    "            \n",
    "\n",
    "\n",
    "\n",
    "# # Taking input using fast I/O method\n",
    "# def takeInput() :\n",
    "#     n = int(stdin.readline().strip())\n",
    "    \n",
    "#     if n == 0 :\n",
    "#     \treturn list(), 0\n",
    "\n",
    "#     arr = list(map(int, stdin.readline().strip().split(\" \")))\n",
    "#     return arr, n\n",
    "\n",
    "\n",
    "# #main\n",
    "# t = int(stdin.readline().strip())\n",
    "\n",
    "# while t > 0 :\n",
    "\n",
    "#     arr1, n = takeInput()\n",
    "#     arr2, m = takeInput()\n",
    "#     intersection(arr1, arr2, n, m)\n",
    "#     print()\n",
    "\n",
    "#     t -= 1"
   ]
  },
  {
   "cell_type": "code",
   "execution_count": 10,
   "metadata": {},
   "outputs": [],
   "source": [
    "def arrayEquilibriumIndex(arr, n) :\n",
    "    total_Sum = sum(arr)\n",
    "    index = 0\n",
    "    left_sum = 0\n",
    "    while index<len(arr):\n",
    "        right_sum = total_Sum-left_sum-arr[index]\n",
    "        if left_sum == right_sum:\n",
    "            return index\n",
    "        left_sum+=arr[index]\n",
    "        index = index+1\n",
    "    return -1\n",
    "\n",
    "    "
   ]
  },
  {
   "cell_type": "code",
   "execution_count": 11,
   "metadata": {},
   "outputs": [
    {
     "data": {
      "text/plain": [
       "10"
      ]
     },
     "execution_count": 11,
     "metadata": {},
     "output_type": "execute_result"
    }
   ],
   "source": [
    "sum([1,2,7]) "
   ]
  },
  {
   "cell_type": "code",
   "execution_count": 12,
   "metadata": {},
   "outputs": [
    {
     "data": {
      "text/plain": [
       "4"
      ]
     },
     "execution_count": 12,
     "metadata": {},
     "output_type": "execute_result"
    }
   ],
   "source": [
    "arrayEquilibriumIndex([6,1,6,5,3,2,5,0,5,6,0],11)"
   ]
  },
  {
   "cell_type": "code",
   "execution_count": 153,
   "metadata": {},
   "outputs": [
    {
     "data": {
      "text/plain": [
       "39"
      ]
     },
     "execution_count": 153,
     "metadata": {},
     "output_type": "execute_result"
    }
   ],
   "source": [
    "sum([6,1,6,5,3,2,5,0,5,6,0])"
   ]
  },
  {
   "cell_type": "code",
   "execution_count": null,
   "metadata": {},
   "outputs": [],
   "source": [
    "## left = 0 , right = 33\n",
    "# left = 6, right = 32\n",
    "# left = 7, right = 26\n",
    "## left = 13 , right = 21\n"
   ]
  },
  {
   "cell_type": "markdown",
   "metadata": {},
   "source": [
    "------------------"
   ]
  },
  {
   "cell_type": "code",
   "execution_count": 10,
   "metadata": {},
   "outputs": [],
   "source": [
    "def findUnique(arr, n) :\n",
    "    #Your code goes here\n",
    "    arr.sort()\n",
    "    i = 0\n",
    "    \n",
    "    while i<n-1:\n",
    "        if len(arr)==1:\n",
    "            return arr\n",
    "        if arr[i]!=arr[i+1]:\n",
    "            \n",
    "            return arr[i]\n",
    "        \n",
    "        i+=2\n",
    "    return arr[i]\n",
    "            \n"
   ]
  },
  {
   "cell_type": "code",
   "execution_count": 13,
   "metadata": {},
   "outputs": [
    {
     "name": "stdout",
     "output_type": "stream",
     "text": [
      "[1, 1, 3, 7, 7]\n",
      "3\n"
     ]
    }
   ],
   "source": [
    "print(findUnique([1,7,1,3,7],5))"
   ]
  },
  {
   "cell_type": "markdown",
   "metadata": {},
   "source": [
    "------------"
   ]
  },
  {
   "cell_type": "code",
   "execution_count": 17,
   "metadata": {},
   "outputs": [],
   "source": [
    "def findDuplicate(arr, n) :\n",
    "    #Your code goes here\n",
    "    arr.sort()\n",
    "    \n",
    "    i = 0\n",
    "    while i<n:\n",
    "        if arr[i]==arr[i+1]:\n",
    "            return arr[i]\n",
    "        i+=1\n",
    "    return -1"
   ]
  },
  {
   "cell_type": "code",
   "execution_count": 18,
   "metadata": {},
   "outputs": [
    {
     "name": "stdout",
     "output_type": "stream",
     "text": [
      "[0, 1, 2, 3, 4, 5, 6, 7, 7]\n",
      "7\n"
     ]
    }
   ],
   "source": [
    "print(findDuplicate([0,7,2,5,4,7,1,3,6],9))"
   ]
  },
  {
   "cell_type": "markdown",
   "metadata": {},
   "source": [
    "-------------"
   ]
  },
  {
   "cell_type": "code",
   "execution_count": 39,
   "metadata": {},
   "outputs": [],
   "source": [
    "def merge(a1,a2,a):\n",
    "    i=j=k=0\n",
    "    while i<len(a1) and j<len(a2):\n",
    "        if a1[i]<a2[j]:\n",
    "            a[k] = a1[i]\n",
    "            k=k+1\n",
    "            i+=1\n",
    "        else:\n",
    "            a[k]=a2[j]\n",
    "            k+=1\n",
    "            j+=1\n",
    "    while i<len(a1):\n",
    "        a[k] = a1[i]\n",
    "        k+=1\n",
    "        i+=1\n",
    "    while j<len(a2):\n",
    "        a[k] = a2[j]\n",
    "        k+=1\n",
    "        j+=1\n",
    "\n",
    "\n",
    "\n",
    "\n",
    "\n",
    "\n",
    "\n",
    "def mergeSort(arr):\n",
    "    # Please add your code here\n",
    "    if len(arr)==0 or len(arr)==1:\n",
    "        return \n",
    "    mid = (len(arr))//2\n",
    "    smallarray1 = arr[0:mid]\n",
    "    smallarray2 = arr[mid:]\n",
    "    mergeSort(smallarray1)\n",
    "    mergeSort(smallarray2)\n",
    "    merge(smallarray1,smallarray2,arr)\n",
    "\n",
    "\n",
    "def pairSum(arr, n, num) :\n",
    "    \n",
    "\t#Your code goes here\n",
    "\n",
    "    sum_pair_cnt = 0\n",
    "    i = 0\n",
    "    j = len(arr)-1\n",
    "    \n",
    "    mergeSort(arr)\n",
    "\n",
    "    while i<j:\n",
    "        if arr[i]+arr[j]> num:\n",
    "            j-=1\n",
    "        elif arr[i]+arr[j]<num:\n",
    "            i+=1\n",
    "        else:\n",
    "            # need to work on this block only \n",
    "            if arr[i]==arr[i+1] or arr[j]==arr[j-1]:\n",
    "                \n",
    "                for k in range(j,i,-1):\n",
    "                    \n",
    "                    if arr[i]+arr[k]==num:\n",
    "                        sum_pair_cnt+=1\n",
    "                i+=1\n",
    "               \n",
    "            else:\n",
    "                sum_pair_cnt+=1\n",
    "                i+=1\n",
    "                j-=1\n",
    "                \n",
    "    \n",
    "    return sum_pair_cnt\n",
    "\n"
   ]
  },
  {
   "cell_type": "code",
   "execution_count": 42,
   "metadata": {},
   "outputs": [
    {
     "name": "stdout",
     "output_type": "stream",
     "text": [
      "15\n"
     ]
    }
   ],
   "source": [
    "print(pairSum([2,2,2,2,2,2],6,4))"
   ]
  },
  {
   "cell_type": "code",
   "execution_count": null,
   "metadata": {},
   "outputs": [],
   "source": [
    "## case 1 Normal \n",
    "## [1,2,3,4,,5]  i=0 and j= len(a)-1  if arr[i] and arr[j] is greater than num so we will move j \n",
    "## if it is small move i\n",
    "## if both equal move both\n",
    "\n",
    "##  case 2 duplicate value \n",
    "## [1,2,2,3,4,4,6],num = 6\n",
    "## start i=0 and j=len(a)-1 if arr[i] and arr[j] == num and arr[i]==arr[i+1] only move i"
   ]
  },
  {
   "cell_type": "markdown",
   "metadata": {},
   "source": [
    "-------------"
   ]
  },
  {
   "cell_type": "code",
   "execution_count": 51,
   "metadata": {},
   "outputs": [],
   "source": [
    "def rotate(arr, n, d):\n",
    "    #Your code goes here\n",
    "    # if len(arr)==0 or len(arr)==1:\n",
    "    #     return arr\n",
    "    new_arr = [0]*n\n",
    "    for i in range(n):\n",
    "        new_arr[i] = arr[d-i]\n",
    "    for j in new_arr:\n",
    "        print(j,end=' ')\n",
    "    return -1\n",
    "    \n",
    "    "
   ]
  },
  {
   "cell_type": "code",
   "execution_count": 52,
   "metadata": {},
   "outputs": [
    {
     "name": "stdout",
     "output_type": "stream",
     "text": [
      "2 1 4 3 "
     ]
    },
    {
     "data": {
      "text/plain": [
       "-1"
      ]
     },
     "execution_count": 52,
     "metadata": {},
     "output_type": "execute_result"
    }
   ],
   "source": [
    "rotate([1,2,3,4],4,1)"
   ]
  },
  {
   "cell_type": "code",
   "execution_count": 16,
   "metadata": {},
   "outputs": [],
   "source": [
    "def rotate(arr, n, d):\n",
    "    #Your code goes here\n",
    "    # if len(arr)==0 or len(arr)==1:\n",
    "    #     return arr\n",
    "    new_arr = [0]*n\n",
    "    for i in range(d,n):\n",
    "        new_arr[] = arr[i+d]\n",
    "    for j in new_arr:\n",
    "        print(j,end=' ')\n",
    "    return\n",
    "    "
   ]
  },
  {
   "cell_type": "code",
   "execution_count": 17,
   "metadata": {},
   "outputs": [
    {
     "name": "stdout",
     "output_type": "stream",
     "text": [
      "0 0 0 0 0 "
     ]
    }
   ],
   "source": [
    "rotate([1,2,3,4,5],5,9)"
   ]
  },
  {
   "cell_type": "code",
   "execution_count": 2,
   "metadata": {},
   "outputs": [],
   "source": [
    "def rotate(arr, n, d):\n",
    "    #Your code goes here\n",
    "    # if len(arr)==0 or len(arr)==1:\n",
    "    #     return arr\n",
    "    # new_arr = [0]*n\n",
    "    # for i in range(n):\n",
    "    #     new_arr[i-d] = arr[i]\n",
    "    if len(arr)==0 or len(arr)==1:\n",
    "        return arr\n",
    "    new_arr = arr[d:]+arr[0:d] \n",
    "    for j in new_arr:\n",
    "        print(j,end=' ')\n",
    "    return"
   ]
  },
  {
   "cell_type": "code",
   "execution_count": 10,
   "metadata": {},
   "outputs": [
    {
     "name": "stdout",
     "output_type": "stream",
     "text": [
      "1 2 3 4 5 6 7 7 8 "
     ]
    }
   ],
   "source": [
    "rotate([1,2,3,4,5,6,7,7,8],9,0)"
   ]
  },
  {
   "cell_type": "code",
   "execution_count": 9,
   "metadata": {},
   "outputs": [
    {
     "name": "stdout",
     "output_type": "stream",
     "text": [
      "[1]\n",
      "2 3 4 1 "
     ]
    }
   ],
   "source": [
    "arr = [1,2,3,4] ##[2,3,4,1]\n",
    "n = 4\n",
    "d = 1\n",
    "arr1 = arr[::-1]\n",
    "part = arr1[:n-d]\n",
    "part2 = arr1[n-d:]\n",
    "\n",
    "arr_new = part[::-1] + part2[::-1]\n",
    "\n",
    "for val in arr_new:\n",
    "    print(val,end=' ')"
   ]
  },
  {
   "cell_type": "code",
   "execution_count": 5,
   "metadata": {},
   "outputs": [
    {
     "data": {
      "text/plain": [
       "[1]"
      ]
     },
     "execution_count": 5,
     "metadata": {},
     "output_type": "execute_result"
    }
   ],
   "source": [
    "a =[1,2,3]\n",
    "a[:1]"
   ]
  },
  {
   "cell_type": "code",
   "execution_count": 13,
   "metadata": {},
   "outputs": [],
   "source": [
    "# from sys import stdin\n",
    "\n",
    "\n",
    "# def rotate(arr, n, d):\n",
    "#      if len(arr)==0 or len(arr)==1:\n",
    "#         return arr\n",
    "#      new_arr = arr[d:]+arr[0:d] \n",
    "#     for j in new_arr:\n",
    "#          print(j,end=' ')\n",
    "#     print()\n",
    "    \n",
    "   \n",
    "\n",
    "\n",
    "\n",
    "\n",
    "# # Taking Input Using Fats I/O\n",
    "# def takeInput() :\n",
    "#     n = int(stdin.readline().rstrip())\n",
    "#     if n == 0:\n",
    "#         return list(), 0\n",
    "\n",
    "#     arr = list(map(int, stdin.readline().rstrip().split(\" \")))\n",
    "#     return arr, n\n",
    "\n",
    "\n",
    "# #to print the array/list \n",
    "# def printList(arr, n) : \n",
    "#     for i in range(n) :\n",
    "#         print(arr[i], end = \" \")\n",
    "#     print()\n",
    "\n",
    "\n",
    "# #main\n",
    "# t = int(stdin.readline().rstrip())\n",
    "\n",
    "# while t > 0 :\n",
    "    \n",
    "#     arr, n = takeInput()\n",
    "#     d = int(stdin.readline().rstrip())\n",
    "#     rotate(arr, n, d)\n",
    "#     # printList(arr, n)\n",
    "    \n",
    "#     t -= 1"
   ]
  },
  {
   "cell_type": "code",
   "execution_count": 3,
   "metadata": {},
   "outputs": [],
   "source": [
    "def tripletSum(arr, n, num) :\n",
    "    arr.sort()\n",
    "    sum_cnt = 0\n",
    "    arr_first = arr[0]\n",
    "    \n",
    "    i = 0\n",
    "    while i<len(arr)-2:\n",
    "        j = len(arr)-1\n",
    "        k = i+1\n",
    "        \n",
    "        while k<j:\n",
    "            \n",
    "            if arr[i] + arr[k] + arr[j] == num:\n",
    "                sum_cnt+=1\n",
    "                j-=1\n",
    "#                 k+=1\n",
    "            elif arr[i] + arr[k] + arr[j] > num:\n",
    "                j-=1\n",
    "            elif arr[i] + arr[k] + arr[j]< num:\n",
    "                k+=1\n",
    "        i+=1\n",
    "    return sum_cnt"
   ]
  },
  {
   "cell_type": "code",
   "execution_count": 4,
   "metadata": {},
   "outputs": [
    {
     "data": {
      "text/plain": [
       "5"
      ]
     },
     "execution_count": 4,
     "metadata": {},
     "output_type": "execute_result"
    }
   ],
   "source": [
    "tripletSum([2,-5,8,-6,0,5,10,11,-3],9,10)"
   ]
  },
  {
   "cell_type": "code",
   "execution_count": null,
   "metadata": {},
   "outputs": [],
   "source": [
    "2 -5 8 -6 0 5 10 11 -3"
   ]
  },
  {
   "cell_type": "code",
   "execution_count": 5,
   "metadata": {},
   "outputs": [
    {
     "name": "stdout",
     "output_type": "stream",
     "text": [
      "-61\n"
     ]
    }
   ],
   "source": [
    "\n",
    "def tripletSum(arr,n,sum):\n",
    "    arr.sort()\n",
    "    trip_count=0\n",
    "    for i in range(n):\n",
    "        pair_sum=sum-arr[i]\n",
    "        pair_count=pairSum(arr,i+1,n-1,pair_sum)\n",
    "        trip_count+=pair_count\n",
    "        \n",
    "    return trip_count\n",
    "\n",
    "def pairSum(arr,s,e,pair_sum):\n",
    "    pair_count=0\n",
    "    while s<e:\n",
    "        if(arr[s]+arr[e]<pair_sum):\n",
    "            s=s+1\n",
    "        elif(arr[s]+arr[e]>pair_sum):\n",
    "            e=e-1\n",
    "        else:\n",
    "            if(arr[s]==arr[e]):\n",
    "                total_ele=(e-s)+1\n",
    "                pair_count=pair_count+(total_ele*(total_ele-1)//2)\n",
    "                \n",
    "                return pair_count\n",
    "            \n",
    "            temp_s=s+1\n",
    "            temp_e=e-1\n",
    "            while((temp_s<=temp_e) and (arr[temp_s] == arr[s])):\n",
    "                temp_s+=1\n",
    "                \n",
    "            while((temp_e>=temp_s) and (arr[temp_e] == arr[e])):\n",
    "                temp_e-=1\n",
    "                \n",
    "            total_start=temp_s-s\n",
    "            total_end=e-temp_e\n",
    "            pair_count=pair_count+(total_start*total_end)\n",
    "            s=temp_s\n",
    "            e=temp_e\n",
    "            \n",
    "    return pair_count\n",
    "\n",
    "n = int(input())\n",
    "for i in range(n):\n",
    "    m = int(input())\n",
    "    arr = [int(c) for c in input().split()]\n",
    "    n = len(arr)\n",
    "    sum = int(input())\n",
    "    print(tripletSum(arr,n,sum))\n"
   ]
  },
  {
   "cell_type": "markdown",
   "metadata": {},
   "source": [
    "-----------------------------"
   ]
  },
  {
   "cell_type": "markdown",
   "metadata": {},
   "source": [
    "##  Linklist 2"
   ]
  },
  {
   "cell_type": "markdown",
   "metadata": {},
   "source": [
    "<ol>\n",
    "    <li> singly linklist: 2 things -1.data 2.reference of next node <\\li>\n",
    "     <li>double linklist :3 Things - 1.data 2.reference of next node 3.reference of previous node<\\li> \n",
    "    <\\ol>"
   ]
  },
  {
   "cell_type": "code",
   "execution_count": null,
   "metadata": {},
   "outputs": [],
   "source": [
    "class node:\n",
    "    def __init__(self,data):\n",
    "        self.data = data \n",
    "        self.next = None\n",
    "\n",
    "\n",
    "        \n",
    "def length(head):\n",
    "    cnt = 0\n",
    "    while head is not None:\n",
    "        cnt+=1\n",
    "        head = head.next\n",
    "    return cnt \n",
    "\n",
    "\n",
    "\n",
    "def deleteNodeRec(head, pos) :\n",
    "\n",
    "    if pos<0:\n",
    "        return head\n",
    "    if pos == 0:\n",
    "        head=head.next \n",
    "        return head\n",
    "    if head.next is None:\n",
    "        return head\n",
    "    smallhead = deleteNodeRec(head.next,pos-1)\n",
    "    head.next = smallhead\n",
    "    return head\n",
    "\n",
    "\n",
    "\n",
    "\n",
    "def removeduplicates(head):\n",
    "    previous = None\n",
    "    current = head\n",
    "    cnt = 0\n",
    "    \n",
    "    while current is not None and current.next is not None :\n",
    "        if head == -1:\n",
    "            break\n",
    "        else:\n",
    "            previous = current\n",
    "            current = current.next\n",
    "            cnt+=1\n",
    "            while current is not None:\n",
    "                if previous.data == current.data:\n",
    "                    previous.next = current.next\n",
    "                    current = current.next\n",
    "                else:\n",
    "                    previous = current\n",
    "                    current = current.next\n",
    "    return head\n",
    "\n",
    "\n",
    "\n",
    "def reverselinklistRecr(head):\n",
    "    \"\"\"Reverse the linklist by using recursive method\"\"\"\n",
    "    if head is None:\n",
    "        return None\n",
    "    if head.next is None:\n",
    "        return head\n",
    "    tail = head.next\n",
    "    localhead = reverselinklistRecr(head.next)\n",
    "#     tail = localhead\n",
    "    tail.next = head\n",
    "    head.next = None\n",
    "#     localhead.next = tail\n",
    "    return localhead\n",
    "\n",
    "\n",
    "\n",
    "\n",
    "\n",
    "def reverselinklist(head):\n",
    "    previous = None\n",
    "    nxt = None\n",
    "    current = head\n",
    "    while current is not None:\n",
    "        nxt = current.next\n",
    "        current.next = previous\n",
    "        previous = current\n",
    "        current = nxt \n",
    "        \n",
    "    head = previous\n",
    "    while head is not None:\n",
    "        print(head.data,end=' ')\n",
    "        head = head.next\n",
    "    print()\n",
    "#     return \n",
    "\n",
    "\n",
    "\n",
    "def midpoint(head):\n",
    "    slow = head\n",
    "    fast = head\n",
    "    \n",
    "    if head is None:\n",
    "        return \n",
    "    \n",
    "    while fast.next is not None and fast.next.next is not None:\n",
    "        slow = slow.next\n",
    "        fast = fast.next.next\n",
    "    return slow\n",
    "\n",
    "\n",
    "\n",
    "\n",
    "def midpoint_linklist(head):\n",
    "    \"\"\"Finding the midpoint of the linklist\"\"\"\n",
    "    import math\n",
    "    complete_length = length(head)\n",
    "    mid = math.ceil(complete_length/2)\n",
    "    \n",
    "    if mid%2==0:\n",
    "        i = 1\n",
    "        while i<mid:\n",
    "            head = head.next\n",
    "            i+=1\n",
    "    else:\n",
    "        j=1\n",
    "        while j <mid:\n",
    "            head = head.next\n",
    "            j+=1\n",
    "    return head.data\n",
    "    \n",
    "    \n",
    "def merge(head1,head2):\n",
    "    if head1 is None or head2 is None:\n",
    "        if head1 is None:\n",
    "            return head2\n",
    "        else:\n",
    "            return head1\n",
    "        \n",
    "    if head1 is not None and head2 is not None:\n",
    "        if head1.data < head2.data:\n",
    "            fh = head1\n",
    "            ft = head1\n",
    "            head1 = head1.next\n",
    "        else:\n",
    "            fh = head2\n",
    "            ft = head2\n",
    "            head2 = head2.next\n",
    "    while head1 is not None and head2 is not None:\n",
    "        if head1.data < head2.data:\n",
    "            ft.next = head1\n",
    "            ft = ft.next\n",
    "            head1 = head1.next\n",
    "        else:\n",
    "            ft.next = head2\n",
    "            ft = ft.next\n",
    "            head2 = head2.next\n",
    "            \n",
    "    if head1 is not None and head2 is None:\n",
    "        ft.next = head1\n",
    "        \n",
    "    if head2 is not None and head1 is None:\n",
    "        ft.next = head2\n",
    "    \n",
    "    return fh\n",
    "\n",
    "\n",
    "def mergesort(head):\n",
    "    \"\"\"merge sort\"\"\"\n",
    "    if head is None:\n",
    "        return \n",
    "    \n",
    "    if head.next is None:\n",
    "        return head\n",
    "    \n",
    "    mid_point = midpoint(head)\n",
    "    head1 = head\n",
    "    head2 = mid_point.next\n",
    "    mid_point.next = None\n",
    "    new_head1 = mergesort(head1)\n",
    "    new_head2 = mergesort(head2)\n",
    "    fh = merge(new_head1,new_head2)\n",
    "    \n",
    "    return fh\n",
    "\n",
    "    \n",
    "    \n",
    "    \n",
    "    \n",
    "def isPalindrome(head) :\n",
    "    #Your code goes here\n",
    "    temp_head = head\n",
    "    ispalin = True\n",
    "    lst = []\n",
    "    \n",
    "    # rev_head = reverselinklist(head)\n",
    "    while temp_head is not None:\n",
    "        lst.append(temp_head.data)\n",
    "        temp_head = temp_head.next\n",
    "        \n",
    "    while head is not None:\n",
    "        val = lst.pop()\n",
    "        if head.data == val:\n",
    "            ispalin = True\n",
    "        else:\n",
    "            ispalin = False\n",
    "            break\n",
    "        head = head.next\n",
    "        \n",
    "    return ispalin        \n",
    "    \n",
    "def findNodeRec(head, n) :\n",
    "    index = 0\n",
    "    while head is not None:\n",
    "        if head.data == n:\n",
    "            return index\n",
    "        else:\n",
    "            return -1\n",
    "        head = head.next\n",
    "        index+=1\n",
    "    return \n",
    "        \n",
    "    \n",
    "   \n",
    "    \n",
    "    \n",
    "        \n",
    "def LastNfirst(head,n):\n",
    "    prev = None\n",
    "    curr = head\n",
    "    skip = length(head)-n\n",
    "    while skip>0:\n",
    "        prev = curr\n",
    "        curr = curr.next\n",
    "        skip-=1\n",
    "    prev.next = None\n",
    "    temphead = head\n",
    "    \n",
    "    head = curr \n",
    "    \n",
    "    while curr.next is not None:\n",
    "        curr= curr.next\n",
    "    curr.next = temphead\n",
    "   \n",
    "    \n",
    "    return head\n",
    "        \n",
    "        \n",
    "\n",
    "def findnoderec(head,n):\n",
    "    if head is None:\n",
    "        return -1\n",
    "    if head.data == n:\n",
    "        return 0\n",
    "    if head is not None:\n",
    "        no = findnoderec(head.next,n)\n",
    "        if no==-1:\n",
    "            return -1\n",
    "        else:\n",
    "            return 1+no\n",
    "     \n",
    "\n",
    "\n",
    "# def findnoderechelper(head,val):\n",
    "#     if val<length(head):\n",
    "#         return val\n",
    "#     else:\n",
    "#         return -1\n",
    "    \n",
    "    \n",
    "def oddaftereven(head):\n",
    "    odd_head = None\n",
    "    odd_tail = None\n",
    "    Even_head = None \n",
    "    Even_tail = None \n",
    "\n",
    "    while head is not None:\n",
    "        if head.data%2==0:\n",
    "            if Even_head is None:\n",
    "                Even_head = head\n",
    "                Even_tail = head\n",
    "                head = head.next\n",
    "            else:\n",
    "                Even_tail.next = head\n",
    "                Even_tail = Even_tail.next\n",
    "                head = head.next\n",
    "        else:\n",
    "            if odd_head is None:\n",
    "                odd_head = head\n",
    "                odd_tail = head\n",
    "                head = head.next\n",
    "            else:\n",
    "                odd_tail.next = head\n",
    "                odd_tail = odd_tail.next\n",
    "                head = head.next\n",
    "                \n",
    "                \n",
    "    if odd_head is None and Even_head is None:\n",
    "        return \n",
    "    \n",
    "    if odd_tail is not None and Even_head is not None:\n",
    "        odd_tail.next = Even_head\n",
    "        Even_tail.next = None\n",
    "    \n",
    "    \n",
    "    elif Even_head is None:\n",
    "        odd_tail.next = None\n",
    "        \n",
    "        \n",
    "    else:\n",
    "        odd_head = Even_head\n",
    "        \n",
    "    \n",
    "    return odd_head\n",
    "\n",
    "\n",
    "\n",
    "def skipmdeleten(head,M,N):\n",
    "    temp1= head\n",
    "    temp2 = head \n",
    "    while temp1 is not None and temp2 is not None:\n",
    "        \n",
    "        c1 =1\n",
    "        c2 =1\n",
    "        while c1<M and temp1.next is not None:\n",
    "            temp1 = temp1.next \n",
    "            c1+=1\n",
    "        temp2 = temp1.next\n",
    "        while c2<=N and temp2 is not None:\n",
    "            temp2 = temp2.next\n",
    "            c2+=1\n",
    "        temp1.next = temp2\n",
    "        temp1 = temp1.next\n",
    "    return head\n",
    "\n",
    "\n",
    "def circularlinklist(haed):\n",
    "    temp_head = head\n",
    "    previous = None\n",
    "    while temp_head.next != head:\n",
    "        previous = temp_head\n",
    "        temp_head = temp_head.next\n",
    "    head.next = previous\n",
    "    previous.next = head\n",
    "    return head\n",
    "\n",
    "\n",
    "def swapNodes(head,i,j):\n",
    "    temp_head = head\n",
    "    prev1= None\n",
    "    current1 =temp_head\n",
    "    prev2 = None\n",
    "    current2 = temp_head\n",
    "    k = 0\n",
    "    temp_head = head\n",
    "    \n",
    "    \n",
    "    \n",
    "    if j>i and i!=0 and j!=0 and abs(j-i)!=1:\n",
    "        while k<i:\n",
    "            temp_head = temp_head.next\n",
    "            previous1 = current1\n",
    "            current1 = temp_head\n",
    "            k+=1\n",
    "            \n",
    "        while k<j and temp_head.next is not None:\n",
    "            temp_head = temp_head.next\n",
    "            previous2 = current2\n",
    "            current2 = temp_head\n",
    "            k+=1\n",
    "        previous1.next = current2\n",
    "        previous2.next = current1\n",
    "        current1.next = current2.next\n",
    "        current2.next = previous2\n",
    "    \n",
    "            \n",
    "            \n",
    "    elif i>j and i!=0 and j!=0 and abs(j-i)!=1:\n",
    "        while k<j:\n",
    "            temp_head = temp_head.next\n",
    "            previous1 = current1\n",
    "            current1 = temp_head\n",
    "            k+=1\n",
    "        while k<i and temp_head.next is not None:\n",
    "            temp_head = temp_head.next\n",
    "            previous2 = current2\n",
    "            current2 = temp_head\n",
    "            k+=1\n",
    "        previous1.next = current2\n",
    "        previous2.next = current1\n",
    "        current1.next = current2.next\n",
    "        current2.next = previous2\n",
    "        \n",
    "        \n",
    "    elif i==0 and j!=0 and abs(j-i)!=1: \n",
    "        while k<j and temp_head.next is not None:\n",
    "            temp_head = temp_head.next\n",
    "            previous2 = current2\n",
    "            current2 = temp_head\n",
    "            k+=1\n",
    "        temp_current1 = current1\n",
    "        temp_current2 = current2\n",
    "        val = current1.next\n",
    "        previous2.next = temp_current1\n",
    "        temp_current1.next =current2.next\n",
    "        temp_current2.next = val\n",
    "        \n",
    "#         temp_current1 = temp_current2\n",
    "        head = temp_current2\n",
    "        val.next = temp_current1\n",
    "\n",
    "        \n",
    "    elif abs(j-i==1) and i!=0 and j!=0:\n",
    "        while k<i:\n",
    "            temp_head = temp_head.next\n",
    "            previous1 = current1\n",
    "            current1 = temp_head\n",
    "            k+=1\n",
    "        while k<j and temp_head.next is not None:\n",
    "            temp_head = temp_head.next\n",
    "            current2 = temp_head\n",
    "            previous2 = current2\n",
    "            k+=1\n",
    "        current1.next = current2.next\n",
    "        previous1.next = previous2\n",
    "        previous2.next = current1\n",
    "    \n",
    "    elif abs(j-i)==1and i==0:\n",
    "        while k<j and temp_head.next is not None:\n",
    "            temp_head = temp_head.next\n",
    "            current2 = temp_head\n",
    "            previous2 = current2\n",
    "            k+=1\n",
    "        temp_current2 = current2\n",
    "        current1.next = current2.next\n",
    "        head = current2\n",
    "        head.next = current1\n",
    "    \n",
    "    \n",
    "    \n",
    "    \n",
    "    return head\n",
    "            \n",
    "        \n",
    "\n",
    "        \n",
    "def reverselinklist(head):\n",
    "    \n",
    "        \n",
    "def kreverse(head,k):\n",
    "#     if head.next is  None:\n",
    "#         return head.data \n",
    "    local_head = head\n",
    "    local_tail = head\n",
    "    pos = 0\n",
    "    while pos < k-1 and  permanent_head is not None and permanent_head.next is not None:\n",
    "        permanent_tail = permanent_tail.next\n",
    "        pos+=1\n",
    "        \n",
    "    \n",
    "    print(permanent_head.data)\n",
    "    new_head = permanent_head.next\n",
    "#     permanent_head.next = None\n",
    "    print(new_head.data)\n",
    "    \n",
    "#     print(kreverse(new_head,k))\n",
    "        \n",
    "    return \n",
    "        \n",
    "\n",
    "        \n",
    "def linklist(lst):\n",
    "    head = None\n",
    "    tail = None \n",
    "    for val in lst:\n",
    "        if val == -1:\n",
    "            break\n",
    "        nextnode = node(val)\n",
    "        if head is None:\n",
    "            head = nextnode \n",
    "            tail = nextnode\n",
    "        else:\n",
    "            tail.next = nextnode\n",
    "            tail = nextnode\n",
    "    return head\n",
    "\n",
    "\n",
    "def printL(head):\n",
    "    while head is not None:\n",
    "        print(str(head.data)+\"->\",end='')\n",
    "        \n",
    "        head = head.next\n",
    "    print(\"None\")\n",
    "    return \n",
    "            "
   ]
  },
  {
   "cell_type": "code",
   "execution_count": null,
   "metadata": {},
   "outputs": [],
   "source": [
    "lst = input()\n",
    "lst_main = [int(ele) for ele in lst.split()]\n",
    "head = linklist(lst_main)\n",
    "\n",
    "\n",
    "# lst2 = input()\n",
    "# lst2_main = [int(ele) for ele in lst2.split()]\n",
    "\n",
    "\n",
    "# head2 = linklist(lst2_main)\n",
    "# insert(head,2,9)\n",
    "# print(printL(head))\n",
    "\n",
    "# print(printL(head))\n",
    "\n",
    "# deleteNodeRec(head,0)\n",
    "# headnew = LastNfirst(head,2)\n",
    "# headnew = removeduplicates(head)\n",
    "# head_new = reverselinklist(head)\n",
    "# print(reverselinklist(head))\n",
    "# head_new = reverselinklistRecr(head)\n",
    "# print(midpoint_linklist(head))\n",
    "# print(isPalindrome(head))\n",
    "\n",
    "# head_new = merge(head,head2)\n",
    "# print(printL(head_new))\n",
    "\n",
    "\n",
    "# print(midpoint(head))\n",
    "# head_new = mergesort(head)\n",
    "# print(printL(head_new))\n",
    "# print(findnoderec(head,4))\n",
    "# head_new = oddaftereven(head)\n",
    "# head_new = skipmdeleten(head,2,2)\n",
    "# head_new = circularlinklist(head)\n",
    "\n",
    "# print(printL(head_new))\n",
    "\n",
    "\n",
    "# head_new = swapNodes(head,2,5)\n",
    "# print(swapNodes(head,0,2))\n",
    "# print(printL(head_new))\n",
    "\n",
    "# print(swapNodes(head,1,2))\n",
    "\n",
    "\n",
    "# print(kreverse(head,2))"
   ]
  },
  {
   "cell_type": "markdown",
   "metadata": {},
   "source": [
    "# "
   ]
  },
  {
   "cell_type": "code",
   "execution_count": 10,
   "metadata": {},
   "outputs": [
    {
     "data": {
      "text/plain": [
       "0"
      ]
     },
     "execution_count": 10,
     "metadata": {},
     "output_type": "execute_result"
    }
   ],
   "source": [
    "2%2"
   ]
  },
  {
   "cell_type": "code",
   "execution_count": 23,
   "metadata": {},
   "outputs": [
    {
     "data": {
      "text/plain": [
       "3"
      ]
     },
     "execution_count": 23,
     "metadata": {},
     "output_type": "execute_result"
    }
   ],
   "source": [
    "import math\n",
    "math.ceil(5/2)"
   ]
  },
  {
   "cell_type": "code",
   "execution_count": 14,
   "metadata": {},
   "outputs": [
    {
     "data": {
      "text/plain": [
       "2"
      ]
     },
     "execution_count": 14,
     "metadata": {},
     "output_type": "execute_result"
    }
   ],
   "source": [
    "5//2"
   ]
  },
  {
   "cell_type": "code",
   "execution_count": 25,
   "metadata": {},
   "outputs": [],
   "source": [
    "# def merge(head1,head2):\n",
    "#     if head1.data < head2.data:\n",
    "#         fh = head1\n",
    "#         ft = head1\n",
    "#     else:\n",
    "#         fh = head2\n",
    "#         ft = head2\n",
    "#     while head1 is not None and head2 is not None:\n",
    "#         if head1.data < head2.data:\n",
    "#             ft.next = head2\n",
    "#             ft = ft.next\n",
    "#             head1 = head1.next\n",
    "#         else:\n",
    "#             ft.next = head1\n",
    "#             ft = ft.next\n",
    "#             head2 = head2.next\n",
    "            \n",
    "#     if head1.next is not None and head2.next is None:\n",
    "#         ft.next = head1\n",
    "        \n",
    "#     if head2.next is not None and head1.next is None:\n",
    "#         ft.next = head2\n",
    "    \n",
    "#     return fh\n"
   ]
  },
  {
   "cell_type": "code",
   "execution_count": null,
   "metadata": {},
   "outputs": [],
   "source": [
    "def swapNodes(head, i, j) :\n",
    "    if i == j :\n",
    "        return head\n",
    "        \n",
    "    currentNode = head\n",
    "    prev = None\n",
    "    \n",
    "    firstNode = None \n",
    "    secondNode = None\n",
    "    firstNodePrev = None\n",
    "    secondNodePrev = None\n",
    "\n",
    "    pos = 0\n",
    "\n",
    "    while currentNode is not None :\n",
    "        if pos == i :\n",
    "            firstNodePrev = prev\n",
    "            firstNode = currentNode\n",
    "        elif pos == j:\n",
    "            secondNodePrev = prev\n",
    "            secondNode = currentNode\n",
    "\n",
    "        prev = currentNode\n",
    "        currentNode = currentNode.next\n",
    "        pos += 1\n",
    "\n",
    "\n",
    "    if firstNodePrev is not None :\n",
    "        firstNodePrev.next = secondNode\n",
    "    else :\n",
    "        head = secondNode\n",
    "\n",
    "    if secondNodePrev is not None :\n",
    "        secondNodePrev.next = firstNode\n",
    "    else :\n",
    "        head = firstNode\n",
    "\n",
    "    currentfirstNode = secondNode.next\n",
    "    secondNode.next = firstNode.next\n",
    "    firstNode.next = currentfirstNode\n",
    "\n",
    "    return head\n"
   ]
  },
  {
   "cell_type": "markdown",
   "metadata": {},
   "source": [
    "---------------"
   ]
  },
  {
   "cell_type": "markdown",
   "metadata": {},
   "source": [
    "#### Stack"
   ]
  },
  {
   "cell_type": "code",
   "execution_count": 17,
   "metadata": {},
   "outputs": [],
   "source": [
    "### Class Stack using Array\n",
    "class stack:\n",
    "    def __init__(self):\n",
    "        self.__data = []\n",
    "    \n",
    "    def push(self,item):\n",
    "        self.__data.append(item)\n",
    "        return self.__data   \n",
    "        \n",
    "    def pop(self):\n",
    "        if self.isempty() is None:\n",
    "            print('Stack is Empty')\n",
    "            return\n",
    "        \n",
    "        self.__data.pop(-1)\n",
    "        return self.__data\n",
    " \n",
    "    def top(self):\n",
    "        if self.isempty() is None:\n",
    "            print('Stack is Empty')\n",
    "            return \n",
    "        return self.__data[-1]\n",
    "    \n",
    "    def isempty(self):\n",
    "        if self.__data[-1] is None:\n",
    "            val = \"Null\"\n",
    "        else:\n",
    "            val = 'Not Null'\n",
    "        return val\n",
    "        "
   ]
  },
  {
   "cell_type": "code",
   "execution_count": 18,
   "metadata": {},
   "outputs": [
    {
     "name": "stdout",
     "output_type": "stream",
     "text": [
      "[10, 20]\n"
     ]
    }
   ],
   "source": [
    "if __name__ == \"__main__\":\n",
    "    Stack = stack()\n",
    "    Stack.push(10)\n",
    "    Stack.push(20)\n",
    "    Stack.push(30)\n",
    "    Stack.push(40)\n",
    "    Stack.pop()\n",
    "    print(Stack.pop())\n",
    "    "
   ]
  },
  {
   "cell_type": "markdown",
   "metadata": {},
   "source": [
    "------------------"
   ]
  },
  {
   "cell_type": "markdown",
   "metadata": {},
   "source": [
    "#### Stack in the linklist "
   ]
  },
  {
   "cell_type": "code",
   "execution_count": 22,
   "metadata": {},
   "outputs": [],
   "source": [
    "class Node :\n",
    "\n",
    "    def __init__(self, data) :\n",
    "        self.data = data\n",
    "        self.next = None\n",
    "\n",
    "\n",
    "class Stack :\n",
    "\n",
    "    #Define data members and __init__()\n",
    "    def __init__(self):\n",
    "        self.__head=None\n",
    "        self.__count= 0\n",
    "\n",
    "\n",
    "\n",
    "\n",
    "    '''----------------- Public Functions of Stack -----------------'''\n",
    "\n",
    "\n",
    "    def getSize(self) :\n",
    "        #Implement the getSize() function\n",
    "        return self.__count \n",
    "\n",
    "\n",
    "\n",
    "    def isEmpty(self) :\n",
    "        #Implement the isEmpty() function\n",
    "        return self.getSize()==0\n",
    "\n",
    "\n",
    "\n",
    "    def push(self, data) :\n",
    "        #Implement the push(element) function\n",
    "        newnode = Node(data)\n",
    "        newnode.next = self.__head\n",
    "        self.__head = newnode\n",
    "        self.__count+=1\n",
    "        \n",
    "        # return \n",
    "\n",
    "\n",
    "\n",
    "    def pop(self) :\n",
    "        #Implement the pop() function\n",
    "        \n",
    "        if self.isEmpty() is True:\n",
    "            return -1\n",
    "        pop_data = self.__head.data\n",
    "        self.__head = self.__head.next\n",
    "        self.__count-= 1\n",
    "        return pop_data\n",
    "\n",
    "    def top(self) :\n",
    "        #Implement the top() function\n",
    "        if self.isEmpty() is True:\n",
    "            return -1\n",
    "        return self.__head.data\n",
    "        \n",
    "\n",
    "\n",
    "\n",
    "\n",
    "#main\n",
    "q = int(stdin.readline().strip())\n",
    "\n",
    "stack = Stack()\n",
    "\n",
    "while q > 0 :\n",
    "\n",
    "    inputs = stdin.readline().strip().split(\" \")\n",
    "    choice = int(inputs[0])\n",
    "\n",
    "    if choice == 1 :\n",
    "        data = int(inputs[1])\n",
    "        stack.push(data)\n",
    "\n",
    "    elif choice == 2 :\n",
    "        print(stack.pop())\n",
    "\n",
    "    elif choice == 3 :\n",
    "        print(stack.top())\n",
    "\n",
    "    elif choice == 4 : \n",
    "        print(stack.getSize())\n",
    "\n",
    "    else :\n",
    "        if stack.isEmpty() :\n",
    "            print(\"true\")\n",
    "        else :\n",
    "            print(\"false\")\n",
    "\n",
    "    q -= 1"
   ]
  },
  {
   "cell_type": "code",
   "execution_count": 23,
   "metadata": {},
   "outputs": [],
   "source": [
    "# if __name__ == \"__main__\":\n",
    "#     Stack = stack()\n",
    "#     Stack.push(10)\n",
    "#     Stack.push(20)\n",
    "#     Stack.push(30)\n",
    "#     Stack.pop()\n",
    "#     Stack.pop()\n",
    "#     Stack.push(50)\n",
    "#     Stack.top()"
   ]
  },
  {
   "cell_type": "code",
   "execution_count": null,
   "metadata": {},
   "outputs": [],
   "source": [
    "### suppose a = \"\""
   ]
  },
  {
   "cell_type": "code",
   "execution_count": 2,
   "metadata": {},
   "outputs": [],
   "source": [
    "class stack:\n",
    "    def __init__(self):\n",
    "        self.__data = []\n",
    "    \n",
    "    def push(self,item):\n",
    "        self.__data.append(item)\n",
    "        return self.__data   \n",
    "        \n",
    "    def pop(self):\n",
    "        if self.isempty() is None:\n",
    "            print('Stack is Empty')\n",
    "            return -1\n",
    "        \n",
    "        self.__data.pop(-1)\n",
    "        return self.__data\n",
    " \n",
    "    def top(self):\n",
    "        if self.isempty() is None:\n",
    "            print('Stack is Empty')\n",
    "            return -1\n",
    "        return self.__data[-1]\n",
    "    \n",
    "    def isempty(self):\n",
    "        if self.__data[-1] is None:\n",
    "            val = \"Null\"\n",
    "        else:\n",
    "            val = 'Not Null'\n",
    "        return val"
   ]
  },
  {
   "cell_type": "code",
   "execution_count": 8,
   "metadata": {},
   "outputs": [],
   "source": [
    "def isBalanced(expression) :\n",
    "\n",
    "    lst = []\n",
    "    lst2 = ['(','{','[']\n",
    "    \n",
    "    for char in expression:\n",
    "        if char in lst2:\n",
    "            lst.append(char)\n",
    "        \n",
    "        elif char==')':\n",
    "            if not lst or lst[-1]!='(':\n",
    "                return False\n",
    "            lst.pop()\n",
    "            \n",
    "        elif char=='}':\n",
    "            if not lst or lst[-1]!='{':\n",
    "                return False\n",
    "            lst.pop()\n",
    "        elif char==']':\n",
    "            if not lst or lst[-1]!='[':\n",
    "                return False\n",
    "            lst.pop()\n",
    "    if (not lst):\n",
    "        return True\n",
    "    return False\n"
   ]
  },
  {
   "cell_type": "code",
   "execution_count": 10,
   "metadata": {},
   "outputs": [
    {
     "name": "stdout",
     "output_type": "stream",
     "text": [
      "False\n"
     ]
    }
   ],
   "source": [
    "if __name__ == '__main__':\n",
    "    a = '[(a+b)(]'\n",
    "    print(isBalanced(a))"
   ]
  },
  {
   "cell_type": "code",
   "execution_count": 11,
   "metadata": {},
   "outputs": [
    {
     "data": {
      "text/plain": [
       "[3, 2, 1]"
      ]
     },
     "execution_count": 11,
     "metadata": {},
     "output_type": "execute_result"
    }
   ],
   "source": [
    "lst = [1,2,3]\n",
    "lst[:-1]"
   ]
  },
  {
   "cell_type": "code",
   "execution_count": 12,
   "metadata": {},
   "outputs": [
    {
     "data": {
      "text/plain": [
       "[1, 2, 3]"
      ]
     },
     "execution_count": 12,
     "metadata": {},
     "output_type": "execute_result"
    }
   ],
   "source": [
    "lst"
   ]
  },
  {
   "cell_type": "code",
   "execution_count": null,
   "metadata": {},
   "outputs": [],
   "source": [
    "from sys import stdin, setrecursionlimit\n",
    "setrecursionlimit(10 ** 6)\n",
    "\n",
    "\n",
    "def reverseStack(inputStack, extraStack) :\n",
    "\t#Your code goes here\n",
    "    if len(inputStack)<=1:\n",
    "        return \n",
    "    while len(inputStack)!=1:\n",
    "        data = inputStack.pop()\n",
    "        extraStack.append(data)\n",
    "    last = inputStack.pop()\n",
    "    \n",
    "    while len(extraStack)!=0:\n",
    "        data = extraStack.pop()\n",
    "        inputStack.append(data)\n",
    "    reverseStack(inputStack,extraStack)\n",
    "    inputStack.append(last)\n",
    "    \n",
    "    \n",
    "\n",
    "\n",
    "\n",
    "'''-------------- Utility Functions --------------'''\n",
    "\n",
    "#Takes a list as a stack and returns whether the stack is empty or not\n",
    "def isEmpty(stack) :\n",
    "    return len(stack) == 0\n",
    "\n",
    "\n",
    "#Taking input using fast I/o method\n",
    "def takeInput() :\n",
    "\tsize = int(stdin.readline().strip())\n",
    "\tinputStack = list()\n",
    "\n",
    "\tif size == 0 :\n",
    "\t\treturn inputStack\n",
    "\n",
    "\n",
    "\tvalues = list(map(int, stdin.readline().strip().split(\" \")))\n",
    "\tinputStack = values\n",
    "\n",
    "\treturn inputStack\n",
    "\n",
    "\n",
    "# Main\n",
    "inputStack = takeInput()\n",
    "emptyStack = list()\n",
    "\n",
    "reverseStack(inputStack, emptyStack)\n",
    "\n",
    "while not isEmpty(inputStack) :\n",
    "\tprint(inputStack.pop(), end = \" \")"
   ]
  },
  {
   "cell_type": "code",
   "execution_count": null,
   "metadata": {},
   "outputs": [],
   "source": [
    "# (x+y*(a-b))"
   ]
  },
  {
   "cell_type": "code",
   "execution_count": 56,
   "metadata": {},
   "outputs": [],
   "source": [
    "def checkRedundantBrackets(expression) :\n",
    "    lst = []\n",
    "    lst2 = ['(','{','[']\n",
    "    \n",
    "    for char in expression:\n",
    "        if char in lst2:\n",
    "            lst.append(char)\n",
    "   \n",
    "            \n",
    "        elif char == '+':\n",
    "            if not lst:\n",
    "                return True\n",
    "            lst.pop()\n",
    "        elif char == '-':\n",
    "            if not lst:\n",
    "                return True\n",
    "            lst.pop()\n",
    "        \n",
    "        elif char == '*':\n",
    "            if not lst:\n",
    "                return True\n",
    "            lst.pop()\n",
    "        elif char == '/' or char == '%' or char=='//':\n",
    "            if not lst:\n",
    "                return True\n",
    "            lst.pop()\n",
    "    \n",
    "  \n",
    "    if (not lst):\n",
    "        return True\n",
    "    return False\n",
    "    \n",
    "    "
   ]
  },
  {
   "cell_type": "code",
   "execution_count": 57,
   "metadata": {},
   "outputs": [
    {
     "name": "stdout",
     "output_type": "stream",
     "text": [
      "true\n"
     ]
    }
   ],
   "source": [
    "if __name__ == \"__main__\":\n",
    "    if checkRedundantBrackets(\"a+(b+c)+c\"):\n",
    "        print('true')\n",
    "    else:\n",
    "        print(\"false\")"
   ]
  },
  {
   "cell_type": "code",
   "execution_count": 30,
   "metadata": {},
   "outputs": [
    {
     "name": "stdout",
     "output_type": "stream",
     "text": [
      "xx\n"
     ]
    }
   ],
   "source": [
    "a = []\n",
    "\n",
    "if a is  None:\n",
    "    print(\"ff\")\n",
    "else:\n",
    "    print(\"xx\")"
   ]
  },
  {
   "cell_type": "code",
   "execution_count": 62,
   "metadata": {},
   "outputs": [],
   "source": [
    "def checkRedundantBrackets(expression) :\n",
    "    lst = []\n",
    "    lst2 = [')','}',']']\n",
    "    cnt = 0\n",
    "    for char in expression:\n",
    "        if char not in lst2:\n",
    "            lst.append(char)\n",
    "    while lst:\n",
    "        if lst[-1]=='(':\n",
    "            if cnt !=0:\n",
    "                lst.pop()\n",
    "                cnt = 0\n",
    "            else:\n",
    "                return False\n",
    "        else:\n",
    "            lst.pop()\n",
    "            cnt+=1\n",
    "#         cnt=0\n",
    "    if (not lst):\n",
    "        return False\n",
    "    return True\n"
   ]
  },
  {
   "cell_type": "code",
   "execution_count": 64,
   "metadata": {},
   "outputs": [
    {
     "name": "stdout",
     "output_type": "stream",
     "text": [
      "false\n"
     ]
    }
   ],
   "source": [
    "if __name__ == \"__main__\":\n",
    "    if checkRedundantBrackets(\"a+(b)+c\"):\n",
    "        print('true')\n",
    "    else:\n",
    "        print(\"false\")"
   ]
  },
  {
   "cell_type": "code",
   "execution_count": null,
   "metadata": {},
   "outputs": [],
   "source": [
    "lst = []\n",
    "    lst2 = ['(','{','[']\n",
    "    \n",
    "    for char in expression:\n",
    "        if char in lst2:\n",
    "            lst.append(char)\n",
    "   \n",
    "            \n",
    "        elif char == '+':\n",
    "            if not lst:\n",
    "                return True\n",
    "            lst.pop()\n",
    "        elif char == '-':\n",
    "            if not lst:\n",
    "                return True\n",
    "            lst.pop()\n",
    "        \n",
    "#         elif char == '*':\n",
    "#             if not lst:\n",
    "#                 return True\n",
    "#             lst.pop()\n",
    "#         elif char == '/' or char == '%' or char=='//':\n",
    "#             if not lst:\n",
    "#                 return True\n",
    "#             lst.pop()\n",
    "    \n",
    "  \n",
    "    if (not lst):\n",
    "        return False\n",
    "    return True"
   ]
  },
  {
   "cell_type": "markdown",
   "metadata": {},
   "source": [
    "------------------------"
   ]
  },
  {
   "cell_type": "code",
   "execution_count": 136,
   "metadata": {},
   "outputs": [],
   "source": [
    "def stockSpan(price, n) :\n",
    "    lst = []\n",
    "    cnt = 0\n",
    "    length = len(price)\n",
    "    while price:\n",
    "        for i in range(len(price)-2,-1,-1):\n",
    "            if price[i]<price[-1]:\n",
    "                cnt+=1\n",
    "            else:\n",
    "                break\n",
    "        lst.append(cnt+1)\n",
    "        price.pop()\n",
    "        cnt=0\n",
    "    lst = lst[0:length]\n",
    "    rev_lst = lst[::-1]\n",
    "    return rev_lst"
   ]
  },
  {
   "cell_type": "code",
   "execution_count": 139,
   "metadata": {},
   "outputs": [
    {
     "name": "stdout",
     "output_type": "stream",
     "text": [
      "[1, 1, 1, 1]\n"
     ]
    }
   ],
   "source": [
    "if __name__ == \"__main__\":\n",
    "    print(stockSpan([10,10,10,10],4))"
   ]
  },
  {
   "cell_type": "markdown",
   "metadata": {},
   "source": [
    "-------"
   ]
  },
  {
   "cell_type": "code",
   "execution_count": 55,
   "metadata": {},
   "outputs": [],
   "source": [
    " def countBracketReversals(inputString):\n",
    "        lst = []\n",
    "        cnt = 0\n",
    "        if len(inputString)%2!=0:\n",
    "            return -1\n",
    "        else:\n",
    "            for Char in inputString:\n",
    "                if Char == '{':\n",
    "                    lst.append(Char)\n",
    "                \n",
    "                if Char == '}':\n",
    "                    if len(lst)==0:\n",
    "                        lst.append(Char)\n",
    "                    elif len(lst)!=0 and lst[-1]=='{':\n",
    "                        lst.pop()\n",
    "                    \n",
    "                    elif len(lst)!=0 and lst[-1]!='{':\n",
    "                        lst.append(Char)\n",
    "       \n",
    "                    \n",
    "        for idx1 in range(0,len(lst)-1,2):\n",
    "                if lst[idx1]==lst[idx1+1]:\n",
    "                    cnt+=1\n",
    "                else:\n",
    "                    cnt+=2\n",
    "        return cnt"
   ]
  },
  {
   "cell_type": "code",
   "execution_count": 56,
   "metadata": {},
   "outputs": [
    {
     "name": "stdout",
     "output_type": "stream",
     "text": [
      "['}', '}', '}', '{', '{', '{']\n",
      "4\n"
     ]
    }
   ],
   "source": [
    "if __name__ == '__main__':\n",
    "    inputString = '}}}{{{'\n",
    "    print(countBracketReversals(inputString))"
   ]
  },
  {
   "cell_type": "markdown",
   "metadata": {},
   "source": [
    "-----"
   ]
  },
  {
   "cell_type": "code",
   "execution_count": 57,
   "metadata": {},
   "outputs": [],
   "source": [
    "### Queue\n",
    "## Enequeue \n",
    "## Dequeue\n",
    "## isempty\n",
    "## size\n",
    "# logic \n",
    "## new node = Node(data)\n",
    "## "
   ]
  },
  {
   "cell_type": "code",
   "execution_count": 1,
   "metadata": {},
   "outputs": [],
   "source": [
    "class Node :\n",
    "\n",
    "    def __init__(self, data) :\n",
    "        self.data = data\n",
    "        self.next = None\n",
    "\n",
    "\n",
    "class Queue :\n",
    "\n",
    "    #Define data members and __init__()\n",
    "    def __init__(self):\n",
    "        self.__head = None\n",
    "        self.__tail = None\n",
    "        self.__count = 0\n",
    "\n",
    "\n",
    "\n",
    "\n",
    "    '''----------------- Public Functions of Stack -----------------'''\n",
    "\n",
    "    def getSize(self) :\n",
    "        #Implement the getSize() function\n",
    "        return self.__count\n",
    "    \n",
    "\n",
    "\n",
    "\n",
    "    def isEmpty(self) :\n",
    "        #Implement the isEmpty() function\n",
    "        return self.getSize()==0\n",
    "\n",
    "\n",
    "\n",
    "    def enqueue(self, data) :\n",
    "        #Implement the enqueue(element) function\n",
    "        newnode = Node(data)\n",
    "        if self.__head is None:\n",
    "            self.__head = newnode\n",
    "            self.__tail = newnode\n",
    "            self.__count+=1\n",
    "        else:\n",
    "            self.__tail.next = newnode\n",
    "            self.__tail = self.__tail.next\n",
    "            self.__count+=1\n",
    "\n",
    "\n",
    "    def dequeue(self) :\n",
    "        #Implement the dequeue() function\n",
    "        if self.isEmpty() is True:\n",
    "            return -1\n",
    "        \n",
    "        dequeue_data = self.__head.data\n",
    "        self.__head = self.__head.next\n",
    "        self.__count-=1\n",
    "        return dequeue_data\n",
    "        \n",
    "\n",
    "\n",
    "    def front(self) :\n",
    "        #Implement the front() function\n",
    "         if self.isEmpty() is True:\n",
    "            return -1\n",
    "         return self.__head.data \n"
   ]
  },
  {
   "cell_type": "code",
   "execution_count": 2,
   "metadata": {},
   "outputs": [],
   "source": [
    "Q = queue()"
   ]
  },
  {
   "cell_type": "code",
   "execution_count": 3,
   "metadata": {},
   "outputs": [],
   "source": [
    "Q.enqueue(10)"
   ]
  },
  {
   "cell_type": "code",
   "execution_count": 4,
   "metadata": {},
   "outputs": [
    {
     "data": {
      "text/plain": [
       "10"
      ]
     },
     "execution_count": 4,
     "metadata": {},
     "output_type": "execute_result"
    }
   ],
   "source": [
    "Q.enqueue(20)\n",
    "Q.enqueue(30)\n",
    "Q.dequeue()"
   ]
  },
  {
   "cell_type": "code",
   "execution_count": 2,
   "metadata": {},
   "outputs": [],
   "source": [
    "import queue \n",
    "q= queue.Queue()\n",
    "q.put(1)"
   ]
  },
  {
   "cell_type": "code",
   "execution_count": 1,
   "metadata": {},
   "outputs": [],
   "source": [
    "### Queue using two stacks \n",
    "class queueusingtwostack:\n",
    "    def __init__(self):\n",
    "        self.__stack1 = []\n",
    "        self.__stack2 = []\n",
    "        self.__cnt = 0\n",
    "    \n",
    "    def enqueue(self,data):\n",
    "        while len(self.__stack1)==0:\n",
    "            self.__stack2.append(self.__stack1.pop())\n",
    "            \n",
    "        self.__stack1.append(data)\n",
    "        \n",
    "        while len(self.__stack2)==0:\n",
    "            self.__stack1.append(self.__stack2.pop())\n",
    "            \n",
    "            \n",
    "    def dequeue(self):\n",
    "        while len(self._stack1)!=0:\n",
    "            return self.__stack1\n",
    "        \n",
    "    "
   ]
  },
  {
   "cell_type": "code",
   "execution_count": 2,
   "metadata": {},
   "outputs": [],
   "source": [
    "## Queue using two stack\n",
    "\n",
    "class Queueusingtwostack:\n",
    "    def __init__(self):\n",
    "        self.__s1 = []\n",
    "        self.__s2 = []\n",
    "        \n",
    "    def enqueue(self,data):\n",
    "        while len(self.__s1)==0:\n",
    "            self.__s2.append(self.__s1.pop())\n",
    "        self.__s1.append(data)\n",
    "        while len(self.__s2)==0:\n",
    "            self.__s1.append(self.__s2.pop())\n",
    "        \n",
    "    def dequeue(self):\n",
    "        if len(self.__s1)==0:\n",
    "            return -1\n",
    "        return self.__s1.pop()\n",
    "    \n",
    "    def front(self):\n",
    "        if len(self.__s1)==0:\n",
    "            return -1\n",
    "        return self.__s1[-1]"
   ]
  },
  {
   "cell_type": "code",
   "execution_count": 44,
   "metadata": {},
   "outputs": [],
   "source": [
    "## stack using two queue\n",
    "\n",
    "class stackusingtwoqueue:\n",
    "    def __init__(self):\n",
    "        self.__q1 = []\n",
    "        self.__q2 = []\n",
    "        self.__index = 0\n",
    "    def push(self,data):\n",
    "        self.__q1.append(data)\n",
    "        \n",
    "    def pop(self):\n",
    "        if len(self.__q1)==0:\n",
    "            return -1\n",
    "        while self.__index<len(self.__q1)-1:\n",
    "            self.__q2.append(self.__q1[self.__index])\n",
    "            self.__index+=1\n",
    "        self.__index=0\n",
    "        val = self.__q1.pop()\n",
    "        \n",
    "        \n",
    "        return val \n",
    "    def top(self):\n",
    "        if len(self.__q1)==0:\n",
    "            return -1\n",
    "        return self.__q1[-1]\n",
    "    \n",
    "    def isempty(self):\n",
    "        return self.getsize()==0\n",
    "    \n",
    "    def getsize(self):\n",
    "        return len(self.__q1)\n",
    "    \n",
    "    def printf(self):\n",
    "        return self.__q1\n",
    "\n"
   ]
  },
  {
   "cell_type": "code",
   "execution_count": 1,
   "metadata": {},
   "outputs": [],
   "source": [
    "# if __name__ == \"__main__\":\n",
    "#     Stackusngqueue = stackusingtwoqueue()\n",
    "#     Stackusngqueue.push(10)\n",
    "#     Stackusngqueue.push(20)\n",
    "#     Stackusngqueue.push(30)\n",
    "#     Stackusngqueue.push(40)\n",
    "#     print(Stackusngqueue.getsize())\n",
    "#     Stackusngqueue.pop()\n",
    "#     print(Stackusngqueue.pop())\n",
    "#     print(Stackusngqueue.pop())\n",
    "#     print(Stackusngqueue.pop())\n",
    "#     print(Stackusngqueue.pop())\n",
    "#     print(Stackusngqueue.getsize())\n",
    "#     print(Stackusngqueue.printf())"
   ]
  },
  {
   "cell_type": "code",
   "execution_count": null,
   "metadata": {},
   "outputs": [],
   "source": [
    "a =[1,2,3,4]\n",
    "b= []\n",
    "i=0\n",
    "while i<len(a)-1:\n",
    "    \n"
   ]
  },
  {
   "cell_type": "code",
   "execution_count": 31,
   "metadata": {},
   "outputs": [],
   "source": [
    "from sys import stdin\n",
    "\n",
    "class Stack:\n",
    "    def __init__(self):\n",
    "        self.__q1 = []\n",
    "        self.__q2 = []\n",
    "        self.__index = 0\n",
    "    \n",
    "    def getSize(self):\n",
    "        return len(self.__q1)\n",
    "\n",
    "    def isEmpty(self):\n",
    "        return self.getSize()==0\n",
    "\n",
    "\n",
    "\n",
    "    def push(self, data):\n",
    "        self.__q1.append(data)\n",
    "\n",
    "\n",
    "\n",
    "    def pop(self):\n",
    "        if len(self.__q1)==0:\n",
    "            return -1\n",
    "        while self.__index<len(self.__q1)-1:\n",
    "            self.__q2.append(self.__q1[self.__index])\n",
    "            self.__index+=1\n",
    "        self.__index=0\n",
    "        self.__q1.pop()\n",
    "        while self.__index<len(self.__q2):\n",
    "            self.__q1.append(self.__q1[self.__index])\n",
    "            self.__index+=1\n",
    "        self.__index = 0\n",
    "\n",
    "\n",
    "\n",
    "\n",
    "    def top(self):\n",
    "        if len(self.__q1)==0:\n",
    "            return -1\n",
    "        return self.__q1[-1]\n",
    "\n"
   ]
  },
  {
   "cell_type": "markdown",
   "metadata": {},
   "source": [
    "## -------------------------------------------------------Tree ---------------------------------------------------"
   ]
  },
  {
   "cell_type": "code",
   "execution_count": 1,
   "metadata": {},
   "outputs": [],
   "source": [
    "class BinaryNode:\n",
    "    def __init__(self,data):\n",
    "        self.data = data\n",
    "        self.leftnode = None\n",
    "        self.rightnode = None\n",
    "    "
   ]
  },
  {
   "cell_type": "code",
   "execution_count": 2,
   "metadata": {},
   "outputs": [],
   "source": [
    "def printdetailed(root):\n",
    "    if root == None:\n",
    "        return \n",
    "    print(root.data,end = ':')\n",
    "    if root.leftnode != None:\n",
    "        print('L',root.leftnode.data,end = ',')\n",
    "    if root.rightnode != None:\n",
    "        print(\"R\",root.rightnode.data,end = ',')\n",
    "    print()\n",
    "    printdetailed(root.leftnode)\n",
    "    printdetailed(root.rightnode)"
   ]
  },
  {
   "cell_type": "code",
   "execution_count": 3,
   "metadata": {},
   "outputs": [],
   "source": [
    "root = BinaryNode(2)\n",
    "leftnode = BinaryNode(1)\n",
    "rightnode = BinaryNode(2)\n",
    "\n",
    "root.leftnode = leftnode\n",
    "root.rightnode = rightnode\n"
   ]
  },
  {
   "cell_type": "code",
   "execution_count": 4,
   "metadata": {},
   "outputs": [
    {
     "name": "stdout",
     "output_type": "stream",
     "text": [
      "2:L 1,R 2,\n",
      "1:\n",
      "2:\n"
     ]
    }
   ],
   "source": [
    "printdetailed(root)"
   ]
  },
  {
   "cell_type": "code",
   "execution_count": 5,
   "metadata": {},
   "outputs": [],
   "source": [
    "# # # # # # # # # from sys import stdin, setrecursionlimit\n",
    "# # # # # # # # # import queue\n",
    "\n",
    "# # # # # # # # # setrecursionlimit(10 ** 6)\n",
    "\n",
    "# # # # # # # # # #Following the structure used for Binary Tree\n",
    "# # # # # # # # # class BinaryTreeNode:\n",
    "# # # # # # # # #     def __init__(self, data):\n",
    "# # # # # # # # #         self.data = data\n",
    "# # # # # # # # #         self.left = None\n",
    "# # # # # # # # #         self.right = None\n",
    "\n",
    "\n",
    "\n",
    "\n",
    "# # # # # # # # # def getSum(root):\n",
    "# # # # # # # # # \t#Your code goes here\n",
    "# # # # # # # # #     if root == None:\n",
    "# # # # # # # # #         return 0\n",
    "    \n",
    "# # # # # # # # #     leftnode = getSum(root.left)\n",
    "# # # # # # # # #     rightnode = getSum(root.right)\n",
    "# # # # # # # # #     return root.data+leftnode + rightnode\n",
    "\n",
    "\n",
    "\t\n",
    "\n",
    "\n",
    "\n",
    "\n",
    "# # # # # # # # # #Taking level-order input using fast I/O method\n",
    "# # # # # # # # # def takeInput():\n",
    "# # # # # # # # #     levelOrder = list(map(int, stdin.readline().strip().split(\" \")))\n",
    "# # # # # # # # #     start = 0\n",
    "\n",
    "# # # # # # # # #     length = len(levelOrder)\n",
    "\n",
    "# # # # # # # # #     root = BinaryTreeNode(levelOrder[start])\n",
    "# # # # # # # # #     start += 1\n",
    "\n",
    "# # # # # # # # #     q = queue.Queue()\n",
    "# # # # # # # # #     q.put(root)\n",
    "\n",
    "# # # # # # # # #     while not q.empty():\n",
    "# # # # # # # # #         currentNode = q.get()\n",
    "\n",
    "# # # # # # # # #         leftChild = levelOrder[start]\n",
    "# # # # # # # # #         start += 1\n",
    "\n",
    "# # # # # # # # #         if leftChild != -1:\n",
    "# # # # # # # # #             leftNode = BinaryTreeNode(leftChild)\n",
    "# # # # # # # # #             currentNode.left =leftNode\n",
    "# # # # # # # # #             q.put(leftNode)\n",
    "\n",
    "# # # # # # # # #         rightChild = levelOrder[start]\n",
    "# # # # # # # # #         start += 1\n",
    "\n",
    "# # # # # # # # #         if rightChild != -1:\n",
    "# # # # # # # # #             rightNode = BinaryTreeNode(rightChild)\n",
    "# # # # # # # # #             currentNode.right =rightNode\n",
    "# # # # # # # # #             q.put(rightNode)\n",
    "\n",
    "# # # # # # # # #     return root\n",
    "\n",
    "# # # # # # # # # # Main\n",
    "# # # # # # # # # root = takeInput()\n",
    "# # # # # # # # # print(getSum(root))\n",
    "\n",
    "# # # # # # # # #------------------------------------------\n",
    "# # # # # # # # from sys import stdin, setrecursionlimit\n",
    "# # # # # # # # import queue\n",
    "\n",
    "# # # # # # # # setrecursionlimit(10 ** 6)\n",
    "\n",
    "\n",
    "# # # # # # # # # Following the structure used for Binary Tree\n",
    "# # # # # # # # class BinaryTreeNode:\n",
    "# # # # # # # #     def __init__(self, data):\n",
    "# # # # # # # #         self.data = data\n",
    "# # # # # # # #         self.left = None\n",
    "# # # # # # # #         self.right = None\n",
    "\n",
    "\n",
    "# # # # # # # # def preOrder(root):\n",
    "# # # # # # # # \t# Your code goes here\n",
    "# # # # # # # #     if root == None:\n",
    "# # # # # # # #         return \n",
    "# # # # # # # #     print(root.data,end = ' ')\n",
    "# # # # # # # #     if root.left is not None:\n",
    "# # # # # # # #         print(root.left.data,end = ' ')\n",
    "# # # # # # # #         preOrder(root.left.left)\n",
    "# # # # # # # #         preOrder(root.left.right)\n",
    "# # # # # # # #     if root.right is not None:\n",
    "# # # # # # # #         print(root.right.data,end = ' ')\n",
    "    \n",
    "# # # # # # # #         preOrder(root.right.left)\n",
    "# # # # # # # #         preOrder(root.right.right)\n",
    "\n",
    "\n",
    "\n",
    "\n",
    "\n",
    "\n",
    "\n",
    "\n",
    "\n",
    "\n",
    "\n",
    "\n",
    "\n",
    "# # # # # # # # #Taking level-order input using fast I/O method\n",
    "# # # # # # # # def takeInput():\n",
    "# # # # # # # #     levelOrder = list(map(int, stdin.readline().strip().split(\" \")))\n",
    "# # # # # # # #     start = 0\n",
    "\n",
    "# # # # # # # #     length = len(levelOrder)\n",
    "\n",
    "# # # # # # # #     root = BinaryTreeNode(levelOrder[start])\n",
    "# # # # # # # #     start += 1\n",
    "\n",
    "# # # # # # # #     q = queue.Queue()\n",
    "# # # # # # # #     q.put(root)\n",
    "\n",
    "# # # # # # # #     while not q.empty():\n",
    "# # # # # # # #         currentNode = q.get()\n",
    "\n",
    "# # # # # # # #         leftChild = levelOrder[start]\n",
    "# # # # # # # #         start += 1\n",
    "\n",
    "# # # # # # # #         if leftChild != -1:\n",
    "# # # # # # # #             leftNode = BinaryTreeNode(leftChild)\n",
    "# # # # # # # #             currentNode.left =leftNode\n",
    "# # # # # # # #             q.put(leftNode)\n",
    "\n",
    "# # # # # # # #         rightChild = levelOrder[start]\n",
    "# # # # # # # #         start += 1\n",
    "\n",
    "# # # # # # # #         if rightChild != -1:\n",
    "# # # # # # # #             rightNode = BinaryTreeNode(rightChild)\n",
    "# # # # # # # #             currentNode.right =rightNode\n",
    "# # # # # # # #             q.put(rightNode)\n",
    "\n",
    "# # # # # # # #     return root\n",
    "\n",
    "# # # # # # # # # Main\n",
    "# # # # # # # # root = takeInput()\n",
    "# # # # # # # # preOrder(root)-\n",
    "\n",
    "# # # # # # # from sys import stdin, setrecursionlimit\n",
    "# # # # # # # import queue\n",
    "\n",
    "# # # # # # # setrecursionlimit(10 ** 6)\n",
    "\n",
    "# # # # # # # #Following the structure used for Binary Tree\n",
    "# # # # # # # class BinaryTreeNode:\n",
    "# # # # # # #     def __init__(self, data):\n",
    "# # # # # # #         self.data = data\n",
    "# # # # # # #         self.left = None\n",
    "# # # # # # #         self.right = None\n",
    "\n",
    "\n",
    "\n",
    "# # # # # # # def preOrder(root):\n",
    "# # # # # # # \t#Your code goes here\n",
    "# # # # # # #     if root == None:\n",
    "# # # # # # #         return \n",
    "# # # # # # #     if root.left is not None:\n",
    "        \n",
    "# # # # # # #         preOrder(root.left.left)\n",
    "# # # # # # #         preOrder(root.left.right)\n",
    "# # # # # # #         print(root.left.data,end = \" \")\n",
    "# # # # # # #     if root.right is not None:\n",
    "        \n",
    "# # # # # # #         preOrder(root.right.left)\n",
    "# # # # # # #         preOrder(root.right.right)\n",
    "# # # # # # #         print(root.right.data ,end = \" \")\n",
    "# # # # # # #     print(root.data,end = ' ')\n",
    "    \n",
    "    \n",
    "\n",
    "\n",
    "\n",
    "\n",
    "# # # # # # from sys import stdin, setrecursionlimit\n",
    "# # # # # # import queue\n",
    "\n",
    "# # # # # # setrecursionlimit(10 ** 6)\n",
    "\n",
    "\n",
    "# # # # # # #Following is the structure used to represent the Binary Tree Node\n",
    "# # # # # # class BinaryTreeNode:\n",
    "# # # # # #     def __init__(self, data):\n",
    "# # # # # #         self.data = data\n",
    "# # # # # #         self.left = None\n",
    "# # # # # #         self.right = None\n",
    "\n",
    "\n",
    "\n",
    "# # # # # # def countNodesGreaterThanX(root, x) :\n",
    "# # # # # # \t#Your code goes here\n",
    "# # # # # #     if root == None:\n",
    "# # # # # #         return 0 \n",
    "    \n",
    "# # # # # #     if root.data>x:\n",
    "# # # # # #         return 1+countNodesGreaterThanX(root.left,x)+countNodesGreaterThanX(root.right,x)\n",
    "# # # # # #     return 0+countNodesGreaterThanX(root.left,x)+countNodesGreaterThanX(root.right,x)\n",
    "\n",
    "\n",
    "\n",
    "\n",
    "\n",
    "\n",
    "\n",
    "\n",
    "\n",
    "\n",
    "\n",
    "\n",
    "\n",
    "\n",
    "\n",
    "\n",
    "\n",
    "\n",
    "\n",
    "\n",
    "\n",
    "\n",
    "\n",
    "\n",
    "\n",
    "\n",
    "\n",
    "\n",
    "\n",
    "\n",
    "\n",
    "\t\t\n",
    "\n",
    "\n",
    "\n",
    "# # # # # # #Taking level-order input using fast I/O method\n",
    "# # # # # # def takeInput():\n",
    "# # # # # #     levelOrder = list(map(int, stdin.readline().strip().split(\" \")))\n",
    "# # # # # #     start = 0\n",
    "\n",
    "# # # # # #     length = len(levelOrder)\n",
    "\n",
    "# # # # # #     root = BinaryTreeNode(levelOrder[start])\n",
    "# # # # # #     start += 1\n",
    "\n",
    "# # # # # #     q = queue.Queue()\n",
    "# # # # # #     q.put(root)\n",
    "\n",
    "# # # # # #     while not q.empty():\n",
    "# # # # # #         currentNode = q.get()\n",
    "\n",
    "# # # # # #         leftChild = levelOrder[start]\n",
    "# # # # # #         start += 1\n",
    "\n",
    "# # # # # #         if leftChild != -1:\n",
    "# # # # # #             leftNode = BinaryTreeNode(leftChild)\n",
    "# # # # # #             currentNode.left =leftNode\n",
    "# # # # # #             q.put(leftNode)\n",
    "\n",
    "# # # # # #         rightChild = levelOrder[start]\n",
    "# # # # # #         start += 1\n",
    "\n",
    "# # # # # #         if rightChild != -1:\n",
    "# # # # # #             rightNode = BinaryTreeNode(rightChild)\n",
    "# # # # # #             currentNode.right =rightNode\n",
    "# # # # # #             q.put(rightNode)\n",
    "\n",
    "# # # # # #     return root\n",
    "\n",
    "# # # # # # # Main\n",
    "# # # # # # root = takeInput()\n",
    "# # # # # # x = int(stdin.readline().strip())\n",
    "\n",
    "# # # # # # count = countNodesGreaterThanX(root, x)\n",
    "# # # # # # print(count)\n",
    "\n",
    "\n",
    "\n",
    "# # # # # from sys import stdin, setrecursionlimit\n",
    "# # # # # import queue\n",
    "\n",
    "# # # # # setrecursionlimit(10 ** 6)\n",
    "\n",
    "\n",
    "# # # # # #Following is the structure used to represent the Binary Tree Node\n",
    "# # # # # class BinaryTreeNode:\n",
    "# # # # #     def __init__(self, data):\n",
    "# # # # #         self.data = data\n",
    "# # # # #         self.left = None\n",
    "# # # # #         self.right = None\n",
    "\n",
    "\n",
    "\n",
    "# # # # # def height(root) :\n",
    "# # # # # \t#Your code goes here\n",
    "# # # # #     if root is None:\n",
    "# # # # #         return 0\n",
    "# # # # #     left_tree = height(root.left)\n",
    "# # # # #     right_tree = height(root.right)\n",
    "# # # # #     if left_tree>right_tree:\n",
    "# # # # #         return 1+left_tree\n",
    "# # # # #     return 1+right_tree\n",
    "\n",
    "\n",
    "\n",
    "\n",
    "\n",
    "\n",
    "\n",
    "\n",
    "\n",
    "\n",
    "\n",
    "\n",
    "\n",
    "\n",
    "\n",
    "\n",
    "\n",
    "\n",
    "\n",
    "\n",
    "\n",
    "\n",
    "\n",
    "\n",
    "\n",
    "\n",
    "\n",
    "\n",
    "\n",
    "\n",
    "\n",
    "\n",
    "\n",
    "\t\n",
    "\n",
    "\n",
    "# # # # # #Taking level-order input using fast I/O method\n",
    "# # # # # def takeInput():\n",
    "# # # # #     levelOrder = list(map(int, stdin.readline().strip().split(\" \")))\n",
    "# # # # #     start = 0\n",
    "    \n",
    "# # # # #     length = len(levelOrder)\n",
    "\n",
    "# # # # #     if length == 1 :\n",
    "# # # # #         return None\n",
    "    \n",
    "# # # # #     root = BinaryTreeNode(levelOrder[start])\n",
    "# # # # #     start += 1\n",
    "\n",
    "# # # # #     q = queue.Queue()\n",
    "# # # # #     q.put(root)\n",
    "\n",
    "# # # # #     while not q.empty():\n",
    "# # # # #         currentNode = q.get()\n",
    "\n",
    "# # # # #         leftChild = levelOrder[start]\n",
    "# # # # #         start += 1\n",
    "\n",
    "# # # # #         if leftChild != -1:\n",
    "# # # # #             leftNode = BinaryTreeNode(leftChild)\n",
    "# # # # #             currentNode.left =leftNode\n",
    "# # # # #             q.put(leftNode)\n",
    "\n",
    "# # # # #         rightChild = levelOrder[start]\n",
    "# # # # #         start += 1\n",
    "\n",
    "# # # # #         if rightChild != -1:\n",
    "# # # # #             rightNode = BinaryTreeNode(rightChild)\n",
    "# # # # #             currentNode.right =rightNode\n",
    "# # # # #             q.put(rightNode)\n",
    "\n",
    "# # # # #     return root\n",
    "\n",
    "# # # # # # Main\n",
    "# # # # # root = takeInput()\n",
    "\n",
    "# # # # # h = height(root)\n",
    "# # # # # print(h)\n",
    "\n",
    "\n",
    "\n",
    "\n",
    "\n",
    "\n",
    "\n",
    "\n",
    "\n",
    "\n",
    "\n",
    "\n",
    "\n",
    "\n",
    "\n",
    "\n",
    "\n",
    "\n",
    "\n",
    "\n",
    "\n",
    "\n",
    "\n",
    "\t\n",
    "\n",
    "\n",
    "\n",
    "# # # # # # # #Taking level-order input using fast I/O method\n",
    "# # # # # # # def takeInput():\n",
    "# # # # # # #     levelOrder = list(map(int, stdin.readline().strip().split(\" \")))\n",
    "# # # # # # #     start = 0\n",
    "\n",
    "# # # # # # #     length = len(levelOrder)\n",
    "\n",
    "# # # # # # #     root = BinaryTreeNode(levelOrder[start])\n",
    "# # # # # # #     start += 1\n",
    "\n",
    "# # # # # # #     q = queue.Queue()\n",
    "# # # # # # #     q.put(root)\n",
    "\n",
    "# # # # # # #     while not q.empty():\n",
    "# # # # # # #         currentNode = q.get()\n",
    "\n",
    "# # # # # # #         leftChild = levelOrder[start]\n",
    "# # # # # # #         start += 1\n",
    "\n",
    "# # # # # # #         if leftChild != -1:\n",
    "# # # # # # #             leftNode = BinaryTreeNode(leftChild)\n",
    "# # # # # # #             currentNode.left =leftNode\n",
    "# # # # # # #             q.put(leftNode)\n",
    "\n",
    "# # # # # # #         rightChild = levelOrder[start]\n",
    "# # # # # # #         start += 1\n",
    "\n",
    "# # # # # # #         if rightChild != -1:\n",
    "# # # # # # #             rightNode = BinaryTreeNode(rightChild)\n",
    "# # # # # # #             currentNode.right =rightNode\n",
    "# # # # # # #             q.put(rightNode)\n",
    "\n",
    "# # # # # # #     return root\n",
    "\n",
    "# # # # # # # # Main\n",
    "# # # # # # # root = takeInput()\n",
    "# # # # # # # preOrder(root)\n",
    "\n",
    "# # # # ##------------------------------------------------------------------------------------------------\n",
    "# # # # from sys import stdin, setrecursionlimit\n",
    "# # # # import queue\n",
    "\n",
    "# # # # setrecursionlimit(10 ** 6)\n",
    "\n",
    "\n",
    "# # # # #Following is the structure used to represent the Binary Tree Node\n",
    "# # # # class BinaryTreeNode:\n",
    "# # # #     def __init__(self, data):\n",
    "# # # #         self.data = data\n",
    "# # # #         self.left = None\n",
    "# # # #         self.right = None\n",
    "\n",
    "\n",
    "\n",
    "\n",
    "# # # # def changeToDepthTree(root,d=0) :\n",
    "# # # # \t#Your code goes here\n",
    "# # # #     if root is None:\n",
    "# # # #         return \n",
    "# # # #     root.data = d\n",
    "# # # #     # print(root.data,end=\" \")\n",
    "     \n",
    "# # # #     changeToDepthTree(root.left,d+1)\n",
    "# # # #     changeToDepthTree(root.right,d+1)\n",
    "# # # #     # return\n",
    "\n",
    "\n",
    "\n",
    "\n",
    "\n",
    "\n",
    "\n",
    "\n",
    "\n",
    "\n",
    "\n",
    "\n",
    "\n",
    "\n",
    "\n",
    "\n",
    "\n",
    "\n",
    "\n",
    "\n",
    "\n",
    "\n",
    "\n",
    "\n",
    "\n",
    "\n",
    "\n",
    "\n",
    "\n",
    "\n",
    "\n",
    "\n",
    "\n",
    "\n",
    "\n",
    "# # # # #Taking level-order input using fast I/O method\n",
    "# # # # def takeInput():\n",
    "# # # #     levelOrder = list(map(int, stdin.readline().strip().split(\" \")))\n",
    "# # # #     start = 0\n",
    "    \n",
    "# # # #     length = len(levelOrder)\n",
    "\n",
    "# # # #     if length == 1 :\n",
    "# # # #         return None\n",
    "    \n",
    "# # # #     root = BinaryTreeNode(levelOrder[start])\n",
    "# # # #     start += 1\n",
    "\n",
    "# # # #     q = queue.Queue()\n",
    "# # # #     q.put(root)\n",
    "\n",
    "# # # #     while not q.empty():\n",
    "# # # #         currentNode = q.get()\n",
    "\n",
    "# # # #         leftChild = levelOrder[start]\n",
    "# # # #         start += 1\n",
    "\n",
    "# # # #         if leftChild != -1:\n",
    "# # # #             leftNode = BinaryTreeNode(leftChild)\n",
    "# # # #             currentNode.left =leftNode\n",
    "# # # #             q.put(leftNode)\n",
    "\n",
    "# # # #         rightChild = levelOrder[start]\n",
    "# # # #         start += 1\n",
    "\n",
    "# # # #         if rightChild != -1:\n",
    "# # # #             rightNode = BinaryTreeNode(rightChild)\n",
    "# # # #             currentNode.right =rightNode\n",
    "# # # #             q.put(rightNode)\n",
    "\n",
    "# # # #     return root\n",
    "\n",
    "\n",
    "# # # # def inOrder(root) :\n",
    "# # # # \tif root is None :\n",
    "# # # # \t\treturn \n",
    "\n",
    "# # # # \tinOrder(root.left)\n",
    "# # # # \tprint(root.data, end = \" \")\n",
    "# # # # \tinOrder(root.right)\n",
    "\t\n",
    "\n",
    "# # # # # Main\n",
    "# # # # root = takeInput()\n",
    "\n",
    "# # # # changeToDepthTree(root)\n",
    "# # # # inOrder(root)\n",
    "\n",
    "\n",
    "# # # ##-------------------------------------\n",
    "\n",
    "# # # \"Binary TreeNode class\"\n",
    "# # # import queue\n",
    "# # # class BinaryTreeNode:\n",
    "# # #     def __init__(self, data):\n",
    "# # #         self.data = data\n",
    "# # #         self.left = None\n",
    "# # #         self.right = None\n",
    "\n",
    "\n",
    "# # # def isNodePresent(root, x):\n",
    "# # #     # Write your code here.\n",
    "# # #     if root is None:\n",
    "# # #         return \n",
    "# # #     if root.data == x:\n",
    "# # #         return True\n",
    "    \n",
    "# # #     left_node = isNodePresent(root.left,x)\n",
    "# # #     if left_node is not None:\n",
    "# # #         return True\n",
    "    \n",
    "# # #     right_node = isNodePresent(root.right,x)\n",
    "# # #     return right_node\n",
    "    \n",
    "\n",
    "\n",
    "\n",
    "\n",
    "\n",
    "\n",
    "\n",
    "\n",
    "\n",
    "\n",
    "\n",
    "\n",
    "\n",
    "\n",
    "\n",
    "\n",
    "\n",
    "\n",
    "\n",
    "\n",
    "# # # # To build the tree\n",
    "# # # def buildLevelTree(levelorder):\n",
    "# # #     index = 0\n",
    "# # #     length = len(levelorder)\n",
    "\n",
    "# # #     if length<=0 or levelorder[0]==-1:\n",
    "# # #         return None\n",
    "\n",
    "# # #     root = BinaryTreeNode(levelorder[index])\n",
    "# # #     index += 1\n",
    "# # #     q = queue.Queue()\n",
    "# # #     q.put(root)\n",
    "\n",
    "# # #     while not q.empty():\n",
    "\n",
    "# # #         currentNode = q.get()\n",
    "# # #         leftChild = levelorder[index]\n",
    "# # #         index += 1\n",
    "\n",
    "# # #         if leftChild != -1:\n",
    "\n",
    "# # #             leftNode = BinaryTreeNode(leftChild)\n",
    "# # #             currentNode.left =leftNode\n",
    "# # #             q.put(leftNode)\n",
    "\n",
    "# # #         rightChild = levelorder[index]\n",
    "# # #         index += 1\n",
    "\n",
    "# # #         if rightChild != -1:\n",
    "\n",
    "# # #             rightNode = BinaryTreeNode(rightChild)\n",
    "# # #             currentNode.right =rightNode\n",
    "# # #             q.put(rightNode)\n",
    "\n",
    "# # #     return root\n",
    "\n",
    "\n",
    "# # # # Main\n",
    "# # # levelOrder = [int(i) for i in input().strip().split()]\n",
    "# # # root = buildLevelTree(levelOrder)\n",
    "\n",
    "# # # x = int(input())\n",
    "\n",
    "# # # present = isNodePresent(root, x)\n",
    "\n",
    "# # # if present:\n",
    "# # #     print('true')\n",
    "# # # else:\n",
    "# # #     print('false')\n",
    "\n",
    "\n",
    "# # ### --------------------------------------\n",
    "# # from sys import stdin, setrecursionlimit\n",
    "# # import queue\n",
    "\n",
    "# # setrecursionlimit(10 ** 6)\n",
    "\n",
    "\n",
    "# # #Following is the structure used to represent the Binary Tree Node\n",
    "# # class BinaryTreeNode:\n",
    "# #     def __init__(self, data):\n",
    "# #         self.data = data\n",
    "# #         self.left = None\n",
    "# #         self.right = None\n",
    "\n",
    "\n",
    "\n",
    "# # def printNodesWithoutSibling(root) :\n",
    "# # \t# Your code goes here\n",
    "# #     if root is None:\n",
    "# #         return \n",
    "    \n",
    "# #     if root.left is None:\n",
    "# #         if root.right:\n",
    "# #             print(root.right.data ,end = ' ')\n",
    "                    \n",
    "# #     if root.right is None:\n",
    "# #         if root.left:\n",
    "# #             print(root.left.data,end = ' ')\n",
    "            \n",
    "        \n",
    "# #     printNodesWithoutSibling(root.left)\n",
    "# #     printNodesWithoutSibling(root.right)\n",
    "    \n",
    "# #     return \n",
    "    \n",
    "\n",
    "\n",
    "\t\n",
    "\n",
    "\n",
    "\n",
    "# # #Taking level-order input using fast I/O method\n",
    "# # def takeInput():\n",
    "# #     levelOrder = list(map(int, stdin.readline().strip().split(\" \")))\n",
    "# #     start = 0\n",
    "    \n",
    "# #     length = len(levelOrder)\n",
    "\n",
    "# #     if length == 1 :\n",
    "# #         return None\n",
    "    \n",
    "# #     root = BinaryTreeNode(levelOrder[start])\n",
    "# #     start += 1\n",
    "\n",
    "# #     q = queue.Queue()\n",
    "# #     q.put(root)\n",
    "\n",
    "# #     while not q.empty():\n",
    "# #         currentNode = q.get()\n",
    "\n",
    "# #         leftChild = levelOrder[start]\n",
    "# #         start += 1\n",
    "\n",
    "# #         if leftChild != -1:\n",
    "# #             leftNode = BinaryTreeNode(leftChild)\n",
    "# #             currentNode.left =leftNode\n",
    "# #             q.put(leftNode)\n",
    "\n",
    "# #         rightChild = levelOrder[start]\n",
    "# #         start += 1\n",
    "\n",
    "# #         if rightChild != -1:\n",
    "# #             rightNode = BinaryTreeNode(rightChild)\n",
    "# #             currentNode.right =rightNode\n",
    "# #             q.put(rightNode)\n",
    "\n",
    "# #     return root\n",
    "\n",
    "\t\n",
    "\n",
    "# # # Main\n",
    "# # root = takeInput()\n",
    "# # printNodesWithoutSibling(root)\n",
    "# #------------------------\n",
    "# from sys import stdin, setrecursionlimit\n",
    "# import queue\n",
    "\n",
    "# setrecursionlimit(10 ** 6)\n",
    "\n",
    "\n",
    "# #Following is the structure used to represent the Binary Tree Node\n",
    "# class BinaryTreeNode:\n",
    "#     def __init__(self, data):\n",
    "#         self.data = data\n",
    "#         self.left = None\n",
    "#         self.right = None\n",
    "\n",
    "\n",
    "\n",
    "\n",
    "# def mirrorBinaryTree(root) :\n",
    "#     # Your code goes her\n",
    "#     if root is None:\n",
    "#         return None\n",
    "#     root.left,root.right = mirrorBinaryTree(root.right),mirrorBinaryTree(root.left)\n",
    "     \n",
    "#     return root\n",
    "\n",
    "\n",
    "\n",
    "\n",
    "\n",
    "\n",
    "\n",
    "\n",
    "\n",
    "\n",
    "\n",
    "\n",
    "\n",
    "\n",
    "\n",
    "\n",
    "\n",
    "\n",
    "\n",
    "\n",
    "\n",
    "\n",
    "\n",
    "\n",
    "\n",
    "\n",
    "\n",
    "\n",
    "\n",
    "\n",
    "# #Taking level-order input using fast I/O method\n",
    "# def takeInput():\n",
    "#     levelOrder = list(map(int, stdin.readline().strip().split(\" \")))\n",
    "#     start = 0\n",
    "    \n",
    "#     length = len(levelOrder)\n",
    "\n",
    "#     if length == 1 :\n",
    "#         return None\n",
    "    \n",
    "#     root = BinaryTreeNode(levelOrder[start])\n",
    "#     start += 1\n",
    "\n",
    "#     q = queue.Queue()\n",
    "#     q.put(root)\n",
    "\n",
    "#     while not q.empty():\n",
    "#         currentNode = q.get()\n",
    "\n",
    "#         leftChild = levelOrder[start]\n",
    "#         start += 1\n",
    "\n",
    "#         if leftChild != -1:\n",
    "#             leftNode = BinaryTreeNode(leftChild)\n",
    "#             currentNode.left =leftNode\n",
    "#             q.put(leftNode)\n",
    "\n",
    "#         rightChild = levelOrder[start]\n",
    "#         start += 1\n",
    "\n",
    "#         if rightChild != -1:\n",
    "#             rightNode = BinaryTreeNode(rightChild)\n",
    "#             currentNode.right =rightNode\n",
    "#             q.put(rightNode)\n",
    "\n",
    "#     return root\n",
    "\n",
    "\t\n",
    "# def printLevelWise(root):\n",
    "#     if root==None:\n",
    "#         return\n",
    "\n",
    "#     inputQ = queue.Queue()\n",
    "#     outputQ = queue.Queue()\n",
    "#     inputQ.put(root)\n",
    "\n",
    "#     while not inputQ.empty():\n",
    "       \n",
    "#         while not inputQ.empty():\n",
    "       \n",
    "#             curr = inputQ.get()\n",
    "#             print(curr.data, end=' ')\n",
    "#             if curr.left!=None:\n",
    "#                 outputQ.put(curr.left)\n",
    "#             if curr.right!=None:\n",
    "#                 outputQ.put(curr.right)\n",
    "       \n",
    "#         print()\n",
    "#         inputQ, outputQ = outputQ, inputQ\n",
    "\n",
    "\n",
    "# # Main\n",
    "# root = takeInput()\n",
    "\n",
    "# mirrorBinaryTree(root)\n",
    "# printLevelWise(root)"
   ]
  },
  {
   "cell_type": "code",
   "execution_count": 6,
   "metadata": {},
   "outputs": [],
   "source": [
    "class Binarynode:\n",
    "    def __init__(self,data):\n",
    "        self.data = data \n",
    "        self.left = None\n",
    "        self.right = None\n",
    "        \n",
    "    \n",
    "    \n",
    "def preorder_printnode(root):\n",
    "    if root == None:\n",
    "        return \n",
    "    print(root.data ,end=':')\n",
    "    if root.left is not None:\n",
    "        print(\"L\",root.left.data,end = ',')\n",
    "    if root.right is not None:\n",
    "        print(\"R\",root.right.data ,end = ',')\n",
    "    print()\n",
    "    preorder_printnode(root.left)\n",
    "    preorder_printnode(root.right)\n",
    "    \n",
    "def postorder_printnode(root):\n",
    "    if root == None:\n",
    "        return \n",
    "    if root.left != None:\n",
    "        print(\"L\",root.left.data,end = ',')\n",
    "    if root.right != None:\n",
    "        print(\"R\",root.right.data ,end = ',')\n",
    "    print(\"Root node:\",root.data )\n",
    "    print()\n",
    "    postorder_printnode(root.left)\n",
    "    postorder_printnode(root.right)\n",
    "    \n",
    "    \n",
    "def inorder_printnode(root):\n",
    "    if root == None:\n",
    "        return \n",
    "    if root.left is not None:\n",
    "        print(\"L\",root.left.data,end = ',')\n",
    "    print(\"Root node :\",root.data,end = ',')\n",
    "    if root.right is not None:\n",
    "        print(\"R\",root.right.data ,end = ',')\n",
    "    print()\n",
    "    inorder_printnode(root.left)\n",
    "    inorder_printnode(root.right)\n",
    "    \n",
    "\n",
    "    "
   ]
  },
  {
   "cell_type": "code",
   "execution_count": 7,
   "metadata": {},
   "outputs": [],
   "source": [
    "def preOrder(root):\n",
    "    # Your code goes here\n",
    "    if root == None:\n",
    "        return \n",
    "    print(root.data)\n",
    "    if root.left is not None:\n",
    "        print(root.left.data)\n",
    "    if root.right is not None:\n",
    "        print(root.right.data)\n",
    "    preOrder(root.left)\n",
    "    preOrder(root.right)"
   ]
  },
  {
   "cell_type": "code",
   "execution_count": 8,
   "metadata": {},
   "outputs": [],
   "source": [
    "root = Binarynode(1)\n",
    "lefttree = Binarynode(2)\n",
    "rightree = Binarynode(3)\n",
    "lefttree_leftChild = Binarynode(4)\n",
    "lefttree_rightchild = Binarynode(5)\n",
    "righttree_leftchild = Binarynode(6)\n",
    "righttree_rightchild = Binarynode(7)\n",
    "\n",
    "lefttree.left = lefttree_leftChild\n",
    "lefttree.right = lefttree_rightchild\n",
    "rightree.left = righttree_leftchild\n",
    "rightree.right = righttree_rightchild\n",
    "root.left = lefttree\n",
    "root.right = rightree\n",
    "\n"
   ]
  },
  {
   "cell_type": "code",
   "execution_count": 9,
   "metadata": {},
   "outputs": [
    {
     "name": "stdout",
     "output_type": "stream",
     "text": [
      "1\n",
      "2\n",
      "3\n",
      "2\n",
      "4\n",
      "5\n",
      "4\n",
      "5\n",
      "3\n",
      "6\n",
      "7\n",
      "6\n",
      "7\n"
     ]
    }
   ],
   "source": [
    "preOrder(root)"
   ]
  },
  {
   "cell_type": "code",
   "execution_count": 34,
   "metadata": {},
   "outputs": [
    {
     "name": "stdout",
     "output_type": "stream",
     "text": [
      "1:L 2,R 3,\n",
      "2:L 4,R 5,\n",
      "4:\n",
      "5:\n",
      "3:L 6,R 7,\n",
      "6:\n",
      "7:\n"
     ]
    }
   ],
   "source": [
    "preorder_printnode(root)"
   ]
  },
  {
   "cell_type": "code",
   "execution_count": 35,
   "metadata": {},
   "outputs": [
    {
     "name": "stdout",
     "output_type": "stream",
     "text": [
      "L 2,R 3,Root node: 1\n",
      "\n",
      "L 4,R 5,Root node: 2\n",
      "\n",
      "Root node: 4\n",
      "\n",
      "Root node: 5\n",
      "\n",
      "L 6,R 7,Root node: 3\n",
      "\n",
      "Root node: 6\n",
      "\n",
      "Root node: 7\n",
      "\n"
     ]
    }
   ],
   "source": [
    "postorder_printnode(root)"
   ]
  },
  {
   "cell_type": "code",
   "execution_count": 36,
   "metadata": {},
   "outputs": [
    {
     "name": "stdout",
     "output_type": "stream",
     "text": [
      "L 2,Root node : 1,R 3,\n",
      "L 4,Root node : 2,R 5,\n",
      "Root node : 4,\n",
      "Root node : 5,\n",
      "L 6,Root node : 3,R 7,\n",
      "Root node : 6,\n",
      "Root node : 7,\n"
     ]
    }
   ],
   "source": [
    "inorder_printnode(root)"
   ]
  },
  {
   "cell_type": "markdown",
   "metadata": {},
   "source": [
    "## 1 \n",
    " /   \\\n",
    " 2    3\n",
    " /\\   /\\\n",
    " 4 5  6  7\n",
    " "
   ]
  },
  {
   "cell_type": "code",
   "execution_count": 44,
   "metadata": {},
   "outputs": [],
   "source": [
    "def CountNodesGreaterThanX(root,x):\n",
    "    if root is None:\n",
    "        return 0\n",
    "    if root.data >x:\n",
    "        return 1+CountNodesGreaterThanX(root.left,x)+CountNodesGreaterThanX(root.right,x)\n",
    "    return 0+CountNodesGreaterThanX(root.left,x)+CountNodesGreaterThanX(root.right,x)"
   ]
  },
  {
   "cell_type": "code",
   "execution_count": 47,
   "metadata": {},
   "outputs": [
    {
     "name": "stdout",
     "output_type": "stream",
     "text": [
      "0\n"
     ]
    }
   ],
   "source": [
    "if __name__ == \"__main__\":\n",
    "    print(CountNodesGreaterThanX(root,8))"
   ]
  },
  {
   "cell_type": "code",
   "execution_count": 52,
   "metadata": {},
   "outputs": [],
   "source": [
    "root = Binarynode(1)\n",
    "lefttree = Binarynode(2)\n",
    "rightree = Binarynode(3)\n",
    "lefttree_leftChild = Binarynode(4)\n",
    "lefttree_rightchild = Binarynode(5)\n",
    "righttree_leftchild = Binarynode(6)\n",
    "righttree_rightchild = Binarynode(7)\n",
    "righttree_right_right_child = Binarynode(9)\n",
    "righttree_right_left_child = Binarynode(11)\n",
    "\n",
    "lefttree.left = lefttree_leftChild\n",
    "lefttree.right = lefttree_rightchild\n",
    "rightree.left = righttree_leftchild\n",
    "rightree.right = righttree_rightchild\n",
    "righttree_rightchild.left = righttree_right_left_child\n",
    "# righttree_rightchild.right = righttree_right_right_child\n",
    "\n",
    "root.left = lefttree\n",
    "root.right = rightree"
   ]
  },
  {
   "cell_type": "code",
   "execution_count": 60,
   "metadata": {},
   "outputs": [],
   "source": [
    "root = None"
   ]
  },
  {
   "cell_type": "code",
   "execution_count": 61,
   "metadata": {},
   "outputs": [],
   "source": [
    "def height(root):\n",
    "    if root is None:\n",
    "        return 0\n",
    "    \n",
    "    left_root = height(root.left)\n",
    "    right_root = height(root.right)\n",
    "    \n",
    "    if left_root>right_root:\n",
    "        return 1+left_root\n",
    "    return 1+right_root\n",
    "#     return left_root,right_root"
   ]
  },
  {
   "cell_type": "code",
   "execution_count": 62,
   "metadata": {},
   "outputs": [
    {
     "name": "stdout",
     "output_type": "stream",
     "text": [
      "0\n"
     ]
    }
   ],
   "source": [
    "if __name__ == \"__main__\":\n",
    "    print(height(root))"
   ]
  },
  {
   "cell_type": "code",
   "execution_count": 63,
   "metadata": {},
   "outputs": [],
   "source": [
    "def numberofleafs(root):\n",
    "    if root is None:\n",
    "        return 0\n",
    "    if root.left is None and root.right is None:\n",
    "        return 1\n",
    "    left_node  = numberofleafs(root.left)\n",
    "    right_node = numberofleafs(root.right)\n",
    "    return left_node + right_node"
   ]
  },
  {
   "cell_type": "code",
   "execution_count": 68,
   "metadata": {},
   "outputs": [
    {
     "name": "stdout",
     "output_type": "stream",
     "text": [
      "4\n"
     ]
    }
   ],
   "source": [
    "if __name__ == \"__main__\":\n",
    "    print(numberofleafs(root))"
   ]
  },
  {
   "cell_type": "code",
   "execution_count": 94,
   "metadata": {},
   "outputs": [],
   "source": [
    "def printatdepthk(root,k):\n",
    "    if root is None:\n",
    "        return \n",
    "    if k==0:\n",
    "        print(root.data)\n",
    "        return \n",
    "    printatdepthk(root.left,k-1)\n",
    "    printatdepthk(root.right,k-1)"
   ]
  },
  {
   "cell_type": "code",
   "execution_count": 95,
   "metadata": {},
   "outputs": [
    {
     "name": "stdout",
     "output_type": "stream",
     "text": [
      "4\n",
      "5\n",
      "6\n",
      "7\n",
      "None\n"
     ]
    }
   ],
   "source": [
    "if __name__ == \"__main__\":\n",
    "    \n",
    "    print(printatdepthk(root,2))"
   ]
  },
  {
   "cell_type": "code",
   "execution_count": 99,
   "metadata": {},
   "outputs": [],
   "source": [
    "def Changedepth(root,d=0):\n",
    "    if root is None:\n",
    "        return \n",
    "    root.data = d\n",
    "    print(root.data)\n",
    "    Changedepth(root.left,d+1)\n",
    "    Changedepth(root.right,d+1)"
   ]
  },
  {
   "cell_type": "code",
   "execution_count": 100,
   "metadata": {},
   "outputs": [
    {
     "name": "stdout",
     "output_type": "stream",
     "text": [
      "0\n",
      "1\n",
      "2\n",
      "2\n",
      "1\n",
      "2\n",
      "2\n",
      "3\n",
      "3\n"
     ]
    }
   ],
   "source": [
    "if __name__ == \"__main__\":\n",
    "    Changedepth(root)"
   ]
  },
  {
   "cell_type": "code",
   "execution_count": 38,
   "metadata": {},
   "outputs": [],
   "source": [
    "def isNodePresent(root, x):\n",
    "    # Write your code here.\n",
    "    \n",
    "    if root is None:\n",
    "        return \n",
    "#     print(root.data)\n",
    "    \n",
    "    if root.data == x:\n",
    "        return True\n",
    "    left_node = isNodePresent(root.left,x)\n",
    "    right_node = isNodePresent(root.right,x)\n",
    "    if left_node is not None:\n",
    "        return True\n",
    "    return right_node"
   ]
  },
  {
   "cell_type": "code",
   "execution_count": 41,
   "metadata": {},
   "outputs": [
    {
     "name": "stdout",
     "output_type": "stream",
     "text": [
      "True\n"
     ]
    }
   ],
   "source": [
    "print(isNodePresent(root,7))"
   ]
  },
  {
   "cell_type": "code",
   "execution_count": 73,
   "metadata": {},
   "outputs": [],
   "source": [
    "def printNodesWithoutSibling(root) :\n",
    "    if root is None:\n",
    "        return -1\n",
    "    if root.left is None:\n",
    "        if root.right:\n",
    "            print(root.right.data ,end = ' ')\n",
    "            \n",
    "    if root.right is None:\n",
    "        if root.left:\n",
    "            print(root.left.data ,end = ' ')\n",
    "        \n",
    "    left_node = printNodesWithoutSibling(root.left)\n",
    "    right_node = printNodesWithoutSibling(root.right)\n",
    "    return \n",
    "    "
   ]
  },
  {
   "cell_type": "code",
   "execution_count": 74,
   "metadata": {},
   "outputs": [
    {
     "name": "stdout",
     "output_type": "stream",
     "text": [
      "11 None\n"
     ]
    }
   ],
   "source": [
    "print(printNodesWithoutSibling(root))"
   ]
  },
  {
   "cell_type": "code",
   "execution_count": 10,
   "metadata": {},
   "outputs": [],
   "source": [
    "def Remove_Leaf_Nodes(root):\n",
    "    if root is None:\n",
    "        return None\n",
    "    if root.left is None and root.right is None:\n",
    "        return None\n",
    "    root.left = Remove_Leaf_Nodes(root.left)\n",
    "    root.right = Remove_Leaf_Nodes(root.right)\n",
    "    return root\n"
   ]
  },
  {
   "cell_type": "code",
   "execution_count": 13,
   "metadata": {},
   "outputs": [
    {
     "name": "stdout",
     "output_type": "stream",
     "text": [
      "1:L 2,R 3,\n",
      "2:\n",
      "3:\n",
      "None\n"
     ]
    }
   ],
   "source": [
    "if __name__ == \"__main__\":\n",
    "    root = Remove_Leaf_Nodes(root)\n",
    "    print(preorder_printnode(root))"
   ]
  },
  {
   "cell_type": "code",
   "execution_count": 27,
   "metadata": {},
   "outputs": [],
   "source": [
    "root = Binarynode(1)\n",
    "lefttree = Binarynode(2)\n",
    "rightree = Binarynode(3)\n",
    "lefttree_leftChild = Binarynode(4)\n",
    "lefttree_rightchild = Binarynode(5)\n",
    "righttree_leftchild = Binarynode(6)\n",
    "righttree_rightchild = Binarynode(7)\n",
    "\n",
    "lefttree.left = lefttree_leftChild\n",
    "lefttree.right = lefttree_rightchild\n",
    "rightree.left = righttree_leftchild\n",
    "rightree.right = righttree_rightchild\n",
    "root.left = lefttree\n",
    "root.right = rightree"
   ]
  },
  {
   "cell_type": "code",
   "execution_count": 28,
   "metadata": {},
   "outputs": [
    {
     "name": "stdout",
     "output_type": "stream",
     "text": [
      "1:L 2,R 3,\n",
      "2:L 4,R 5,\n",
      "4:\n",
      "5:\n",
      "3:L 6,R 7,\n",
      "6:\n",
      "7:\n"
     ]
    }
   ],
   "source": [
    "preorder_printnode(root)"
   ]
  },
  {
   "cell_type": "code",
   "execution_count": 31,
   "metadata": {},
   "outputs": [],
   "source": [
    "def mirror_node(root):\n",
    "    if root is None:\n",
    "        return None\n",
    "    root.right,root.left = mirror_node(root.left),mirror_node(root.right)\n",
    "#     root.left = mirror_node(root.right)\n",
    "    return root"
   ]
  },
  {
   "cell_type": "code",
   "execution_count": 32,
   "metadata": {},
   "outputs": [
    {
     "name": "stdout",
     "output_type": "stream",
     "text": [
      "1:L 3,R 2,\n",
      "3:L 7,R 6,\n",
      "7:\n",
      "6:\n",
      "2:L 5,R 4,\n",
      "5:\n",
      "4:\n",
      "None\n"
     ]
    }
   ],
   "source": [
    "if __name__ == \"__main__\":\n",
    "    Root2 = mirror_node(root)\n",
    "    print(preorder_printnode(Root2))"
   ]
  },
  {
   "cell_type": "code",
   "execution_count": null,
   "metadata": {},
   "outputs": [],
   "source": []
  }
 ],
 "metadata": {
  "kernelspec": {
   "display_name": "Python 3",
   "language": "python",
   "name": "python3"
  },
  "language_info": {
   "codemirror_mode": {
    "name": "ipython",
    "version": 3
   },
   "file_extension": ".py",
   "mimetype": "text/x-python",
   "name": "python",
   "nbconvert_exporter": "python",
   "pygments_lexer": "ipython3",
   "version": "3.8.5"
  }
 },
 "nbformat": 4,
 "nbformat_minor": 4
}
